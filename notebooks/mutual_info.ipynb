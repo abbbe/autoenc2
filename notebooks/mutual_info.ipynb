{
 "cells": [
  {
   "cell_type": "code",
   "execution_count": 1,
   "id": "anonymous-archives",
   "metadata": {
    "scrolled": true,
    "tags": []
   },
   "outputs": [
    {
     "name": "stderr",
     "output_type": "stream",
     "text": [
      "2021-03-07 02:39:43,046 - root - INFO - processing fname=C:\\Users\\alexa\\Documents\\dvp\\autoenc2\\data\\output\\twoballs\\imgs\\epochs_1-0.csv\n"
     ]
    },
    {
     "name": "stdout",
     "output_type": "stream",
     "text": [
      "epoch 1, round 0\n"
     ]
    },
    {
     "name": "stderr",
     "output_type": "stream",
     "text": [
      "2021-03-07 02:39:45,386 - root - INFO - processing fname=C:\\Users\\alexa\\Documents\\dvp\\autoenc2\\data\\output\\twoballs\\imgs\\epochs_1-1.csv\n"
     ]
    },
    {
     "name": "stdout",
     "output_type": "stream",
     "text": [
      "epoch 1, round 1\n"
     ]
    },
    {
     "name": "stderr",
     "output_type": "stream",
     "text": [
      "2021-03-07 02:39:47,683 - root - INFO - processing fname=C:\\Users\\alexa\\Documents\\dvp\\autoenc2\\data\\output\\twoballs\\imgs\\epochs_1-2.csv\n"
     ]
    },
    {
     "name": "stdout",
     "output_type": "stream",
     "text": [
      "epoch 1, round 2\n"
     ]
    },
    {
     "name": "stderr",
     "output_type": "stream",
     "text": [
      "2021-03-07 02:39:50,016 - root - INFO - processing fname=C:\\Users\\alexa\\Documents\\dvp\\autoenc2\\data\\output\\twoballs\\imgs\\epochs_10-0.csv\n"
     ]
    },
    {
     "name": "stdout",
     "output_type": "stream",
     "text": [
      "epoch 10, round 0\n"
     ]
    },
    {
     "name": "stderr",
     "output_type": "stream",
     "text": [
      "2021-03-07 02:39:52,263 - root - INFO - processing fname=C:\\Users\\alexa\\Documents\\dvp\\autoenc2\\data\\output\\twoballs\\imgs\\epochs_10-1.csv\n"
     ]
    },
    {
     "name": "stdout",
     "output_type": "stream",
     "text": [
      "epoch 10, round 1\n"
     ]
    },
    {
     "name": "stderr",
     "output_type": "stream",
     "text": [
      "2021-03-07 02:39:54,505 - root - INFO - processing fname=C:\\Users\\alexa\\Documents\\dvp\\autoenc2\\data\\output\\twoballs\\imgs\\epochs_10-2.csv\n"
     ]
    },
    {
     "name": "stdout",
     "output_type": "stream",
     "text": [
      "epoch 10, round 2\n"
     ]
    },
    {
     "name": "stderr",
     "output_type": "stream",
     "text": [
      "2021-03-07 02:39:56,798 - root - INFO - processing fname=C:\\Users\\alexa\\Documents\\dvp\\autoenc2\\data\\output\\twoballs\\imgs\\epochs_2-0.csv\n"
     ]
    },
    {
     "name": "stdout",
     "output_type": "stream",
     "text": [
      "epoch 2, round 0\n"
     ]
    },
    {
     "name": "stderr",
     "output_type": "stream",
     "text": [
      "2021-03-07 02:39:59,065 - root - INFO - processing fname=C:\\Users\\alexa\\Documents\\dvp\\autoenc2\\data\\output\\twoballs\\imgs\\epochs_2-1.csv\n"
     ]
    },
    {
     "name": "stdout",
     "output_type": "stream",
     "text": [
      "epoch 2, round 1\n"
     ]
    },
    {
     "name": "stderr",
     "output_type": "stream",
     "text": [
      "2021-03-07 02:40:01,363 - root - INFO - processing fname=C:\\Users\\alexa\\Documents\\dvp\\autoenc2\\data\\output\\twoballs\\imgs\\epochs_2-2.csv\n"
     ]
    },
    {
     "name": "stdout",
     "output_type": "stream",
     "text": [
      "epoch 2, round 2\n"
     ]
    },
    {
     "name": "stderr",
     "output_type": "stream",
     "text": [
      "2021-03-07 02:40:03,622 - root - INFO - processing fname=C:\\Users\\alexa\\Documents\\dvp\\autoenc2\\data\\output\\twoballs\\imgs\\epochs_20-0.csv\n"
     ]
    },
    {
     "name": "stdout",
     "output_type": "stream",
     "text": [
      "epoch 20, round 0\n"
     ]
    },
    {
     "name": "stderr",
     "output_type": "stream",
     "text": [
      "2021-03-07 02:40:05,857 - root - INFO - processing fname=C:\\Users\\alexa\\Documents\\dvp\\autoenc2\\data\\output\\twoballs\\imgs\\epochs_20-1.csv\n"
     ]
    },
    {
     "name": "stdout",
     "output_type": "stream",
     "text": [
      "epoch 20, round 1\n"
     ]
    },
    {
     "name": "stderr",
     "output_type": "stream",
     "text": [
      "2021-03-07 02:40:08,096 - root - INFO - processing fname=C:\\Users\\alexa\\Documents\\dvp\\autoenc2\\data\\output\\twoballs\\imgs\\epochs_20-2.csv\n"
     ]
    },
    {
     "name": "stdout",
     "output_type": "stream",
     "text": [
      "epoch 20, round 2\n"
     ]
    },
    {
     "name": "stderr",
     "output_type": "stream",
     "text": [
      "2021-03-07 02:40:10,388 - root - INFO - processing fname=C:\\Users\\alexa\\Documents\\dvp\\autoenc2\\data\\output\\twoballs\\imgs\\epochs_5-0.csv\n"
     ]
    },
    {
     "name": "stdout",
     "output_type": "stream",
     "text": [
      "epoch 5, round 0\n"
     ]
    },
    {
     "name": "stderr",
     "output_type": "stream",
     "text": [
      "2021-03-07 02:40:12,648 - root - INFO - processing fname=C:\\Users\\alexa\\Documents\\dvp\\autoenc2\\data\\output\\twoballs\\imgs\\epochs_5-1.csv\n"
     ]
    },
    {
     "name": "stdout",
     "output_type": "stream",
     "text": [
      "epoch 5, round 1\n"
     ]
    },
    {
     "name": "stderr",
     "output_type": "stream",
     "text": [
      "2021-03-07 02:40:14,904 - root - INFO - processing fname=C:\\Users\\alexa\\Documents\\dvp\\autoenc2\\data\\output\\twoballs\\imgs\\epochs_5-2.csv\n"
     ]
    },
    {
     "name": "stdout",
     "output_type": "stream",
     "text": [
      "epoch 5, round 2\n"
     ]
    },
    {
     "name": "stderr",
     "output_type": "stream",
     "text": [
      "2021-03-07 02:40:17,181 - root - INFO - processing fname=C:\\Users\\alexa\\Documents\\dvp\\autoenc2\\data\\output\\twoballs\\imgs\\epochs_50-0.csv\n"
     ]
    },
    {
     "name": "stdout",
     "output_type": "stream",
     "text": [
      "epoch 50, round 0\n"
     ]
    },
    {
     "name": "stderr",
     "output_type": "stream",
     "text": [
      "2021-03-07 02:40:19,462 - root - INFO - processing fname=C:\\Users\\alexa\\Documents\\dvp\\autoenc2\\data\\output\\twoballs\\imgs\\epochs_50-1.csv\n"
     ]
    },
    {
     "name": "stdout",
     "output_type": "stream",
     "text": [
      "epoch 50, round 1\n"
     ]
    },
    {
     "name": "stderr",
     "output_type": "stream",
     "text": [
      "2021-03-07 02:40:21,789 - root - INFO - processing fname=C:\\Users\\alexa\\Documents\\dvp\\autoenc2\\data\\output\\twoballs\\imgs\\epochs_50-2.csv\n"
     ]
    },
    {
     "name": "stdout",
     "output_type": "stream",
     "text": [
      "epoch 50, round 2\n",
      "[[[1.00000000e+00 1.00000000e+00 1.00000000e+00 1.00000000e+00\n",
      "   1.00000000e+00 1.00000000e+00 1.00000000e+00 1.00000000e+00\n",
      "   1.00000000e+00 1.00000000e+00 1.00000000e+00 1.00000000e+00\n",
      "   1.00000000e+00 1.00000000e+00 1.00000000e+00 1.00000000e+00\n",
      "   1.00000000e+00 1.00000000e+00]\n",
      "  [3.32299572e-04 3.28468459e-04 2.40433869e-04 2.10496933e-04\n",
      "   0.00000000e+00 1.96586284e-04 1.49290743e-04 8.24753640e-05\n",
      "   3.46301805e-04 1.46802630e-04 1.97407573e-04 1.08976861e-04\n",
      "   0.00000000e+00 1.37367017e-04 3.73383520e-04 9.08480142e-05\n",
      "   1.19703857e-04 2.09536350e-04]\n",
      "  [1.75738589e-03 2.61214278e-04 4.77944803e-04 2.07410004e-01\n",
      "   6.36846152e-03 1.75179471e-01 2.12089229e-01 2.40698522e-01\n",
      "   1.99084607e-01 1.32566472e-01 1.40852674e-01 2.19611929e-01\n",
      "   1.97182345e-01 1.15401018e-01 3.35028587e-01 1.29520448e-01\n",
      "   1.26220596e-01 1.83045438e-01]\n",
      "  [3.32684702e-03 4.41048523e-04 0.00000000e+00 1.46956713e-01\n",
      "   7.37999785e-03 1.63514470e-01 1.83056819e-01 1.72459110e-01\n",
      "   1.91429482e-01 3.23073217e-01 2.40722703e-01 1.55679593e-01\n",
      "   1.36898017e-01 2.54394196e-01 1.26085312e-01 2.04584847e-01\n",
      "   3.45401344e-01 1.29645014e-01]]\n",
      "\n",
      " [[3.77205195e-05 1.05099745e-04 0.00000000e+00 0.00000000e+00\n",
      "   2.69160482e-04 4.05423346e-04 1.70093815e-04 3.12211004e-04\n",
      "   1.27855265e-04 3.46961628e-04 8.55490839e-06 3.95142631e-04\n",
      "   0.00000000e+00 2.29766088e-04 3.71590503e-04 3.99553503e-04\n",
      "   2.93564967e-04 1.21891461e-04]\n",
      "  [1.00000000e+00 1.00000000e+00 1.00000000e+00 1.00000000e+00\n",
      "   1.00000000e+00 1.00000000e+00 1.00000000e+00 1.00000000e+00\n",
      "   1.00000000e+00 1.00000000e+00 1.00000000e+00 1.00000000e+00\n",
      "   1.00000000e+00 1.00000000e+00 1.00000000e+00 1.00000000e+00\n",
      "   1.00000000e+00 1.00000000e+00]\n",
      "  [1.22265736e-03 1.29332414e-04 0.00000000e+00 1.20959425e-02\n",
      "   6.72909740e-04 1.37563321e-02 6.38473472e-02 4.68684177e-02\n",
      "   6.31145487e-02 4.51890312e-02 1.07598165e-01 5.32449702e-02\n",
      "   1.06058357e-01 8.70045838e-02 5.73275126e-02 1.05998053e-01\n",
      "   9.67133157e-02 1.08872081e-01]\n",
      "  [0.00000000e+00 0.00000000e+00 0.00000000e+00 1.24211608e-02\n",
      "   1.52434823e-03 9.76252182e-03 4.13124391e-02 4.43085787e-02\n",
      "   6.77510033e-02 5.31741879e-02 5.91419635e-02 4.99153847e-02\n",
      "   6.84027591e-02 7.22439332e-02 8.34045253e-02 7.80368522e-02\n",
      "   8.14462856e-02 9.85604790e-02]]\n",
      "\n",
      " [[9.60339106e-04 0.00000000e+00 5.23931087e-04 1.26912230e-01\n",
      "   4.00603777e-03 1.07436845e-01 1.29972982e-01 1.47694012e-01\n",
      "   1.22111120e-01 8.11339080e-02 8.64963362e-02 1.34765574e-01\n",
      "   1.21067488e-01 7.10674920e-02 2.05878458e-01 7.94345900e-02\n",
      "   7.74449037e-02 1.12427626e-01]\n",
      "  [1.04645013e-03 1.52847836e-04 0.00000000e+00 7.50945523e-03\n",
      "   3.79018787e-04 8.44165023e-03 3.90591215e-02 2.88743361e-02\n",
      "   3.87211839e-02 2.78502210e-02 6.60463622e-02 3.27818982e-02\n",
      "   6.50165919e-02 5.33986323e-02 3.50015797e-02 6.50262009e-02\n",
      "   5.93629922e-02 6.68100915e-02]\n",
      "  [1.00000000e+00 1.00000000e+00 1.00000000e+00 1.00000000e+00\n",
      "   1.00000000e+00 1.00000000e+00 1.00000000e+00 1.00000000e+00\n",
      "   1.00000000e+00 1.00000000e+00 1.00000000e+00 1.00000000e+00\n",
      "   1.00000000e+00 1.00000000e+00 1.00000000e+00 1.00000000e+00\n",
      "   1.00000000e+00 1.00000000e+00]\n",
      "  [3.48687575e-04 2.95745570e-04 4.56364669e-04 4.09406074e-02\n",
      "   0.00000000e+00 3.96089926e-02 2.05449748e-02 3.30498463e-02\n",
      "   2.92483182e-02 3.00471387e-02 2.88684186e-02 2.76098641e-02\n",
      "   3.05169943e-02 3.89583955e-02 4.13513648e-02 5.12779818e-02\n",
      "   5.31625603e-02 4.14038321e-02]]\n",
      "\n",
      " [[2.07453501e-03 3.02851943e-04 0.00000000e+00 9.01214924e-02\n",
      "   4.63871426e-03 1.00196748e-01 1.11919200e-01 1.05717385e-01\n",
      "   1.17173452e-01 1.97849837e-01 1.47621157e-01 9.55737342e-02\n",
      "   8.37448609e-02 1.56148361e-01 7.75054929e-02 1.25369635e-01\n",
      "   2.11625481e-01 7.95245847e-02]\n",
      "  [0.00000000e+00 0.00000000e+00 0.00000000e+00 7.68377470e-03\n",
      "   6.10590705e-04 6.01395568e-03 2.53180118e-02 2.73053851e-02\n",
      "   4.13842797e-02 3.27766521e-02 3.60669251e-02 3.06686903e-02\n",
      "   4.21219292e-02 4.43120895e-02 5.11330668e-02 4.79416874e-02\n",
      "   4.96518140e-02 6.04267173e-02]\n",
      "  [3.49099433e-04 2.95951940e-04 4.56444354e-04 4.09408475e-02\n",
      "   0.00000000e+00 3.96086542e-02 2.05449038e-02 3.30498539e-02\n",
      "   2.92483985e-02 3.00476758e-02 2.88683987e-02 2.76097379e-02\n",
      "   3.05171008e-02 3.89582071e-02 4.13512384e-02 5.12787093e-02\n",
      "   5.31622824e-02 4.14036455e-02]\n",
      "  [1.00000000e+00 1.00000000e+00 1.00000000e+00 1.00000000e+00\n",
      "   1.00000000e+00 1.00000000e+00 1.00000000e+00 1.00000000e+00\n",
      "   1.00000000e+00 1.00000000e+00 1.00000000e+00 1.00000000e+00\n",
      "   1.00000000e+00 1.00000000e+00 1.00000000e+00 1.00000000e+00\n",
      "   1.00000000e+00 1.00000000e+00]]]\n"
     ]
    }
   ],
   "source": [
    "import os\n",
    "import glob\n",
    "import numpy as np\n",
    "\n",
    "import logging\n",
    "from src.config import output_data_dir\n",
    "\n",
    "import matplotlib.pyplot as plt\n",
    "\n",
    "import re\n",
    "from sklearn.feature_selection import f_regression, mutual_info_regression\n",
    "\n",
    "def find_csv_filenames(path_to_dir, suffix=\".csv\" ):\n",
    "    filenames = os.listdir(path_to_dir)\n",
    "    return [ filename for filename in filenames if filename.endswith( suffix ) ]\n",
    "\n",
    "\n",
    "csv_dir = os.path.join(output_data_dir, \"twoballs\\imgs\")\n",
    "\n",
    "VAR_NAMES = ['A0', 'A1', 'L0', 'L1']\n",
    "EPOCH_IDX = dict({1:0, 2:1, 5:2, 10:3, 20:4, 50:5})\n",
    "\n",
    "EPOCH = np.zeros((4,4,18))\n",
    "MI = np.zeros((4,4,18))\n",
    "      \n",
    "def handle(data, epoch, nround):\n",
    "    print(\"epoch %d, round %d\" % (epoch, nround))\n",
    "    N = data.shape[1]\n",
    "    assert(N == 4)\n",
    "    \n",
    "    k = EPOCH_IDX[epoch] * 3 + nround\n",
    "    \n",
    "    for i in range(N):\n",
    "        mi = mutual_info_regression(data, (data[:,i]))\n",
    "        mi /= np.max(mi)\n",
    "  \n",
    "        for j in range(N):\n",
    "            EPOCH[i, j, k] = epoch\n",
    "            MI[i, j, k] = mi[j]\n",
    "    \n",
    "for fname in find_csv_filenames(csv_dir):\n",
    "    fpath = os.path.join(csv_dir, fname)\n",
    "\n",
    "    logging.info(\"processing fname=%s\" % fpath)\n",
    "    \n",
    "    my_data = np.genfromtxt(fpath, delimiter=',')\n",
    "    m = re.match(r'epochs_(\\d+)-(\\d+).csv', fname)\n",
    "    if not m:\n",
    "        logger.error(\"file name %s does not match pattern\" % fpath)\n",
    "        continue\n",
    "        \n",
    "    epoch, round = m.group(1), m.group(2)\n",
    "    handle(my_data, int(epoch), int(round))\n",
    "    \n",
    "print(MI)"
   ]
  },
  {
   "cell_type": "code",
   "execution_count": 7,
   "id": "surprising-shock",
   "metadata": {},
   "outputs": [
    {
     "data": {
      "image/png": "[encoded data removed]",
      "text/plain": [
       "<Figure size 1152x1152 with 16 Axes>"
      ]
     },
     "metadata": {
      "needs_background": "light"
     },
     "output_type": "display_data"
    }
   ],
   "source": [
    "fig, axs = plt.subplots(4, 4, figsize=(16,16))\n",
    "fig.tight_layout()\n",
    "\n",
    "for i in range(4):\n",
    "    for j in range(4):\n",
    "        axs[i,j].scatter(EPOCH[i,j], MI[i,j])\n",
    "    "
   ]
  },
  {
   "cell_type": "code",
   "execution_count": null,
   "id": "divided-breathing",
   "metadata": {},
   "outputs": [],
   "source": []
  },
  {
   "cell_type": "code",
   "execution_count": null,
   "id": "micro-european",
   "metadata": {},
   "outputs": [],
   "source": []
  }
 ],
 "metadata": {
  "kernelspec": {
   "display_name": "Python 3",
   "language": "python",
   "name": "python3"
  },
  "language_info": {
   "codemirror_mode": {
    "name": "ipython",
    "version": 3
   },
   "file_extension": ".py",
   "mimetype": "text/x-python",
   "name": "python",
   "nbconvert_exporter": "python",
   "pygments_lexer": "ipython3",
   "version": "3.6.12"
  }
 },
 "nbformat": 4,
 "nbformat_minor": 5
}
