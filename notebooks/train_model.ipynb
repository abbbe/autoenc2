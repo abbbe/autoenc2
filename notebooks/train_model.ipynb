{
 "cells": [
  {
   "cell_type": "markdown",
   "metadata": {},
   "source": [
    "This notebook implements autoencoder trial run cycles.\n",
    "\n",
    "* Define\n",
    "    * trial name\n",
    "    * environment to work with (MyBallsEnv, MyArmEnv, GymArmEnv)\n",
    "    * dataset to use (set of 3 npz files for train, test and grid visualization, each file contains many angle/image pairs)\n",
    "    * model builder\n",
    "    * list of parameters to try\n",
    "    * number of epochs to run \n",
    "    * output directory\n",
    "* Run\n",
    "    * fails if output directory exists, otherwise creates it\n",
    "    * chooses a set of model parameters\n",
    "Thursday 4/03/2021\n",
    "\n",
    "* Visualize YYs (third output sheet or animated GIF) to assess decoder performance\n",
    "* Rerun with [2, 10, 50] epochs\n",
    "* Implement beta-VAE (see beta-vae notebook)\n",
    "\n",
    "Next:\n",
    "\n",
    "* Explore impact of changing filters chain down to 2x (2,2)\n",
    "* Scatterplot 3D\n",
    "* How does it fluctuate depending on network architecture, nlats, training protocol, etc\n",
    "* Explore fold area in L0/L1 space. For each frame show:\n",
    " * image of gym robot,\n",
    " * colored L0/L1 scatterplot, with a red cross showing current latent state,\n",
    " * image reconstructed by the autoencoder"
   ]
  },
  {
   "cell_type": "markdown",
   "metadata": {},
   "source": [
    "### imports"
   ]
  },
  {
   "cell_type": "code",
   "execution_count": 1,
   "metadata": {
    "colab": {
     "base_uri": "https://localhost:8080/"
    },
    "id": "OoMQk_5c4UYm",
    "outputId": "02cc896f-38e0-4a92-81ce-c20a7322369d"
   },
   "outputs": [],
   "source": [
    "%load_ext autoreload\n",
    "%autoreload 2\n",
    "\n",
    "%matplotlib inline\n",
    "import matplotlib.pyplot as plt\n",
    "\n",
    "%load_ext tensorboard\n",
    "\n",
    "import numpy as np\n",
    "import os, datetime\n",
    "\n",
    "import tensorflow as tf\n",
    "from tensorflow import keras\n",
    "from tensorflow.keras import layers\n",
    "\n",
    "from src.config import output_data_dir\n",
    "\n",
    "import logging\n",
    "logger = logging.getLogger(__name__)\n"
   ]
  },
  {
   "cell_type": "markdown",
   "metadata": {},
   "source": [
    "### helpers"
   ]
  },
  {
   "cell_type": "code",
   "execution_count": 2,
   "metadata": {},
   "outputs": [],
   "source": [
    "def cycle_autoencoder(ae, dataset, prefix=\"\", N=10, vae=False, display=False):\n",
    "    Y = dataset['images']\n",
    "    \n",
    "    if display:\n",
    "        print(\"Y.shape=\" + str(Y.shape))\n",
    "    L = ae['enc'].predict(Y)\n",
    "    L = np.array(L)\n",
    "    if display:\n",
    "        print(\"L.shape=\" + str(L.shape))\n",
    "\n",
    "    if vae:\n",
    "        L = np.array(L)[2] # [z_mean, z_log_var, z] - take Z\n",
    "\n",
    "    YY = ae['dec'].predict(L)\n",
    "    YY = np.array(YY)\n",
    "    if display:\n",
    "        print(\"YY.shape=\" + str(YY.shape))\n",
    "    \n",
    "    out_data = dict()\n",
    "    out_data['latvars'] = L\n",
    "    out_data['rec_images'] = YY\n",
    "\n",
    "    # - Y\n",
    "    if display:\n",
    "        plot_Ys(Y[0:N,...], title=\"First %d elements of %sY\" % (N, prefix))\n",
    "\n",
    "        # - L\n",
    "        fig, axs = plt.subplots(1, L.shape[1])\n",
    "        fig.suptitle(\"Latent variables %s\" % (str(L.shape)))\n",
    "        for i in range(L.shape[1]):\n",
    "            axs[i].hist(L[:,i])    \n",
    "\n",
    "        # - YY\n",
    "        plot_Ys(YY[0:N,...], title=\"First %d elements of %sYY\" % (N, prefix))\n",
    "\n",
    "        display_xvars(data)\n",
    "    \n",
    "    return out_data    "
   ]
  },
  {
   "cell_type": "markdown",
   "metadata": {},
   "source": [
    "### environment"
   ]
  },
  {
   "cell_type": "code",
   "execution_count": 3,
   "metadata": {},
   "outputs": [],
   "source": [
    "import src.models.vae\n",
    "\n",
    "# define ae builder method and environment name\n",
    "ae_builder = src.models.vae.build_autoencoder\n",
    "ENV_NAME = \"twoballs\""
   ]
  },
  {
   "cell_type": "markdown",
   "metadata": {},
   "source": [
    "### subdirectories"
   ]
  },
  {
   "cell_type": "code",
   "execution_count": 4,
   "metadata": {},
   "outputs": [],
   "source": [
    "TRIAL_DIR = os.path.join(output_data_dir, ENV_NAME) # FUXNE\n",
    "\n",
    "# fail if TRIAL_DIR exists\n",
    "assert(not os.path.exists(TRIAL_DIR))\n",
    "    \n",
    "# create trial subdirs\n",
    "TENSORBOARD_LOGS_DIR =  \"%s/tensorboard-logs\" % TRIAL_DIR\n",
    "TRAINED_MODELS_DIR = \"%s/trained-models\" % TRIAL_DIR\n",
    "#DATA_DIR = \"%s/data\" % TRIAL_DIR\n",
    "IMGS_DIR = \"%s/imgs\" % TRIAL_DIR\n",
    "\n",
    "#for dir in [TENSORBOARD_LOGS_DIR, TRAINED_MODELS_DIR, DATA_DIR, IMGS_DIR]:\n",
    "for dir in [TENSORBOARD_LOGS_DIR, TRAINED_MODELS_DIR, IMGS_DIR]:\n",
    "    os.makedirs(dir, exist_ok=True)"
   ]
  },
  {
   "cell_type": "markdown",
   "metadata": {},
   "source": [
    "### load datasets"
   ]
  },
  {
   "cell_type": "code",
   "execution_count": 5,
   "metadata": {
    "scrolled": true
   },
   "outputs": [
    {
     "name": "stderr",
     "output_type": "stream",
     "text": [
      "2021-03-07 09:35:48,012 - src.data.dataset - INFO - Loading from C:\\Users\\alexa\\Documents\\dvp\\autoenc2\\data\\processed\\twoballs_rand_15000.npz ...\n",
      "2021-03-07 09:35:48,997 - src.data.dataset - INFO - Loaded 15000 datapoints from C:\\Users\\alexa\\Documents\\dvp\\autoenc2\\data\\processed\\twoballs_rand_15000.npz\n",
      "2021-03-07 09:35:48,997 - src.data.dataset - INFO - Loading from C:\\Users\\alexa\\Documents\\dvp\\autoenc2\\data\\processed\\twoballs_rand_1000.npz ...\n",
      "2021-03-07 09:35:49,063 - src.data.dataset - INFO - Loaded 1000 datapoints from C:\\Users\\alexa\\Documents\\dvp\\autoenc2\\data\\processed\\twoballs_rand_1000.npz\n",
      "2021-03-07 09:35:49,063 - src.data.dataset - INFO - Loading from C:\\Users\\alexa\\Documents\\dvp\\autoenc2\\data\\processed\\twoballs_grid_20_500.npz ...\n",
      "2021-03-07 09:35:50,366 - src.data.dataset - INFO - Loaded 20000 datapoints from C:\\Users\\alexa\\Documents\\dvp\\autoenc2\\data\\processed\\twoballs_grid_20_500.npz\n"
     ]
    }
   ],
   "source": [
    "from src.data.dataset import load_datasets\n",
    "\n",
    "datasets = load_datasets(ENV_NAME)"
   ]
  },
  {
   "cell_type": "markdown",
   "metadata": {},
   "source": [
    "### train"
   ]
  },
  {
   "cell_type": "code",
   "execution_count": 6,
   "metadata": {
    "scrolled": true
   },
   "outputs": [],
   "source": [
    "from src.models import save_models, save_models_weights\n",
    "from src.visualization.lat import visualize_lat_space, animate_Y_YYs\n",
    "\n",
    "def save_visualization(dataset, dataset_grid_out, round, epoch):\n",
    "    vis_fname = \"%s/round-%d_epoch-%d.png\" % (IMGS_DIR, round, epoch)\n",
    "    ani_fname = \"%s/round-%d_epoch-%d.mp4\" % (IMGS_DIR, round, epoch)\n",
    "\n",
    "    # save 4x4 visualization of pairwise plots of latvars vs angles\n",
    "    fig, axs = visualize_lat_space(dataset['grid'], dataset_grid_out, sheet=1)\n",
    "    fig.savefig(vis_fname)\n",
    "    fig.clf() # FIXME - not helping, figures still exist and slow things down\n",
    "    \n",
    "    #vis_fname2 = \"%s/%sb.png\" % (IMGS_DIR, suffix)\n",
    "    #fig, axs = visualize_lat_space(dataset['grid'], dataset_grid_out, sheet=2)\n",
    "    #fig.savefig(vis_fname2)\n",
    "    #fig.clf() # FIXME - not helping, figures still exist and slow things down\n",
    "\n",
    "    # save MP4\n",
    "    NANIFRAMES = 20\n",
    "    logger.debug(\"saving ani visualization (for %d datapoints from grid dataset) into %s\" % (NANIFRAMES, ani_fname))\n",
    "    rng = np.random.default_rng()\n",
    "    ani_is = rng.choice(range(dataset['grid']['images'].shape[0]), size=NANIFRAMES) # choose 20 random items from the dataset_grid\n",
    "    animate_Y_YYs(dataset['grid']['images'][ani_is], dataset_grid_out['rec_images'][ani_is], outfile=ani_fname)\n",
    "\n",
    "def run_round(datasets, ae_builder, params, round):\n",
    "    #if os.path.isfile(latvars_fname):\n",
    "    #    logger.error(\"%s exists, skipping ...\" % latvars_fname)\n",
    "    #    return\n",
    "    \n",
    "    print(\"*** run_round(%d, %s)\" % (round, str(params)))\n",
    "    \n",
    "    keras.backend.clear_session()\n",
    "    plt.close('all')\n",
    "    \n",
    "    models = ae_builder((64, 64, 1), 2, params)\n",
    "\n",
    "    tensorboard_logdir = os.path.join((\"%s/round-%d\" % (TENSORBOARD_LOGS_DIR, round)),\n",
    "                                      datetime.datetime.now().strftime(\"%Y%m%d-%H%M%S\"))\n",
    "    tensorboard_callback = keras.callbacks.TensorBoard(tensorboard_logdir) #, histogram_freq=1)\n",
    "\n",
    "    for epoch in range(params['epochs']):\n",
    "        logger.info(\"round-%d_epoch-%d: fit\" % (round, epoch))\n",
    "        models['ae'].fit(datasets['train']['images'], callbacks=[tensorboard_callback],\n",
    "               initial_epoch=epoch, epochs=epoch+1, batch_size=128)\n",
    "        save_models_weights(models, \"%s/round-%d_epoch-%d\" % (TRAINED_MODELS_DIR, round, epoch))\n",
    "\n",
    "        logger.info(\"round-%d_epoch-%d: cycle\" % (round, epoch))\n",
    "        dataset_grid_out = cycle_autoencoder(models, datasets['grid'], vae=True, display=False)\n",
    "        save_visualization(datasets, dataset_grid_out, round, epoch)\n",
    "    \n",
    "        # save angles & latvars for grid dataset\n",
    "        dataset_test_out = cycle_autoencoder(models, datasets['test'], vae=True, display=False)\n",
    "        latvars_fname = \"%s/round-%d_epoch-%d.csv\" % (IMGS_DIR, round, epoch)\n",
    "        angles_latvars = np.hstack((datasets['test']['angles'], dataset_test_out['latvars']))\n",
    "        np.savetxt(latvars_fname, angles_latvars, delimiter=',')"
   ]
  },
  {
   "cell_type": "code",
   "execution_count": null,
   "metadata": {
    "tags": []
   },
   "outputs": [
    {
     "name": "stdout",
     "output_type": "stream",
     "text": [
      "*** run_round(0, {'epochs': 250})\n"
     ]
    },
    {
     "name": "stderr",
     "output_type": "stream",
     "text": [
      "2021-03-07 09:35:52,005 - __main__ - INFO - round-0_epoch-0: fit\n"
     ]
    },
    {
     "name": "stdout",
     "output_type": "stream",
     "text": [
      "118/118 [==============================] - 7s 34ms/step - loss: 995.1547 - reconstruction_loss: 319.2461 - kl_loss: 51.3371\n"
     ]
    },
    {
     "name": "stderr",
     "output_type": "stream",
     "text": [
      "2021-03-07 09:35:59,108 - __main__ - INFO - round-0_epoch-0: cycle\n",
      "2021-03-07 09:36:04,939 - __main__ - INFO - round-0_epoch-1: fit\n"
     ]
    },
    {
     "name": "stdout",
     "output_type": "stream",
     "text": [
      "Epoch 2/2\n",
      "118/118 [==============================] - 4s 34ms/step - loss: 69.7822 - reconstruction_loss: 65.6339 - kl_loss: 3.1687\n"
     ]
    },
    {
     "name": "stderr",
     "output_type": "stream",
     "text": [
      "2021-03-07 09:36:09,186 - __main__ - INFO - round-0_epoch-1: cycle\n",
      "2021-03-07 09:36:14,561 - __main__ - INFO - round-0_epoch-2: fit\n"
     ]
    },
    {
     "name": "stdout",
     "output_type": "stream",
     "text": [
      "Epoch 3/3\n",
      "118/118 [==============================] - 4s 33ms/step - loss: 66.0784 - reconstruction_loss: 63.2394 - kl_loss: 1.6882: 0s - loss: 66.2766 - reconstruction_loss: 63.7374 - kl_l\n"
     ]
    },
    {
     "name": "stderr",
     "output_type": "stream",
     "text": [
      "2021-03-07 09:36:18,689 - __main__ - INFO - round-0_epoch-2: cycle\n",
      "2021-03-07 09:36:24,116 - __main__ - INFO - round-0_epoch-3: fit\n"
     ]
    },
    {
     "name": "stdout",
     "output_type": "stream",
     "text": [
      "Epoch 4/4\n",
      "118/118 [==============================] - 4s 33ms/step - loss: 53.0983 - reconstruction_loss: 45.3744 - kl_loss: 3.5416\n"
     ]
    },
    {
     "name": "stderr",
     "output_type": "stream",
     "text": [
      "2021-03-07 09:36:28,315 - __main__ - INFO - round-0_epoch-3: cycle\n",
      "2021-03-07 09:36:33,913 - __main__ - INFO - round-0_epoch-4: fit\n"
     ]
    },
    {
     "name": "stdout",
     "output_type": "stream",
     "text": [
      "Epoch 5/5\n",
      "118/118 [==============================] - 4s 33ms/step - loss: 42.3462 - reconstruction_loss: 36.5932 - kl_loss: 4.6338\n"
     ]
    },
    {
     "name": "stderr",
     "output_type": "stream",
     "text": [
      "2021-03-07 09:36:38,070 - __main__ - INFO - round-0_epoch-4: cycle\n",
      "2021-03-07 09:36:43,509 - __main__ - INFO - round-0_epoch-5: fit\n"
     ]
    },
    {
     "name": "stdout",
     "output_type": "stream",
     "text": [
      "Epoch 6/6\n",
      "118/118 [==============================] - 4s 33ms/step - loss: 37.8681 - reconstruction_loss: 31.7537 - kl_loss: 5.1819\n"
     ]
    },
    {
     "name": "stderr",
     "output_type": "stream",
     "text": [
      "2021-03-07 09:36:47,643 - __main__ - INFO - round-0_epoch-5: cycle\n",
      "2021-03-07 09:36:53,092 - __main__ - INFO - round-0_epoch-6: fit\n"
     ]
    },
    {
     "name": "stdout",
     "output_type": "stream",
     "text": [
      "Epoch 7/7\n",
      "118/118 [==============================] - 4s 33ms/step - loss: 35.2552 - reconstruction_loss: 29.4275 - kl_loss: 5.4936\n"
     ]
    },
    {
     "name": "stderr",
     "output_type": "stream",
     "text": [
      "2021-03-07 09:36:57,231 - __main__ - INFO - round-0_epoch-6: cycle\n",
      "2021-03-07 09:37:02,758 - __main__ - INFO - round-0_epoch-7: fit\n"
     ]
    },
    {
     "name": "stdout",
     "output_type": "stream",
     "text": [
      "Epoch 8/8\n",
      "118/118 [==============================] - 4s 33ms/step - loss: 34.2607 - reconstruction_loss: 28.3091 - kl_loss: 5.6373\n"
     ]
    },
    {
     "name": "stderr",
     "output_type": "stream",
     "text": [
      "2021-03-07 09:37:06,927 - __main__ - INFO - round-0_epoch-7: cycle\n",
      "2021-03-07 09:37:12,463 - __main__ - INFO - round-0_epoch-8: fit\n"
     ]
    },
    {
     "name": "stdout",
     "output_type": "stream",
     "text": [
      "Epoch 9/9\n",
      "118/118 [==============================] - 4s 33ms/step - loss: 33.5758 - reconstruction_loss: 27.6095 - kl_loss: 5.7672\n"
     ]
    },
    {
     "name": "stderr",
     "output_type": "stream",
     "text": [
      "2021-03-07 09:37:16,643 - __main__ - INFO - round-0_epoch-8: cycle\n",
      "2021-03-07 09:37:22,112 - __main__ - INFO - round-0_epoch-9: fit\n"
     ]
    },
    {
     "name": "stdout",
     "output_type": "stream",
     "text": [
      "Epoch 10/10\n",
      "118/118 [==============================] - 4s 34ms/step - loss: 33.0139 - reconstruction_loss: 27.0184 - kl_loss: 5.8736\n"
     ]
    },
    {
     "name": "stderr",
     "output_type": "stream",
     "text": [
      "2021-03-07 09:37:26,336 - __main__ - INFO - round-0_epoch-9: cycle\n",
      "2021-03-07 09:37:32,090 - __main__ - INFO - round-0_epoch-10: fit\n"
     ]
    },
    {
     "name": "stdout",
     "output_type": "stream",
     "text": [
      "Epoch 11/11\n",
      "118/118 [==============================] - 4s 34ms/step - loss: 32.6215 - reconstruction_loss: 26.6034 - kl_loss: 5.9297\n"
     ]
    },
    {
     "name": "stderr",
     "output_type": "stream",
     "text": [
      "2021-03-07 09:37:36,326 - __main__ - INFO - round-0_epoch-10: cycle\n",
      "c:\\users\\alexa\\documents\\dvp\\autoenc2\\src\\visualization\\lat.py:87: RuntimeWarning: More than 20 figures have been opened. Figures created through the pyplot interface (`matplotlib.pyplot.figure`) are retained until explicitly closed and may consume too much memory. (To control this warning, see the rcParam `figure.max_open_warning`).\n",
      "  fig, axs = plt.subplots(2, 2, figsize=(15,12))\n",
      "2021-03-07 09:37:42,100 - __main__ - INFO - round-0_epoch-11: fit\n"
     ]
    },
    {
     "name": "stdout",
     "output_type": "stream",
     "text": [
      "Epoch 12/12\n",
      "118/118 [==============================] - 4s 34ms/step - loss: 32.3840 - reconstruction_loss: 26.1792 - kl_loss: 6.0057\n"
     ]
    },
    {
     "name": "stderr",
     "output_type": "stream",
     "text": [
      "2021-03-07 09:37:46,317 - __main__ - INFO - round-0_epoch-11: cycle\n",
      "2021-03-07 09:37:51,975 - __main__ - INFO - round-0_epoch-12: fit\n"
     ]
    },
    {
     "name": "stdout",
     "output_type": "stream",
     "text": [
      "Epoch 13/13\n",
      "118/118 [==============================] - 4s 33ms/step - loss: 32.0944 - reconstruction_loss: 25.8280 - kl_loss: 6.0502\n"
     ]
    },
    {
     "name": "stderr",
     "output_type": "stream",
     "text": [
      "2021-03-07 09:37:56,189 - __main__ - INFO - round-0_epoch-12: cycle\n",
      "2021-03-07 09:38:01,761 - __main__ - INFO - round-0_epoch-13: fit\n"
     ]
    },
    {
     "name": "stdout",
     "output_type": "stream",
     "text": [
      "Epoch 14/14\n",
      "118/118 [==============================] - 4s 33ms/step - loss: 31.5871 - reconstruction_loss: 25.4314 - kl_loss: 6.1349\n"
     ]
    },
    {
     "name": "stderr",
     "output_type": "stream",
     "text": [
      "2021-03-07 09:38:05,935 - __main__ - INFO - round-0_epoch-13: cycle\n",
      "2021-03-07 09:38:11,529 - __main__ - INFO - round-0_epoch-14: fit\n"
     ]
    },
    {
     "name": "stdout",
     "output_type": "stream",
     "text": [
      "Epoch 15/15\n",
      "118/118 [==============================] - 4s 33ms/step - loss: 31.4708 - reconstruction_loss: 25.1777 - kl_loss: 6.1846\n"
     ]
    },
    {
     "name": "stderr",
     "output_type": "stream",
     "text": [
      "2021-03-07 09:38:15,712 - __main__ - INFO - round-0_epoch-14: cycle\n",
      "2021-03-07 09:38:21,471 - __main__ - INFO - round-0_epoch-15: fit\n"
     ]
    },
    {
     "name": "stdout",
     "output_type": "stream",
     "text": [
      "Epoch 16/16\n",
      "118/118 [==============================] - 4s 34ms/step - loss: 31.4242 - reconstruction_loss: 24.9837 - kl_loss: 6.2398\n"
     ]
    },
    {
     "name": "stderr",
     "output_type": "stream",
     "text": [
      "2021-03-07 09:38:25,652 - __main__ - INFO - round-0_epoch-15: cycle\n",
      "2021-03-07 09:38:31,262 - __main__ - INFO - round-0_epoch-16: fit\n"
     ]
    },
    {
     "name": "stdout",
     "output_type": "stream",
     "text": [
      "Epoch 17/17\n",
      "118/118 [==============================] - 4s 33ms/step - loss: 31.0038 - reconstruction_loss: 24.6920 - kl_loss: 6.2734\n"
     ]
    },
    {
     "name": "stderr",
     "output_type": "stream",
     "text": [
      "2021-03-07 09:38:35,472 - __main__ - INFO - round-0_epoch-16: cycle\n",
      "2021-03-07 09:38:41,185 - __main__ - INFO - round-0_epoch-17: fit\n"
     ]
    },
    {
     "name": "stdout",
     "output_type": "stream",
     "text": [
      "Epoch 18/18\n",
      "118/118 [==============================] - 4s 34ms/step - loss: 30.8075 - reconstruction_loss: 24.4586 - kl_loss: 6.3310\n"
     ]
    },
    {
     "name": "stderr",
     "output_type": "stream",
     "text": [
      "2021-03-07 09:38:45,379 - __main__ - INFO - round-0_epoch-17: cycle\n",
      "2021-03-07 09:38:51,047 - __main__ - INFO - round-0_epoch-18: fit\n"
     ]
    },
    {
     "name": "stdout",
     "output_type": "stream",
     "text": [
      "Epoch 19/19\n",
      "118/118 [==============================] - 4s 34ms/step - loss: 30.7326 - reconstruction_loss: 24.2678 - kl_loss: 6.3565\n"
     ]
    },
    {
     "name": "stderr",
     "output_type": "stream",
     "text": [
      "2021-03-07 09:38:55,239 - __main__ - INFO - round-0_epoch-18: cycle\n",
      "2021-03-07 09:39:00,942 - __main__ - INFO - round-0_epoch-19: fit\n"
     ]
    },
    {
     "name": "stdout",
     "output_type": "stream",
     "text": [
      "Epoch 20/20\n",
      "118/118 [==============================] - 4s 33ms/step - loss: 30.4309 - reconstruction_loss: 23.9248 - kl_loss: 6.4176\n"
     ]
    },
    {
     "name": "stderr",
     "output_type": "stream",
     "text": [
      "2021-03-07 09:39:05,104 - __main__ - INFO - round-0_epoch-19: cycle\n",
      "2021-03-07 09:39:10,755 - __main__ - INFO - round-0_epoch-20: fit\n"
     ]
    },
    {
     "name": "stdout",
     "output_type": "stream",
     "text": [
      "Epoch 21/21\n",
      "118/118 [==============================] - 4s 33ms/step - loss: 30.2182 - reconstruction_loss: 23.7321 - kl_loss: 6.4563\n"
     ]
    },
    {
     "name": "stderr",
     "output_type": "stream",
     "text": [
      "2021-03-07 09:39:14,918 - __main__ - INFO - round-0_epoch-20: cycle\n",
      "2021-03-07 09:39:20,711 - __main__ - INFO - round-0_epoch-21: fit\n"
     ]
    },
    {
     "name": "stdout",
     "output_type": "stream",
     "text": [
      "Epoch 22/22\n",
      "118/118 [==============================] - 4s 34ms/step - loss: 30.2049 - reconstruction_loss: 23.6374 - kl_loss: 6.4571\n"
     ]
    },
    {
     "name": "stderr",
     "output_type": "stream",
     "text": [
      "2021-03-07 09:39:24,955 - __main__ - INFO - round-0_epoch-21: cycle\n",
      "2021-03-07 09:39:30,827 - __main__ - INFO - round-0_epoch-22: fit\n"
     ]
    },
    {
     "name": "stdout",
     "output_type": "stream",
     "text": [
      "Epoch 23/23\n",
      "118/118 [==============================] - 4s 34ms/step - loss: 29.8722 - reconstruction_loss: 23.3297 - kl_loss: 6.5244\n"
     ]
    },
    {
     "name": "stderr",
     "output_type": "stream",
     "text": [
      "2021-03-07 09:39:35,005 - __main__ - INFO - round-0_epoch-22: cycle\n",
      "2021-03-07 09:39:40,900 - __main__ - INFO - round-0_epoch-23: fit\n"
     ]
    },
    {
     "name": "stdout",
     "output_type": "stream",
     "text": [
      "Epoch 24/24\n",
      "118/118 [==============================] - 4s 34ms/step - loss: 29.7088 - reconstruction_loss: 23.1655 - kl_loss: 6.5631\n"
     ]
    },
    {
     "name": "stderr",
     "output_type": "stream",
     "text": [
      "2021-03-07 09:39:45,108 - __main__ - INFO - round-0_epoch-23: cycle\n",
      "2021-03-07 09:39:51,109 - __main__ - INFO - round-0_epoch-24: fit\n"
     ]
    },
    {
     "name": "stdout",
     "output_type": "stream",
     "text": [
      "Epoch 25/25\n",
      "118/118 [==============================] - 4s 34ms/step - loss: 29.8349 - reconstruction_loss: 22.9505 - kl_loss: 6.5923\n"
     ]
    },
    {
     "name": "stderr",
     "output_type": "stream",
     "text": [
      "2021-03-07 09:39:55,314 - __main__ - INFO - round-0_epoch-24: cycle\n",
      "2021-03-07 09:40:01,339 - __main__ - INFO - round-0_epoch-25: fit\n"
     ]
    },
    {
     "name": "stdout",
     "output_type": "stream",
     "text": [
      "Epoch 26/26\n",
      "118/118 [==============================] - 4s 34ms/step - loss: 29.4628 - reconstruction_loss: 22.7779 - kl_loss: 6.6339\n"
     ]
    },
    {
     "name": "stderr",
     "output_type": "stream",
     "text": [
      "2021-03-07 09:40:05,530 - __main__ - INFO - round-0_epoch-25: cycle\n",
      "2021-03-07 09:40:11,486 - __main__ - INFO - round-0_epoch-26: fit\n"
     ]
    },
    {
     "name": "stdout",
     "output_type": "stream",
     "text": [
      "Epoch 27/27\n",
      "118/118 [==============================] - 4s 34ms/step - loss: 29.2905 - reconstruction_loss: 22.5721 - kl_loss: 6.6313\n"
     ]
    },
    {
     "name": "stderr",
     "output_type": "stream",
     "text": [
      "2021-03-07 09:40:15,697 - __main__ - INFO - round-0_epoch-26: cycle\n",
      "2021-03-07 09:40:21,791 - __main__ - INFO - round-0_epoch-27: fit\n"
     ]
    },
    {
     "name": "stdout",
     "output_type": "stream",
     "text": [
      "Epoch 28/28\n",
      "118/118 [==============================] - 4s 34ms/step - loss: 29.1492 - reconstruction_loss: 22.4320 - kl_loss: 6.6747\n"
     ]
    },
    {
     "name": "stderr",
     "output_type": "stream",
     "text": [
      "2021-03-07 09:40:26,011 - __main__ - INFO - round-0_epoch-27: cycle\n",
      "2021-03-07 09:40:32,227 - __main__ - INFO - round-0_epoch-28: fit\n"
     ]
    },
    {
     "name": "stdout",
     "output_type": "stream",
     "text": [
      "Epoch 29/29\n",
      "118/118 [==============================] - 4s 34ms/step - loss: 29.1749 - reconstruction_loss: 22.2998 - kl_loss: 6.7239\n"
     ]
    },
    {
     "name": "stderr",
     "output_type": "stream",
     "text": [
      "2021-03-07 09:40:36,439 - __main__ - INFO - round-0_epoch-28: cycle\n",
      "2021-03-07 09:40:42,479 - __main__ - INFO - round-0_epoch-29: fit\n"
     ]
    },
    {
     "name": "stdout",
     "output_type": "stream",
     "text": [
      "Epoch 30/30\n",
      "118/118 [==============================] - 4s 34ms/step - loss: 28.7409 - reconstruction_loss: 22.0261 - kl_loss: 6.7538\n"
     ]
    },
    {
     "name": "stderr",
     "output_type": "stream",
     "text": [
      "2021-03-07 09:40:46,761 - __main__ - INFO - round-0_epoch-29: cycle\n",
      "2021-03-07 09:40:53,085 - __main__ - INFO - round-0_epoch-30: fit\n"
     ]
    },
    {
     "name": "stdout",
     "output_type": "stream",
     "text": [
      "Epoch 31/31\n",
      "118/118 [==============================] - 4s 34ms/step - loss: 28.6968 - reconstruction_loss: 21.9099 - kl_loss: 6.7697\n"
     ]
    },
    {
     "name": "stderr",
     "output_type": "stream",
     "text": [
      "2021-03-07 09:40:57,300 - __main__ - INFO - round-0_epoch-30: cycle\n",
      "2021-03-07 09:41:03,364 - __main__ - INFO - round-0_epoch-31: fit\n"
     ]
    },
    {
     "name": "stdout",
     "output_type": "stream",
     "text": [
      "Epoch 32/32\n",
      "118/118 [==============================] - 4s 34ms/step - loss: 28.6603 - reconstruction_loss: 21.8374 - kl_loss: 6.8093\n"
     ]
    },
    {
     "name": "stderr",
     "output_type": "stream",
     "text": [
      "2021-03-07 09:41:07,571 - __main__ - INFO - round-0_epoch-31: cycle\n",
      "2021-03-07 09:41:13,739 - __main__ - INFO - round-0_epoch-32: fit\n"
     ]
    },
    {
     "name": "stdout",
     "output_type": "stream",
     "text": [
      "Epoch 33/33\n",
      "118/118 [==============================] - 4s 34ms/step - loss: 28.6374 - reconstruction_loss: 21.7074 - kl_loss: 6.8137\n"
     ]
    },
    {
     "name": "stderr",
     "output_type": "stream",
     "text": [
      "2021-03-07 09:41:17,985 - __main__ - INFO - round-0_epoch-32: cycle\n",
      "2021-03-07 09:41:24,333 - __main__ - INFO - round-0_epoch-33: fit\n"
     ]
    },
    {
     "name": "stdout",
     "output_type": "stream",
     "text": [
      "Epoch 34/34\n",
      "118/118 [==============================] - 4s 34ms/step - loss: 28.4605 - reconstruction_loss: 21.5770 - kl_loss: 6.8138\n"
     ]
    },
    {
     "name": "stderr",
     "output_type": "stream",
     "text": [
      "2021-03-07 09:41:28,545 - __main__ - INFO - round-0_epoch-33: cycle\n",
      "2021-03-07 09:41:34,709 - __main__ - INFO - round-0_epoch-34: fit\n"
     ]
    },
    {
     "name": "stdout",
     "output_type": "stream",
     "text": [
      "Epoch 35/35\n",
      "118/118 [==============================] - 4s 34ms/step - loss: 28.3018 - reconstruction_loss: 21.4047 - kl_loss: 6.8781\n"
     ]
    },
    {
     "name": "stderr",
     "output_type": "stream",
     "text": [
      "2021-03-07 09:41:38,917 - __main__ - INFO - round-0_epoch-34: cycle\n",
      "2021-03-07 09:41:45,182 - __main__ - INFO - round-0_epoch-35: fit\n"
     ]
    },
    {
     "name": "stdout",
     "output_type": "stream",
     "text": [
      "Epoch 36/36\n",
      "118/118 [==============================] - 4s 34ms/step - loss: 28.5345 - reconstruction_loss: 21.4535 - kl_loss: 6.8858\n"
     ]
    },
    {
     "name": "stderr",
     "output_type": "stream",
     "text": [
      "2021-03-07 09:41:49,445 - __main__ - INFO - round-0_epoch-35: cycle\n",
      "2021-03-07 09:41:55,736 - __main__ - INFO - round-0_epoch-36: fit\n"
     ]
    },
    {
     "name": "stdout",
     "output_type": "stream",
     "text": [
      "Epoch 37/37\n",
      "118/118 [==============================] - 4s 34ms/step - loss: 28.2895 - reconstruction_loss: 21.2458 - kl_loss: 6.8996\n"
     ]
    },
    {
     "name": "stderr",
     "output_type": "stream",
     "text": [
      "2021-03-07 09:41:59,947 - __main__ - INFO - round-0_epoch-36: cycle\n",
      "2021-03-07 09:42:06,221 - __main__ - INFO - round-0_epoch-37: fit\n"
     ]
    },
    {
     "name": "stdout",
     "output_type": "stream",
     "text": [
      "Epoch 38/38\n",
      "118/118 [==============================] - 4s 34ms/step - loss: 27.9164 - reconstruction_loss: 21.0284 - kl_loss: 6.9158\n"
     ]
    },
    {
     "name": "stderr",
     "output_type": "stream",
     "text": [
      "2021-03-07 09:42:10,425 - __main__ - INFO - round-0_epoch-37: cycle\n",
      "2021-03-07 09:42:16,724 - __main__ - INFO - round-0_epoch-38: fit\n"
     ]
    },
    {
     "name": "stdout",
     "output_type": "stream",
     "text": [
      "Epoch 39/39\n",
      "118/118 [==============================] - 4s 34ms/step - loss: 27.9598 - reconstruction_loss: 21.0116 - kl_loss: 6.9261\n"
     ]
    },
    {
     "name": "stderr",
     "output_type": "stream",
     "text": [
      "2021-03-07 09:42:20,931 - __main__ - INFO - round-0_epoch-38: cycle\n",
      "2021-03-07 09:42:27,707 - __main__ - INFO - round-0_epoch-39: fit\n"
     ]
    },
    {
     "name": "stdout",
     "output_type": "stream",
     "text": [
      "Epoch 40/40\n",
      "118/118 [==============================] - 4s 34ms/step - loss: 27.9333 - reconstruction_loss: 20.8964 - kl_loss: 6.9399\n"
     ]
    },
    {
     "name": "stderr",
     "output_type": "stream",
     "text": [
      "2021-03-07 09:42:31,935 - __main__ - INFO - round-0_epoch-39: cycle\n",
      "2021-03-07 09:42:38,320 - __main__ - INFO - round-0_epoch-40: fit\n"
     ]
    },
    {
     "name": "stdout",
     "output_type": "stream",
     "text": [
      "Epoch 41/41\n",
      "118/118 [==============================] - 4s 34ms/step - loss: 27.8466 - reconstruction_loss: 20.8275 - kl_loss: 6.9633\n"
     ]
    },
    {
     "name": "stderr",
     "output_type": "stream",
     "text": [
      "2021-03-07 09:42:42,570 - __main__ - INFO - round-0_epoch-40: cycle\n",
      "2021-03-07 09:42:49,029 - __main__ - INFO - round-0_epoch-41: fit\n"
     ]
    },
    {
     "name": "stdout",
     "output_type": "stream",
     "text": [
      "Epoch 42/42\n",
      "118/118 [==============================] - 4s 34ms/step - loss: 27.9149 - reconstruction_loss: 20.8084 - kl_loss: 6.9820\n"
     ]
    },
    {
     "name": "stderr",
     "output_type": "stream",
     "text": [
      "2021-03-07 09:42:53,238 - __main__ - INFO - round-0_epoch-41: cycle\n",
      "2021-03-07 09:43:00,534 - __main__ - INFO - round-0_epoch-42: fit\n"
     ]
    },
    {
     "name": "stdout",
     "output_type": "stream",
     "text": [
      "Epoch 43/43\n",
      "118/118 [==============================] - 4s 34ms/step - loss: 27.8186 - reconstruction_loss: 20.7386 - kl_loss: 6.9690\n"
     ]
    },
    {
     "name": "stderr",
     "output_type": "stream",
     "text": [
      "2021-03-07 09:43:04,766 - __main__ - INFO - round-0_epoch-42: cycle\n",
      "2021-03-07 09:43:11,279 - __main__ - INFO - round-0_epoch-43: fit\n"
     ]
    },
    {
     "name": "stdout",
     "output_type": "stream",
     "text": [
      "Epoch 44/44\n",
      "118/118 [==============================] - 4s 34ms/step - loss: 27.6790 - reconstruction_loss: 20.6407 - kl_loss: 6.9759\n"
     ]
    },
    {
     "name": "stderr",
     "output_type": "stream",
     "text": [
      "2021-03-07 09:43:15,504 - __main__ - INFO - round-0_epoch-43: cycle\n",
      "2021-03-07 09:43:22,066 - __main__ - INFO - round-0_epoch-44: fit\n"
     ]
    },
    {
     "name": "stdout",
     "output_type": "stream",
     "text": [
      "Epoch 45/45\n",
      "118/118 [==============================] - 4s 34ms/step - loss: 27.5310 - reconstruction_loss: 20.5390 - kl_loss: 7.0078\n"
     ]
    },
    {
     "name": "stderr",
     "output_type": "stream",
     "text": [
      "2021-03-07 09:43:26,365 - __main__ - INFO - round-0_epoch-44: cycle\n",
      "2021-03-07 09:43:33,028 - __main__ - INFO - round-0_epoch-45: fit\n"
     ]
    },
    {
     "name": "stdout",
     "output_type": "stream",
     "text": [
      "Epoch 46/46\n",
      "118/118 [==============================] - 4s 34ms/step - loss: 27.4611 - reconstruction_loss: 20.4397 - kl_loss: 7.0256\n"
     ]
    },
    {
     "name": "stderr",
     "output_type": "stream",
     "text": [
      "2021-03-07 09:43:37,260 - __main__ - INFO - round-0_epoch-45: cycle\n",
      "2021-03-07 09:43:43,855 - __main__ - INFO - round-0_epoch-46: fit\n"
     ]
    },
    {
     "name": "stdout",
     "output_type": "stream",
     "text": [
      "Epoch 47/47\n",
      "118/118 [==============================] - 4s 34ms/step - loss: 27.4529 - reconstruction_loss: 20.3631 - kl_loss: 7.0165\n"
     ]
    },
    {
     "name": "stderr",
     "output_type": "stream",
     "text": [
      "2021-03-07 09:43:48,061 - __main__ - INFO - round-0_epoch-46: cycle\n",
      "2021-03-07 09:43:54,668 - __main__ - INFO - round-0_epoch-47: fit\n"
     ]
    },
    {
     "name": "stdout",
     "output_type": "stream",
     "text": [
      "Epoch 48/48\n",
      "118/118 [==============================] - 4s 34ms/step - loss: 27.2915 - reconstruction_loss: 20.2647 - kl_loss: 7.0407\n"
     ]
    },
    {
     "name": "stderr",
     "output_type": "stream",
     "text": [
      "2021-03-07 09:43:58,890 - __main__ - INFO - round-0_epoch-47: cycle\n",
      "2021-03-07 09:44:06,182 - __main__ - INFO - round-0_epoch-48: fit\n"
     ]
    },
    {
     "name": "stdout",
     "output_type": "stream",
     "text": [
      "Epoch 49/49\n",
      "118/118 [==============================] - 4s 34ms/step - loss: 27.5100 - reconstruction_loss: 20.3138 - kl_loss: 7.0573\n"
     ]
    },
    {
     "name": "stderr",
     "output_type": "stream",
     "text": [
      "2021-03-07 09:44:10,415 - __main__ - INFO - round-0_epoch-48: cycle\n",
      "2021-03-07 09:44:17,256 - __main__ - INFO - round-0_epoch-49: fit\n"
     ]
    },
    {
     "name": "stdout",
     "output_type": "stream",
     "text": [
      "Epoch 50/50\n",
      "118/118 [==============================] - 4s 34ms/step - loss: 27.4861 - reconstruction_loss: 20.2084 - kl_loss: 7.0609\n"
     ]
    },
    {
     "name": "stderr",
     "output_type": "stream",
     "text": [
      "2021-03-07 09:44:21,529 - __main__ - INFO - round-0_epoch-49: cycle\n",
      "2021-03-07 09:44:28,389 - __main__ - INFO - round-0_epoch-50: fit\n"
     ]
    },
    {
     "name": "stdout",
     "output_type": "stream",
     "text": [
      "Epoch 51/51\n",
      "118/118 [==============================] - 4s 34ms/step - loss: 27.2817 - reconstruction_loss: 20.1602 - kl_loss: 7.0747\n"
     ]
    },
    {
     "name": "stderr",
     "output_type": "stream",
     "text": [
      "2021-03-07 09:44:32,637 - __main__ - INFO - round-0_epoch-50: cycle\n",
      "2021-03-07 09:44:39,978 - __main__ - INFO - round-0_epoch-51: fit\n"
     ]
    },
    {
     "name": "stdout",
     "output_type": "stream",
     "text": [
      "Epoch 52/52\n",
      "118/118 [==============================] - 4s 34ms/step - loss: 27.2965 - reconstruction_loss: 20.1406 - kl_loss: 7.0628\n"
     ]
    },
    {
     "name": "stderr",
     "output_type": "stream",
     "text": [
      "2021-03-07 09:44:44,232 - __main__ - INFO - round-0_epoch-51: cycle\n",
      "2021-03-07 09:44:51,250 - __main__ - INFO - round-0_epoch-52: fit\n"
     ]
    },
    {
     "name": "stdout",
     "output_type": "stream",
     "text": [
      "Epoch 53/53\n",
      "118/118 [==============================] - 4s 34ms/step - loss: 27.2644 - reconstruction_loss: 20.1556 - kl_loss: 7.0589\n"
     ]
    },
    {
     "name": "stderr",
     "output_type": "stream",
     "text": [
      "2021-03-07 09:44:55,536 - __main__ - INFO - round-0_epoch-52: cycle\n",
      "2021-03-07 09:45:02,538 - __main__ - INFO - round-0_epoch-53: fit\n"
     ]
    },
    {
     "name": "stdout",
     "output_type": "stream",
     "text": [
      "Epoch 54/54\n",
      "118/118 [==============================] - 4s 34ms/step - loss: 27.1103 - reconstruction_loss: 20.1099 - kl_loss: 7.0858\n"
     ]
    },
    {
     "name": "stderr",
     "output_type": "stream",
     "text": [
      "2021-03-07 09:45:06,822 - __main__ - INFO - round-0_epoch-53: cycle\n",
      "2021-03-07 09:45:14,398 - __main__ - INFO - round-0_epoch-54: fit\n"
     ]
    },
    {
     "name": "stdout",
     "output_type": "stream",
     "text": [
      "Epoch 55/55\n",
      "118/118 [==============================] - 4s 35ms/step - loss: 27.4517 - reconstruction_loss: 20.1429 - kl_loss: 7.0877\n"
     ]
    },
    {
     "name": "stderr",
     "output_type": "stream",
     "text": [
      "2021-03-07 09:45:18,780 - __main__ - INFO - round-0_epoch-54: cycle\n",
      "2021-03-07 09:45:25,868 - __main__ - INFO - round-0_epoch-55: fit\n"
     ]
    },
    {
     "name": "stdout",
     "output_type": "stream",
     "text": [
      "Epoch 56/56\n",
      "118/118 [==============================] - 4s 34ms/step - loss: 27.0848 - reconstruction_loss: 19.9629 - kl_loss: 7.0819\n"
     ]
    },
    {
     "name": "stderr",
     "output_type": "stream",
     "text": [
      "2021-03-07 09:45:30,143 - __main__ - INFO - round-0_epoch-55: cycle\n",
      "2021-03-07 09:45:37,910 - __main__ - INFO - round-0_epoch-56: fit\n"
     ]
    },
    {
     "name": "stdout",
     "output_type": "stream",
     "text": [
      "Epoch 57/57\n",
      "118/118 [==============================] - 4s 34ms/step - loss: 27.0456 - reconstruction_loss: 19.8930 - kl_loss: 7.0903\n"
     ]
    },
    {
     "name": "stderr",
     "output_type": "stream",
     "text": [
      "2021-03-07 09:45:42,216 - __main__ - INFO - round-0_epoch-56: cycle\n",
      "2021-03-07 09:45:49,989 - __main__ - INFO - round-0_epoch-57: fit\n"
     ]
    },
    {
     "name": "stdout",
     "output_type": "stream",
     "text": [
      "Epoch 58/58\n",
      "118/118 [==============================] - 4s 34ms/step - loss: 26.9332 - reconstruction_loss: 19.8812 - kl_loss: 7.0956\n"
     ]
    },
    {
     "name": "stderr",
     "output_type": "stream",
     "text": [
      "2021-03-07 09:45:54,315 - __main__ - INFO - round-0_epoch-57: cycle\n",
      "2021-03-07 09:46:01,609 - __main__ - INFO - round-0_epoch-58: fit\n"
     ]
    },
    {
     "name": "stdout",
     "output_type": "stream",
     "text": [
      "Epoch 59/59\n",
      "118/118 [==============================] - 4s 34ms/step - loss: 27.0437 - reconstruction_loss: 19.9479 - kl_loss: 7.1077\n"
     ]
    },
    {
     "name": "stderr",
     "output_type": "stream",
     "text": [
      "2021-03-07 09:46:05,914 - __main__ - INFO - round-0_epoch-58: cycle\n",
      "2021-03-07 09:46:13,587 - __main__ - INFO - round-0_epoch-59: fit\n"
     ]
    },
    {
     "name": "stdout",
     "output_type": "stream",
     "text": [
      "Epoch 60/60\n",
      "118/118 [==============================] - 4s 36ms/step - loss: 27.2112 - reconstruction_loss: 19.9834 - kl_loss: 7.0839\n"
     ]
    },
    {
     "name": "stderr",
     "output_type": "stream",
     "text": [
      "2021-03-07 09:46:18,005 - __main__ - INFO - round-0_epoch-59: cycle\n",
      "2021-03-07 09:46:26,149 - __main__ - INFO - round-0_epoch-60: fit\n"
     ]
    },
    {
     "name": "stdout",
     "output_type": "stream",
     "text": [
      "Epoch 61/61\n",
      "118/118 [==============================] - 4s 35ms/step - loss: 26.8505 - reconstruction_loss: 19.6983 - kl_loss: 7.1256\n"
     ]
    },
    {
     "name": "stderr",
     "output_type": "stream",
     "text": [
      "2021-03-07 09:46:30,568 - __main__ - INFO - round-0_epoch-60: cycle\n",
      "2021-03-07 09:46:38,090 - __main__ - INFO - round-0_epoch-61: fit\n"
     ]
    },
    {
     "name": "stdout",
     "output_type": "stream",
     "text": [
      "Epoch 62/62\n",
      "118/118 [==============================] - 4s 35ms/step - loss: 26.8753 - reconstruction_loss: 19.7399 - kl_loss: 7.1152\n"
     ]
    },
    {
     "name": "stderr",
     "output_type": "stream",
     "text": [
      "2021-03-07 09:46:42,437 - __main__ - INFO - round-0_epoch-61: cycle\n",
      "2021-03-07 09:46:49,932 - __main__ - INFO - round-0_epoch-62: fit\n"
     ]
    },
    {
     "name": "stdout",
     "output_type": "stream",
     "text": [
      "Epoch 63/63\n",
      "118/118 [==============================] - 4s 34ms/step - loss: 27.0587 - reconstruction_loss: 19.7459 - kl_loss: 7.1359\n"
     ]
    },
    {
     "name": "stderr",
     "output_type": "stream",
     "text": [
      "2021-03-07 09:46:54,253 - __main__ - INFO - round-0_epoch-62: cycle\n",
      "2021-03-07 09:47:01,908 - __main__ - INFO - round-0_epoch-63: fit\n"
     ]
    },
    {
     "name": "stdout",
     "output_type": "stream",
     "text": [
      "Epoch 64/64\n",
      "118/118 [==============================] - 4s 35ms/step - loss: 26.7120 - reconstruction_loss: 19.6146 - kl_loss: 7.1393\n"
     ]
    },
    {
     "name": "stderr",
     "output_type": "stream",
     "text": [
      "2021-03-07 09:47:06,278 - __main__ - INFO - round-0_epoch-63: cycle\n",
      "2021-03-07 09:47:13,855 - __main__ - INFO - round-0_epoch-64: fit\n"
     ]
    },
    {
     "name": "stdout",
     "output_type": "stream",
     "text": [
      "Epoch 65/65\n",
      "118/118 [==============================] - 4s 34ms/step - loss: 26.8914 - reconstruction_loss: 19.7071 - kl_loss: 7.1264\n"
     ]
    },
    {
     "name": "stderr",
     "output_type": "stream",
     "text": [
      "2021-03-07 09:47:18,162 - __main__ - INFO - round-0_epoch-64: cycle\n",
      "2021-03-07 09:47:25,854 - __main__ - INFO - round-0_epoch-65: fit\n"
     ]
    },
    {
     "name": "stdout",
     "output_type": "stream",
     "text": [
      "Epoch 66/66\n",
      "118/118 [==============================] - 4s 35ms/step - loss: 26.7468 - reconstruction_loss: 19.5952 - kl_loss: 7.1254\n"
     ]
    },
    {
     "name": "stderr",
     "output_type": "stream",
     "text": [
      "2021-03-07 09:47:30,178 - __main__ - INFO - round-0_epoch-65: cycle\n",
      "2021-03-07 09:47:38,538 - __main__ - INFO - round-0_epoch-66: fit\n"
     ]
    },
    {
     "name": "stdout",
     "output_type": "stream",
     "text": [
      "Epoch 67/67\n",
      "118/118 [==============================] - 4s 34ms/step - loss: 26.7139 - reconstruction_loss: 19.5570 - kl_loss: 7.1301\n"
     ]
    },
    {
     "name": "stderr",
     "output_type": "stream",
     "text": [
      "2021-03-07 09:47:42,829 - __main__ - INFO - round-0_epoch-66: cycle\n",
      "2021-03-07 09:47:50,469 - __main__ - INFO - round-0_epoch-67: fit\n"
     ]
    },
    {
     "name": "stdout",
     "output_type": "stream",
     "text": [
      "Epoch 68/68\n",
      "118/118 [==============================] - 4s 34ms/step - loss: 26.7760 - reconstruction_loss: 19.5886 - kl_loss: 7.1450\n"
     ]
    },
    {
     "name": "stderr",
     "output_type": "stream",
     "text": [
      "2021-03-07 09:47:54,763 - __main__ - INFO - round-0_epoch-67: cycle\n",
      "2021-03-07 09:48:02,412 - __main__ - INFO - round-0_epoch-68: fit\n"
     ]
    },
    {
     "name": "stdout",
     "output_type": "stream",
     "text": [
      "Epoch 69/69\n",
      "118/118 [==============================] - 4s 35ms/step - loss: 26.6337 - reconstruction_loss: 19.4693 - kl_loss: 7.1452\n"
     ]
    },
    {
     "name": "stderr",
     "output_type": "stream",
     "text": [
      "2021-03-07 09:48:06,751 - __main__ - INFO - round-0_epoch-68: cycle\n",
      "2021-03-07 09:48:15,768 - __main__ - INFO - round-0_epoch-69: fit\n"
     ]
    },
    {
     "name": "stdout",
     "output_type": "stream",
     "text": [
      "Epoch 70/70\n",
      "118/118 [==============================] - 4s 35ms/step - loss: 26.6043 - reconstruction_loss: 19.4263 - kl_loss: 7.1529\n"
     ]
    },
    {
     "name": "stderr",
     "output_type": "stream",
     "text": [
      "2021-03-07 09:48:20,131 - __main__ - INFO - round-0_epoch-69: cycle\n",
      "2021-03-07 09:48:28,043 - __main__ - INFO - round-0_epoch-70: fit\n"
     ]
    },
    {
     "name": "stdout",
     "output_type": "stream",
     "text": [
      "Epoch 71/71\n",
      "118/118 [==============================] - 4s 36ms/step - loss: 26.6352 - reconstruction_loss: 19.4342 - kl_loss: 7.1236\n"
     ]
    },
    {
     "name": "stderr",
     "output_type": "stream",
     "text": [
      "2021-03-07 09:48:32,545 - __main__ - INFO - round-0_epoch-70: cycle\n",
      "2021-03-07 09:48:40,472 - __main__ - INFO - round-0_epoch-71: fit\n"
     ]
    },
    {
     "name": "stdout",
     "output_type": "stream",
     "text": [
      "Epoch 72/72\n",
      "118/118 [==============================] - 4s 36ms/step - loss: 26.4751 - reconstruction_loss: 19.3127 - kl_loss: 7.1727\n"
     ]
    },
    {
     "name": "stderr",
     "output_type": "stream",
     "text": [
      "2021-03-07 09:48:44,970 - __main__ - INFO - round-0_epoch-71: cycle\n",
      "2021-03-07 09:48:53,296 - __main__ - INFO - round-0_epoch-72: fit\n"
     ]
    },
    {
     "name": "stdout",
     "output_type": "stream",
     "text": [
      "Epoch 73/73\n",
      "118/118 [==============================] - 4s 36ms/step - loss: 26.6334 - reconstruction_loss: 19.3916 - kl_loss: 7.1725\n"
     ]
    },
    {
     "name": "stderr",
     "output_type": "stream",
     "text": [
      "2021-03-07 09:48:57,752 - __main__ - INFO - round-0_epoch-72: cycle\n",
      "2021-03-07 09:49:06,063 - __main__ - INFO - round-0_epoch-73: fit\n"
     ]
    },
    {
     "name": "stdout",
     "output_type": "stream",
     "text": [
      "Epoch 74/74\n",
      "118/118 [==============================] - 4s 35ms/step - loss: 26.5523 - reconstruction_loss: 19.3798 - kl_loss: 7.1567\n"
     ]
    },
    {
     "name": "stderr",
     "output_type": "stream",
     "text": [
      "2021-03-07 09:49:10,471 - __main__ - INFO - round-0_epoch-73: cycle\n",
      "2021-03-07 09:49:18,601 - __main__ - INFO - round-0_epoch-74: fit\n"
     ]
    },
    {
     "name": "stdout",
     "output_type": "stream",
     "text": [
      "Epoch 75/75\n",
      "118/118 [==============================] - 4s 34ms/step - loss: 26.5851 - reconstruction_loss: 19.3765 - kl_loss: 7.1643\n"
     ]
    },
    {
     "name": "stderr",
     "output_type": "stream",
     "text": [
      "2021-03-07 09:49:22,918 - __main__ - INFO - round-0_epoch-74: cycle\n",
      "2021-03-07 09:49:31,647 - __main__ - INFO - round-0_epoch-75: fit\n"
     ]
    },
    {
     "name": "stdout",
     "output_type": "stream",
     "text": [
      "Epoch 76/76\n",
      "118/118 [==============================] - 4s 35ms/step - loss: 26.6220 - reconstruction_loss: 19.3864 - kl_loss: 7.1588\n"
     ]
    },
    {
     "name": "stderr",
     "output_type": "stream",
     "text": [
      "2021-03-07 09:49:36,014 - __main__ - INFO - round-0_epoch-75: cycle\n",
      "2021-03-07 09:49:44,279 - __main__ - INFO - round-0_epoch-76: fit\n"
     ]
    },
    {
     "name": "stdout",
     "output_type": "stream",
     "text": [
      "Epoch 77/77\n",
      "118/118 [==============================] - 4s 35ms/step - loss: 26.5479 - reconstruction_loss: 19.2754 - kl_loss: 7.1997\n"
     ]
    },
    {
     "name": "stderr",
     "output_type": "stream",
     "text": [
      "2021-03-07 09:49:48,645 - __main__ - INFO - round-0_epoch-76: cycle\n",
      "2021-03-07 09:49:56,849 - __main__ - INFO - round-0_epoch-77: fit\n"
     ]
    },
    {
     "name": "stdout",
     "output_type": "stream",
     "text": [
      "Epoch 78/78\n",
      "118/118 [==============================] - 4s 35ms/step - loss: 26.5019 - reconstruction_loss: 19.3185 - kl_loss: 7.1757\n"
     ]
    },
    {
     "name": "stderr",
     "output_type": "stream",
     "text": [
      "2021-03-07 09:50:01,180 - __main__ - INFO - round-0_epoch-77: cycle\n",
      "2021-03-07 09:50:10,166 - __main__ - INFO - round-0_epoch-78: fit\n"
     ]
    },
    {
     "name": "stdout",
     "output_type": "stream",
     "text": [
      "Epoch 79/79\n",
      "118/118 [==============================] - 4s 35ms/step - loss: 26.4064 - reconstruction_loss: 19.2046 - kl_loss: 7.1878\n"
     ]
    },
    {
     "name": "stderr",
     "output_type": "stream",
     "text": [
      "2021-03-07 09:50:14,557 - __main__ - INFO - round-0_epoch-78: cycle\n",
      "2021-03-07 09:50:22,889 - __main__ - INFO - round-0_epoch-79: fit\n"
     ]
    },
    {
     "name": "stdout",
     "output_type": "stream",
     "text": [
      "Epoch 80/80\n",
      "118/118 [==============================] - 4s 35ms/step - loss: 26.5644 - reconstruction_loss: 19.2899 - kl_loss: 7.1861\n"
     ]
    },
    {
     "name": "stderr",
     "output_type": "stream",
     "text": [
      "2021-03-07 09:50:27,265 - __main__ - INFO - round-0_epoch-79: cycle\n",
      "2021-03-07 09:50:35,776 - __main__ - INFO - round-0_epoch-80: fit\n"
     ]
    },
    {
     "name": "stdout",
     "output_type": "stream",
     "text": [
      "Epoch 81/81\n",
      "118/118 [==============================] - 4s 35ms/step - loss: 26.4249 - reconstruction_loss: 19.1597 - kl_loss: 7.1855\n"
     ]
    },
    {
     "name": "stderr",
     "output_type": "stream",
     "text": [
      "2021-03-07 09:50:40,228 - __main__ - INFO - round-0_epoch-80: cycle\n",
      "2021-03-07 09:50:48,896 - __main__ - INFO - round-0_epoch-81: fit\n"
     ]
    },
    {
     "name": "stdout",
     "output_type": "stream",
     "text": [
      "Epoch 82/82\n",
      "118/118 [==============================] - 4s 36ms/step - loss: 26.4539 - reconstruction_loss: 19.1841 - kl_loss: 7.1915\n"
     ]
    },
    {
     "name": "stderr",
     "output_type": "stream",
     "text": [
      "2021-03-07 09:50:53,350 - __main__ - INFO - round-0_epoch-81: cycle\n",
      "2021-03-07 09:51:01,899 - __main__ - INFO - round-0_epoch-82: fit\n"
     ]
    },
    {
     "name": "stdout",
     "output_type": "stream",
     "text": [
      "Epoch 83/83\n",
      "118/118 [==============================] - 4s 36ms/step - loss: 26.3688 - reconstruction_loss: 19.1605 - kl_loss: 7.1838\n"
     ]
    },
    {
     "name": "stderr",
     "output_type": "stream",
     "text": [
      "2021-03-07 09:51:06,372 - __main__ - INFO - round-0_epoch-82: cycle\n",
      "2021-03-07 09:51:15,339 - __main__ - INFO - round-0_epoch-83: fit\n"
     ]
    },
    {
     "name": "stdout",
     "output_type": "stream",
     "text": [
      "Epoch 84/84\n",
      "118/118 [==============================] - 4s 37ms/step - loss: 26.2378 - reconstruction_loss: 19.1293 - kl_loss: 7.1802\n"
     ]
    },
    {
     "name": "stderr",
     "output_type": "stream",
     "text": [
      "2021-03-07 09:51:19,928 - __main__ - INFO - round-0_epoch-83: cycle\n",
      "2021-03-07 09:51:29,399 - __main__ - INFO - round-0_epoch-84: fit\n"
     ]
    },
    {
     "name": "stdout",
     "output_type": "stream",
     "text": [
      "Epoch 85/85\n",
      "118/118 [==============================] - 4s 37ms/step - loss: 26.3881 - reconstruction_loss: 19.1849 - kl_loss: 7.1836\n"
     ]
    },
    {
     "name": "stderr",
     "output_type": "stream",
     "text": [
      "2021-03-07 09:51:33,986 - __main__ - INFO - round-0_epoch-84: cycle\n",
      "2021-03-07 09:51:43,417 - __main__ - INFO - round-0_epoch-85: fit\n"
     ]
    },
    {
     "name": "stdout",
     "output_type": "stream",
     "text": [
      "Epoch 86/86\n",
      "118/118 [==============================] - 4s 36ms/step - loss: 26.3228 - reconstruction_loss: 19.1166 - kl_loss: 7.1785\n"
     ]
    },
    {
     "name": "stderr",
     "output_type": "stream",
     "text": [
      "2021-03-07 09:51:47,968 - __main__ - INFO - round-0_epoch-85: cycle\n",
      "2021-03-07 09:51:57,884 - __main__ - INFO - round-0_epoch-86: fit\n"
     ]
    },
    {
     "name": "stdout",
     "output_type": "stream",
     "text": [
      "Epoch 87/87\n",
      "118/118 [==============================] - 4s 36ms/step - loss: 26.4009 - reconstruction_loss: 19.1750 - kl_loss: 7.1875\n"
     ]
    },
    {
     "name": "stderr",
     "output_type": "stream",
     "text": [
      "2021-03-07 09:52:02,320 - __main__ - INFO - round-0_epoch-86: cycle\n",
      "2021-03-07 09:52:12,262 - __main__ - INFO - round-0_epoch-87: fit\n"
     ]
    },
    {
     "name": "stdout",
     "output_type": "stream",
     "text": [
      "Epoch 88/88\n",
      "118/118 [==============================] - 4s 36ms/step - loss: 26.3698 - reconstruction_loss: 19.0990 - kl_loss: 7.2016\n"
     ]
    },
    {
     "name": "stderr",
     "output_type": "stream",
     "text": [
      "2021-03-07 09:52:16,725 - __main__ - INFO - round-0_epoch-87: cycle\n",
      "2021-03-07 09:52:25,572 - __main__ - INFO - round-0_epoch-88: fit\n"
     ]
    },
    {
     "name": "stdout",
     "output_type": "stream",
     "text": [
      "Epoch 89/89\n",
      "118/118 [==============================] - 4s 36ms/step - loss: 26.4582 - reconstruction_loss: 19.1285 - kl_loss: 7.2047\n"
     ]
    },
    {
     "name": "stderr",
     "output_type": "stream",
     "text": [
      "2021-03-07 09:52:30,064 - __main__ - INFO - round-0_epoch-88: cycle\n",
      "2021-03-07 09:52:39,069 - __main__ - INFO - round-0_epoch-89: fit\n"
     ]
    },
    {
     "name": "stdout",
     "output_type": "stream",
     "text": [
      "Epoch 90/90\n",
      "118/118 [==============================] - 4s 35ms/step - loss: 26.2437 - reconstruction_loss: 18.9853 - kl_loss: 7.2104\n"
     ]
    },
    {
     "name": "stderr",
     "output_type": "stream",
     "text": [
      "2021-03-07 09:52:43,515 - __main__ - INFO - round-0_epoch-89: cycle\n",
      "2021-03-07 09:52:52,891 - __main__ - INFO - round-0_epoch-90: fit\n"
     ]
    },
    {
     "name": "stdout",
     "output_type": "stream",
     "text": [
      "Epoch 91/91\n",
      "118/118 [==============================] - 4s 36ms/step - loss: 26.2137 - reconstruction_loss: 19.0013 - kl_loss: 7.2077\n"
     ]
    },
    {
     "name": "stderr",
     "output_type": "stream",
     "text": [
      "2021-03-07 09:52:57,387 - __main__ - INFO - round-0_epoch-90: cycle\n",
      "2021-03-07 09:53:06,386 - __main__ - INFO - round-0_epoch-91: fit\n"
     ]
    },
    {
     "name": "stdout",
     "output_type": "stream",
     "text": [
      "Epoch 92/92\n",
      "118/118 [==============================] - 4s 35ms/step - loss: 26.2662 - reconstruction_loss: 19.0549 - kl_loss: 7.2171\n"
     ]
    },
    {
     "name": "stderr",
     "output_type": "stream",
     "text": [
      "2021-03-07 09:53:10,821 - __main__ - INFO - round-0_epoch-91: cycle\n",
      "2021-03-07 09:53:19,825 - __main__ - INFO - round-0_epoch-92: fit\n"
     ]
    },
    {
     "name": "stdout",
     "output_type": "stream",
     "text": [
      "Epoch 93/93\n",
      "118/118 [==============================] - 4s 36ms/step - loss: 26.3974 - reconstruction_loss: 18.9991 - kl_loss: 7.2129\n"
     ]
    },
    {
     "name": "stderr",
     "output_type": "stream",
     "text": [
      "2021-03-07 09:53:24,298 - __main__ - INFO - round-0_epoch-92: cycle\n",
      "2021-03-07 09:53:34,344 - __main__ - INFO - round-0_epoch-93: fit\n"
     ]
    },
    {
     "name": "stdout",
     "output_type": "stream",
     "text": [
      "Epoch 94/94\n",
      "118/118 [==============================] - 4s 36ms/step - loss: 26.2217 - reconstruction_loss: 19.0491 - kl_loss: 7.2158\n"
     ]
    },
    {
     "name": "stderr",
     "output_type": "stream",
     "text": [
      "2021-03-07 09:53:38,884 - __main__ - INFO - round-0_epoch-93: cycle\n"
     ]
    }
   ],
   "source": [
    "for round in range(10):\n",
    "    run_round(datasets, ae_builder, {'epochs': 250}, round)"
   ]
  },
  {
   "cell_type": "markdown",
   "metadata": {},
   "source": [
    "### tensorboard"
   ]
  },
  {
   "cell_type": "code",
   "execution_count": null,
   "metadata": {},
   "outputs": [],
   "source": [
    "%tensorboard --logdir ..\\data\\output\\twoballs"
   ]
  },
  {
   "cell_type": "code",
   "execution_count": null,
   "metadata": {},
   "outputs": [],
   "source": []
  }
 ],
 "metadata": {
  "accelerator": "GPU",
  "colab": {
   "include_colab_link": true,
   "name": "robot-arm-vae2.ipynb",
   "provenance": []
  },
  "kernelspec": {
   "display_name": "Python 3",
   "language": "python",
   "name": "python3"
  },
  "language_info": {
   "codemirror_mode": {
    "name": "ipython",
    "version": 3
   },
   "file_extension": ".py",
   "mimetype": "text/x-python",
   "name": "python",
   "nbconvert_exporter": "python",
   "pygments_lexer": "ipython3",
   "version": "3.6.12"
  },
  "toc-autonumbering": true,
  "toc-showmarkdowntxt": false,
  "toc-showtags": true
 },
 "nbformat": 4,
 "nbformat_minor": 4
}
