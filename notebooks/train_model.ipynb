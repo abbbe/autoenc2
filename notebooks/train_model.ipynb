{
 "cells": [
  {
   "cell_type": "markdown",
   "metadata": {},
   "source": [
    "This notebook implements autoencoder trial run cycles.\n",
    "\n",
    "* Define\n",
    "    * trial name\n",
    "    * environment to work with (MyBallsEnv, MyArmEnv, GymArmEnv)\n",
    "    * dataset to use (set of 3 npz files for train, test and grid visualization, each file contains many angle/image pairs)\n",
    "    * model builder\n",
    "    * list of parameters to try\n",
    "    * number of epochs to run \n",
    "    * output directory\n",
    "* Run\n",
    "    * fails if output directory exists, otherwise creates it\n",
    "    * chooses a set of model parameters\n",
    "Thursday 4/03/2021\n",
    "\n",
    "* Visualize YYs (third output sheet or animated GIF) to assess decoder performance\n",
    "* Rerun with [2, 10, 50] epochs\n",
    "* Implement beta-VAE (see beta-vae notebook)\n",
    "\n",
    "Next:\n",
    "\n",
    "* Explore impact of changing filters chain down to 2x (2,2)\n",
    "* Scatterplot 3D\n",
    "* How does it fluctuate depending on network architecture, nlats, training protocol, etc\n",
    "* Explore fold area in L0/L1 space. For each frame show:\n",
    " * image of gym robot,\n",
    " * colored L0/L1 scatterplot, with a red cross showing current latent state,\n",
    " * image reconstructed by the autoencoder"
   ]
  },
  {
   "cell_type": "markdown",
   "metadata": {},
   "source": [
    "### imports"
   ]
  },
  {
   "cell_type": "code",
   "execution_count": 1,
   "metadata": {
    "colab": {
     "base_uri": "https://localhost:8080/"
    },
    "id": "OoMQk_5c4UYm",
    "outputId": "02cc896f-38e0-4a92-81ce-c20a7322369d"
   },
   "outputs": [],
   "source": [
    "%load_ext autoreload\n",
    "%autoreload 2\n",
    "\n",
    "%matplotlib inline\n",
    "import matplotlib.pyplot as plt\n",
    "\n",
    "%load_ext tensorboard\n",
    "\n",
    "import numpy as np\n",
    "import os, datetime\n",
    "\n",
    "import tensorflow as tf\n",
    "from tensorflow import keras\n",
    "from tensorflow.keras import layers\n",
    "\n",
    "from src.config import output_data_dir\n",
    "\n",
    "import logging\n",
    "logger = logging.getLogger(__name__)\n"
   ]
  },
  {
   "cell_type": "markdown",
   "metadata": {},
   "source": [
    "### helpers"
   ]
  },
  {
   "cell_type": "code",
   "execution_count": 2,
   "metadata": {},
   "outputs": [],
   "source": [
    "def cycle_autoencoder(ae, dataset, prefix=\"\", N=10, vae=False):\n",
    "    Y = dataset['images']\n",
    "    \n",
    "    L = ae['enc'].predict(Y)\n",
    "    L = np.array(L)\n",
    "\n",
    "    if vae:\n",
    "        L = np.array(L)[2] # [z_mean, z_log_var, z] - take Z\n",
    "\n",
    "    YY = ae['dec'].predict(L)\n",
    "    YY = np.array(YY)\n",
    "    \n",
    "    out_data = dict()\n",
    "    out_data['latvars'] = L\n",
    "    out_data['rec_images'] = YY\n",
    "\n",
    "    return out_data    "
   ]
  },
  {
   "cell_type": "markdown",
   "metadata": {},
   "source": [
    "### environment"
   ]
  },
  {
   "cell_type": "code",
   "execution_count": 3,
   "metadata": {},
   "outputs": [],
   "source": [
    "import src.models.vae\n",
    "\n",
    "# define ae builder method and environment name\n",
    "ae_builder = src.models.vae.build_autoencoder\n",
    "ENV_NAME = \"twoballs\""
   ]
  },
  {
   "cell_type": "markdown",
   "metadata": {},
   "source": [
    "### subdirectories"
   ]
  },
  {
   "cell_type": "code",
   "execution_count": 4,
   "metadata": {},
   "outputs": [],
   "source": [
    "TRIAL_DIR = os.path.join(output_data_dir, ENV_NAME) # FUXNE\n",
    "\n",
    "# fail if TRIAL_DIR exists\n",
    "assert(not os.path.exists(TRIAL_DIR))\n",
    "    \n",
    "# create trial subdirs\n",
    "TENSORBOARD_LOGS_DIR =  \"%s/tensorboard-logs\" % TRIAL_DIR\n",
    "TRAINED_MODELS_DIR = \"%s/trained-models\" % TRIAL_DIR\n",
    "#DATA_DIR = \"%s/data\" % TRIAL_DIR\n",
    "IMGS_DIR = \"%s/imgs\" % TRIAL_DIR\n",
    "\n",
    "#for dir in [TENSORBOARD_LOGS_DIR, TRAINED_MODELS_DIR, DATA_DIR, IMGS_DIR]:\n",
    "for dir in [TENSORBOARD_LOGS_DIR, TRAINED_MODELS_DIR, IMGS_DIR]:\n",
    "    os.makedirs(dir, exist_ok=True)"
   ]
  },
  {
   "cell_type": "markdown",
   "metadata": {},
   "source": [
    "### load datasets"
   ]
  },
  {
   "cell_type": "code",
   "execution_count": 5,
   "metadata": {
    "scrolled": true
   },
   "outputs": [
    {
     "name": "stderr",
     "output_type": "stream",
     "text": [
      "2021-03-07 10:43:02,112 - src.data.dataset - INFO - Loading from C:\\Users\\alexa\\Documents\\dvp\\autoenc2\\data\\processed\\twoballs_rand_15000.npz ...\n",
      "2021-03-07 10:43:03,095 - src.data.dataset - INFO - Loaded 15000 datapoints from C:\\Users\\alexa\\Documents\\dvp\\autoenc2\\data\\processed\\twoballs_rand_15000.npz\n",
      "2021-03-07 10:43:03,095 - src.data.dataset - INFO - Loading from C:\\Users\\alexa\\Documents\\dvp\\autoenc2\\data\\processed\\twoballs_rand_1000.npz ...\n",
      "2021-03-07 10:43:03,161 - src.data.dataset - INFO - Loaded 1000 datapoints from C:\\Users\\alexa\\Documents\\dvp\\autoenc2\\data\\processed\\twoballs_rand_1000.npz\n",
      "2021-03-07 10:43:03,161 - src.data.dataset - INFO - Loading from C:\\Users\\alexa\\Documents\\dvp\\autoenc2\\data\\processed\\twoballs_grid_20_500.npz ...\n",
      "2021-03-07 10:43:04,472 - src.data.dataset - INFO - Loaded 20000 datapoints from C:\\Users\\alexa\\Documents\\dvp\\autoenc2\\data\\processed\\twoballs_grid_20_500.npz\n"
     ]
    }
   ],
   "source": [
    "from src.data.dataset import load_datasets\n",
    "\n",
    "datasets = load_datasets(ENV_NAME)"
   ]
  },
  {
   "cell_type": "markdown",
   "metadata": {},
   "source": [
    "### train"
   ]
  },
  {
   "cell_type": "code",
   "execution_count": 6,
   "metadata": {
    "scrolled": true
   },
   "outputs": [],
   "source": [
    "from src.models import save_models, save_models_weights\n",
    "from src.visualization.lat import visualize_lat_space, animate_Y_YYs\n",
    "\n",
    "def save_visualization(dataset, dataset_grid_out, round, epoch):\n",
    "    vis_fname = \"%s/round-%d_epoch-%d.png\" % (IMGS_DIR, round, epoch)\n",
    "    ani_fname = \"%s/round-%d_epoch-%d.mp4\" % (IMGS_DIR, round, epoch)\n",
    "\n",
    "    # save 4x4 visualization of pairwise plots of latvars vs angles\n",
    "    fig, axs = visualize_lat_space(dataset['grid'], dataset_grid_out, sheet=1)\n",
    "    fig.savefig(vis_fname)\n",
    "    \n",
    "    #vis_fname2 = \"%s/%sb.png\" % (IMGS_DIR, suffix)\n",
    "    #fig, axs = visualize_lat_space(dataset['grid'], dataset_grid_out, sheet=2)\n",
    "    #fig.savefig(vis_fname2)\n",
    "\n",
    "    # save MP4\n",
    "    NANIFRAMES = 20\n",
    "    logger.debug(\"saving ani visualization (for %d datapoints from grid dataset) into %s\" % (NANIFRAMES, ani_fname))\n",
    "    rng = np.random.default_rng()\n",
    "    ani_is = rng.choice(range(dataset['grid']['images'].shape[0]), size=NANIFRAMES) # choose 20 random items from the dataset_grid\n",
    "    animate_Y_YYs(dataset['grid']['images'][ani_is], dataset_grid_out['rec_images'][ani_is], outfile=ani_fname)\n",
    "\n",
    "    plt.close('all')\n",
    "\n",
    "def run_round(datasets, ae_builder, params, round):\n",
    "    #if os.path.isfile(latvars_fname):\n",
    "    #    logger.error(\"%s exists, skipping ...\" % latvars_fname)\n",
    "    #    return\n",
    "    \n",
    "    print(\"*** run_round(%d, %s)\" % (round, str(params)))\n",
    "       \n",
    "    models = ae_builder((64, 64, 1), 2, params)\n",
    "\n",
    "    tensorboard_logdir = os.path.join((\"%s/round-%d\" % (TENSORBOARD_LOGS_DIR, round)),\n",
    "                                      datetime.datetime.now().strftime(\"%Y%m%d-%H%M%S\"))\n",
    "    tensorboard_callback = keras.callbacks.TensorBoard(tensorboard_logdir) #, histogram_freq=1)\n",
    "\n",
    "    for epoch in range(params['epochs']):\n",
    "        logger.info(\"round-%d_epoch-%d: fit\" % (round, epoch))\n",
    "        models['ae'].fit(datasets['train']['images'], callbacks=[tensorboard_callback],\n",
    "               initial_epoch=epoch, epochs=epoch+1, batch_size=128)\n",
    "        save_models_weights(models, \"%s/round-%d_epoch-%d\" % (TRAINED_MODELS_DIR, round, epoch))\n",
    "\n",
    "        logger.info(\"round-%d_epoch-%d: cycle\" % (round, epoch))\n",
    "        dataset_grid_out = cycle_autoencoder(models, datasets['grid'], vae=True)\n",
    "        save_visualization(datasets, dataset_grid_out, round, epoch)\n",
    "    \n",
    "        # save angles & latvars for grid dataset\n",
    "        dataset_test_out = cycle_autoencoder(models, datasets['test'], vae=True)\n",
    "        latvars_fname = \"%s/round-%d_epoch-%d.csv\" % (IMGS_DIR, round, epoch)\n",
    "        angles_latvars = np.hstack((datasets['test']['angles'], dataset_test_out['latvars']))\n",
    "        np.savetxt(latvars_fname, angles_latvars, delimiter=',')"
   ]
  },
  {
   "cell_type": "code",
   "execution_count": null,
   "metadata": {
    "tags": []
   },
   "outputs": [
    {
     "name": "stdout",
     "output_type": "stream",
     "text": [
      "*** run_round(0, {'epochs': 100})\n"
     ]
    },
    {
     "name": "stderr",
     "output_type": "stream",
     "text": [
      "2021-03-07 10:43:06,113 - __main__ - INFO - round-0_epoch-0: fit\n"
     ]
    },
    {
     "name": "stdout",
     "output_type": "stream",
     "text": [
      "118/118 [==============================] - 7s 34ms/step - loss: 888.1096 - reconstruction_loss: 279.7002 - kl_loss: 44.7063\n"
     ]
    },
    {
     "name": "stderr",
     "output_type": "stream",
     "text": [
      "2021-03-07 10:43:12,976 - __main__ - INFO - round-0_epoch-0: cycle\n",
      "2021-03-07 10:43:18,690 - __main__ - INFO - round-0_epoch-1: fit\n"
     ]
    },
    {
     "name": "stdout",
     "output_type": "stream",
     "text": [
      "Epoch 2/2\n",
      "118/118 [==============================] - 4s 34ms/step - loss: 68.1296 - reconstruction_loss: 64.0024 - kl_loss: 2.8723\n"
     ]
    },
    {
     "name": "stderr",
     "output_type": "stream",
     "text": [
      "2021-03-07 10:43:22,924 - __main__ - INFO - round-0_epoch-1: cycle\n",
      "2021-03-07 10:43:28,248 - __main__ - INFO - round-0_epoch-2: fit\n"
     ]
    },
    {
     "name": "stdout",
     "output_type": "stream",
     "text": [
      "Epoch 3/3\n",
      "118/118 [==============================] - 4s 34ms/step - loss: 52.3778 - reconstruction_loss: 44.0055 - kl_loss: 3.7526\n"
     ]
    },
    {
     "name": "stderr",
     "output_type": "stream",
     "text": [
      "2021-03-07 10:43:32,432 - __main__ - INFO - round-0_epoch-2: cycle\n",
      "2021-03-07 10:43:37,770 - __main__ - INFO - round-0_epoch-3: fit\n"
     ]
    },
    {
     "name": "stdout",
     "output_type": "stream",
     "text": [
      "Epoch 4/4\n",
      "118/118 [==============================] - 4s 33ms/step - loss: 39.3368 - reconstruction_loss: 33.4667 - kl_loss: 4.8435\n"
     ]
    },
    {
     "name": "stderr",
     "output_type": "stream",
     "text": [
      "2021-03-07 10:43:41,986 - __main__ - INFO - round-0_epoch-3: cycle\n",
      "2021-03-07 10:43:47,434 - __main__ - INFO - round-0_epoch-4: fit\n"
     ]
    },
    {
     "name": "stdout",
     "output_type": "stream",
     "text": [
      "Epoch 5/5\n",
      "118/118 [==============================] - 4s 34ms/step - loss: 36.1149 - reconstruction_loss: 30.4702 - kl_loss: 5.2367\n"
     ]
    },
    {
     "name": "stderr",
     "output_type": "stream",
     "text": [
      "2021-03-07 10:43:51,611 - __main__ - INFO - round-0_epoch-4: cycle\n",
      "2021-03-07 10:43:57,045 - __main__ - INFO - round-0_epoch-5: fit\n"
     ]
    },
    {
     "name": "stdout",
     "output_type": "stream",
     "text": [
      "Epoch 6/6\n",
      "118/118 [==============================] - 4s 34ms/step - loss: 34.2881 - reconstruction_loss: 28.4164 - kl_loss: 5.5850\n"
     ]
    },
    {
     "name": "stderr",
     "output_type": "stream",
     "text": [
      "2021-03-07 10:44:01,204 - __main__ - INFO - round-0_epoch-5: cycle\n",
      "2021-03-07 10:44:06,598 - __main__ - INFO - round-0_epoch-6: fit\n"
     ]
    },
    {
     "name": "stdout",
     "output_type": "stream",
     "text": [
      "Epoch 7/7\n",
      "118/118 [==============================] - 4s 34ms/step - loss: 33.3260 - reconstruction_loss: 27.2801 - kl_loss: 5.7844: 3s - loss: 33.\n"
     ]
    },
    {
     "name": "stderr",
     "output_type": "stream",
     "text": [
      "2021-03-07 10:44:10,796 - __main__ - INFO - round-0_epoch-6: cycle\n",
      "2021-03-07 10:44:16,205 - __main__ - INFO - round-0_epoch-7: fit\n"
     ]
    },
    {
     "name": "stdout",
     "output_type": "stream",
     "text": [
      "Epoch 8/8\n",
      "118/118 [==============================] - 4s 35ms/step - loss: 32.6546 - reconstruction_loss: 26.4612 - kl_loss: 5.9267\n"
     ]
    },
    {
     "name": "stderr",
     "output_type": "stream",
     "text": [
      "2021-03-07 10:44:20,529 - __main__ - INFO - round-0_epoch-7: cycle\n",
      "2021-03-07 10:44:26,179 - __main__ - INFO - round-0_epoch-8: fit\n"
     ]
    },
    {
     "name": "stdout",
     "output_type": "stream",
     "text": [
      "Epoch 9/9\n",
      "118/118 [==============================] - 4s 33ms/step - loss: 31.9690 - reconstruction_loss: 25.7645 - kl_loss: 6.0402\n"
     ]
    },
    {
     "name": "stderr",
     "output_type": "stream",
     "text": [
      "2021-03-07 10:44:30,376 - __main__ - INFO - round-0_epoch-8: cycle\n",
      "2021-03-07 10:44:36,251 - __main__ - INFO - round-0_epoch-9: fit\n"
     ]
    },
    {
     "name": "stdout",
     "output_type": "stream",
     "text": [
      "Epoch 10/10\n",
      "118/118 [==============================] - 4s 33ms/step - loss: 31.6679 - reconstruction_loss: 25.4025 - kl_loss: 6.1100\n"
     ]
    },
    {
     "name": "stderr",
     "output_type": "stream",
     "text": [
      "2021-03-07 10:44:40,404 - __main__ - INFO - round-0_epoch-9: cycle\n",
      "2021-03-07 10:44:45,842 - __main__ - INFO - round-0_epoch-10: fit\n"
     ]
    },
    {
     "name": "stdout",
     "output_type": "stream",
     "text": [
      "Epoch 11/11\n",
      "118/118 [==============================] - 4s 33ms/step - loss: 30.9863 - reconstruction_loss: 24.7877 - kl_loss: 6.2074\n"
     ]
    },
    {
     "name": "stderr",
     "output_type": "stream",
     "text": [
      "2021-03-07 10:44:49,988 - __main__ - INFO - round-0_epoch-10: cycle\n",
      "2021-03-07 10:44:55,396 - __main__ - INFO - round-0_epoch-11: fit\n"
     ]
    },
    {
     "name": "stdout",
     "output_type": "stream",
     "text": [
      "Epoch 12/12\n",
      "118/118 [==============================] - 4s 33ms/step - loss: 30.9025 - reconstruction_loss: 24.4861 - kl_loss: 6.2463\n"
     ]
    },
    {
     "name": "stderr",
     "output_type": "stream",
     "text": [
      "2021-03-07 10:44:59,552 - __main__ - INFO - round-0_epoch-11: cycle\n",
      "2021-03-07 10:45:05,063 - __main__ - INFO - round-0_epoch-12: fit\n"
     ]
    },
    {
     "name": "stdout",
     "output_type": "stream",
     "text": [
      "Epoch 13/13\n",
      "118/118 [==============================] - 4s 34ms/step - loss: 30.6569 - reconstruction_loss: 24.1048 - kl_loss: 6.3209\n"
     ]
    },
    {
     "name": "stderr",
     "output_type": "stream",
     "text": [
      "2021-03-07 10:45:09,233 - __main__ - INFO - round-0_epoch-12: cycle\n",
      "2021-03-07 10:45:14,673 - __main__ - INFO - round-0_epoch-13: fit\n"
     ]
    },
    {
     "name": "stdout",
     "output_type": "stream",
     "text": [
      "Epoch 14/14\n",
      "118/118 [==============================] - 4s 34ms/step - loss: 30.3019 - reconstruction_loss: 23.7608 - kl_loss: 6.3808\n"
     ]
    },
    {
     "name": "stderr",
     "output_type": "stream",
     "text": [
      "2021-03-07 10:45:18,875 - __main__ - INFO - round-0_epoch-13: cycle\n",
      "2021-03-07 10:45:24,377 - __main__ - INFO - round-0_epoch-14: fit\n"
     ]
    },
    {
     "name": "stdout",
     "output_type": "stream",
     "text": [
      "Epoch 15/15\n",
      "118/118 [==============================] - 4s 34ms/step - loss: 30.1086 - reconstruction_loss: 23.6266 - kl_loss: 6.3869\n"
     ]
    },
    {
     "name": "stderr",
     "output_type": "stream",
     "text": [
      "2021-03-07 10:45:28,668 - __main__ - INFO - round-0_epoch-14: cycle\n",
      "2021-03-07 10:45:34,260 - __main__ - INFO - round-0_epoch-15: fit\n"
     ]
    },
    {
     "name": "stdout",
     "output_type": "stream",
     "text": [
      "Epoch 16/16\n",
      "118/118 [==============================] - 4s 34ms/step - loss: 29.9312 - reconstruction_loss: 23.4019 - kl_loss: 6.4491\n"
     ]
    },
    {
     "name": "stderr",
     "output_type": "stream",
     "text": [
      "2021-03-07 10:45:38,474 - __main__ - INFO - round-0_epoch-15: cycle\n",
      "2021-03-07 10:45:44,144 - __main__ - INFO - round-0_epoch-16: fit\n"
     ]
    },
    {
     "name": "stdout",
     "output_type": "stream",
     "text": [
      "Epoch 17/17\n",
      "118/118 [==============================] - 4s 34ms/step - loss: 30.0232 - reconstruction_loss: 23.3306 - kl_loss: 6.4565\n"
     ]
    },
    {
     "name": "stderr",
     "output_type": "stream",
     "text": [
      "2021-03-07 10:45:48,367 - __main__ - INFO - round-0_epoch-16: cycle\n",
      "2021-03-07 10:45:53,979 - __main__ - INFO - round-0_epoch-17: fit\n"
     ]
    },
    {
     "name": "stdout",
     "output_type": "stream",
     "text": [
      "Epoch 18/18\n",
      "118/118 [==============================] - 4s 34ms/step - loss: 29.4922 - reconstruction_loss: 22.9490 - kl_loss: 6.5055\n"
     ]
    },
    {
     "name": "stderr",
     "output_type": "stream",
     "text": [
      "2021-03-07 10:45:58,219 - __main__ - INFO - round-0_epoch-17: cycle\n",
      "2021-03-07 10:46:04,035 - __main__ - INFO - round-0_epoch-18: fit\n"
     ]
    },
    {
     "name": "stdout",
     "output_type": "stream",
     "text": [
      "Epoch 19/19\n",
      "118/118 [==============================] - 4s 34ms/step - loss: 29.5164 - reconstruction_loss: 22.8774 - kl_loss: 6.5389\n"
     ]
    },
    {
     "name": "stderr",
     "output_type": "stream",
     "text": [
      "2021-03-07 10:46:08,244 - __main__ - INFO - round-0_epoch-18: cycle\n",
      "2021-03-07 10:46:14,144 - __main__ - INFO - round-0_epoch-19: fit\n"
     ]
    },
    {
     "name": "stdout",
     "output_type": "stream",
     "text": [
      "Epoch 20/20\n",
      "118/118 [==============================] - 4s 34ms/step - loss: 29.3769 - reconstruction_loss: 22.6065 - kl_loss: 6.5597\n"
     ]
    },
    {
     "name": "stderr",
     "output_type": "stream",
     "text": [
      "2021-03-07 10:46:18,421 - __main__ - INFO - round-0_epoch-19: cycle\n",
      "2021-03-07 10:46:24,153 - __main__ - INFO - round-0_epoch-20: fit\n"
     ]
    },
    {
     "name": "stdout",
     "output_type": "stream",
     "text": [
      "Epoch 21/21\n",
      "118/118 [==============================] - 4s 34ms/step - loss: 29.2261 - reconstruction_loss: 22.4679 - kl_loss: 6.6053\n"
     ]
    },
    {
     "name": "stderr",
     "output_type": "stream",
     "text": [
      "2021-03-07 10:46:28,358 - __main__ - INFO - round-0_epoch-20: cycle\n",
      "2021-03-07 10:46:34,139 - __main__ - INFO - round-0_epoch-21: fit\n"
     ]
    },
    {
     "name": "stdout",
     "output_type": "stream",
     "text": [
      "Epoch 22/22\n",
      "118/118 [==============================] - 4s 34ms/step - loss: 29.1624 - reconstruction_loss: 22.3387 - kl_loss: 6.6368: 3s - loss: 29.3612 - re\n"
     ]
    },
    {
     "name": "stderr",
     "output_type": "stream",
     "text": [
      "2021-03-07 10:46:38,349 - __main__ - INFO - round-0_epoch-21: cycle\n",
      "2021-03-07 10:46:44,642 - __main__ - INFO - round-0_epoch-22: fit\n"
     ]
    },
    {
     "name": "stdout",
     "output_type": "stream",
     "text": [
      "Epoch 23/23\n",
      "118/118 [==============================] - 4s 34ms/step - loss: 28.8960 - reconstruction_loss: 22.1719 - kl_loss: 6.6695\n"
     ]
    },
    {
     "name": "stderr",
     "output_type": "stream",
     "text": [
      "2021-03-07 10:46:48,915 - __main__ - INFO - round-0_epoch-22: cycle\n",
      "2021-03-07 10:46:54,926 - __main__ - INFO - round-0_epoch-23: fit\n"
     ]
    },
    {
     "name": "stdout",
     "output_type": "stream",
     "text": [
      "Epoch 24/24\n",
      "118/118 [==============================] - 4s 34ms/step - loss: 28.6917 - reconstruction_loss: 21.9033 - kl_loss: 6.6895\n"
     ]
    },
    {
     "name": "stderr",
     "output_type": "stream",
     "text": [
      "2021-03-07 10:46:59,154 - __main__ - INFO - round-0_epoch-23: cycle\n",
      "2021-03-07 10:47:05,329 - __main__ - INFO - round-0_epoch-24: fit\n"
     ]
    },
    {
     "name": "stdout",
     "output_type": "stream",
     "text": [
      "Epoch 25/25\n",
      "118/118 [==============================] - 4s 34ms/step - loss: 28.5777 - reconstruction_loss: 21.8303 - kl_loss: 6.7097\n"
     ]
    },
    {
     "name": "stderr",
     "output_type": "stream",
     "text": [
      "2021-03-07 10:47:09,608 - __main__ - INFO - round-0_epoch-24: cycle\n",
      "2021-03-07 10:47:15,487 - __main__ - INFO - round-0_epoch-25: fit\n"
     ]
    },
    {
     "name": "stdout",
     "output_type": "stream",
     "text": [
      "Epoch 26/26\n",
      "118/118 [==============================] - 4s 34ms/step - loss: 28.4809 - reconstruction_loss: 21.6827 - kl_loss: 6.7265\n"
     ]
    },
    {
     "name": "stderr",
     "output_type": "stream",
     "text": [
      "2021-03-07 10:47:19,781 - __main__ - INFO - round-0_epoch-25: cycle\n",
      "2021-03-07 10:47:25,884 - __main__ - INFO - round-0_epoch-26: fit\n"
     ]
    },
    {
     "name": "stdout",
     "output_type": "stream",
     "text": [
      "Epoch 27/27\n",
      "118/118 [==============================] - 4s 34ms/step - loss: 28.4318 - reconstruction_loss: 21.7239 - kl_loss: 6.7189\n"
     ]
    },
    {
     "name": "stderr",
     "output_type": "stream",
     "text": [
      "2021-03-07 10:47:30,104 - __main__ - INFO - round-0_epoch-26: cycle\n",
      "2021-03-07 10:47:35,971 - __main__ - INFO - round-0_epoch-27: fit\n"
     ]
    },
    {
     "name": "stdout",
     "output_type": "stream",
     "text": [
      "Epoch 28/28\n",
      "118/118 [==============================] - 4s 34ms/step - loss: 28.4612 - reconstruction_loss: 21.6214 - kl_loss: 6.7451\n"
     ]
    },
    {
     "name": "stderr",
     "output_type": "stream",
     "text": [
      "2021-03-07 10:47:40,187 - __main__ - INFO - round-0_epoch-27: cycle\n",
      "2021-03-07 10:47:46,216 - __main__ - INFO - round-0_epoch-28: fit\n"
     ]
    },
    {
     "name": "stdout",
     "output_type": "stream",
     "text": [
      "Epoch 29/29\n",
      "118/118 [==============================] - 4s 34ms/step - loss: 28.3576 - reconstruction_loss: 21.5185 - kl_loss: 6.7556\n"
     ]
    },
    {
     "name": "stderr",
     "output_type": "stream",
     "text": [
      "2021-03-07 10:47:50,470 - __main__ - INFO - round-0_epoch-28: cycle\n",
      "2021-03-07 10:47:56,671 - __main__ - INFO - round-0_epoch-29: fit\n"
     ]
    },
    {
     "name": "stdout",
     "output_type": "stream",
     "text": [
      "Epoch 30/30\n",
      "118/118 [==============================] - 4s 34ms/step - loss: 28.1625 - reconstruction_loss: 21.4059 - kl_loss: 6.7861\n"
     ]
    },
    {
     "name": "stderr",
     "output_type": "stream",
     "text": [
      "2021-03-07 10:48:00,903 - __main__ - INFO - round-0_epoch-29: cycle\n",
      "2021-03-07 10:48:06,949 - __main__ - INFO - round-0_epoch-30: fit\n"
     ]
    },
    {
     "name": "stdout",
     "output_type": "stream",
     "text": [
      "Epoch 31/31\n",
      "118/118 [==============================] - 4s 34ms/step - loss: 28.0821 - reconstruction_loss: 21.1332 - kl_loss: 6.8244\n"
     ]
    },
    {
     "name": "stderr",
     "output_type": "stream",
     "text": [
      "2021-03-07 10:48:11,169 - __main__ - INFO - round-0_epoch-30: cycle\n",
      "2021-03-07 10:48:17,233 - __main__ - INFO - round-0_epoch-31: fit\n"
     ]
    },
    {
     "name": "stdout",
     "output_type": "stream",
     "text": [
      "Epoch 32/32\n",
      "118/118 [==============================] - 4s 36ms/step - loss: 28.0717 - reconstruction_loss: 21.1227 - kl_loss: 6.8175\n"
     ]
    },
    {
     "name": "stderr",
     "output_type": "stream",
     "text": [
      "2021-03-07 10:48:21,751 - __main__ - INFO - round-0_epoch-31: cycle\n",
      "2021-03-07 10:48:28,330 - __main__ - INFO - round-0_epoch-32: fit\n"
     ]
    },
    {
     "name": "stdout",
     "output_type": "stream",
     "text": [
      "Epoch 33/33\n",
      "118/118 [==============================] - 4s 34ms/step - loss: 27.8630 - reconstruction_loss: 21.0023 - kl_loss: 6.8262\n"
     ]
    },
    {
     "name": "stderr",
     "output_type": "stream",
     "text": [
      "2021-03-07 10:48:32,622 - __main__ - INFO - round-0_epoch-32: cycle\n",
      "2021-03-07 10:48:38,682 - __main__ - INFO - round-0_epoch-33: fit\n"
     ]
    },
    {
     "name": "stdout",
     "output_type": "stream",
     "text": [
      "Epoch 34/34\n",
      "118/118 [==============================] - 4s 34ms/step - loss: 27.7376 - reconstruction_loss: 20.8590 - kl_loss: 6.8668\n"
     ]
    },
    {
     "name": "stderr",
     "output_type": "stream",
     "text": [
      "2021-03-07 10:48:42,923 - __main__ - INFO - round-0_epoch-33: cycle\n",
      "2021-03-07 10:48:49,026 - __main__ - INFO - round-0_epoch-34: fit\n"
     ]
    },
    {
     "name": "stdout",
     "output_type": "stream",
     "text": [
      "Epoch 35/35\n",
      "118/118 [==============================] - 4s 34ms/step - loss: 27.7233 - reconstruction_loss: 20.7086 - kl_loss: 6.9058\n"
     ]
    },
    {
     "name": "stderr",
     "output_type": "stream",
     "text": [
      "2021-03-07 10:48:53,288 - __main__ - INFO - round-0_epoch-34: cycle\n",
      "2021-03-07 10:48:59,571 - __main__ - INFO - round-0_epoch-35: fit\n"
     ]
    },
    {
     "name": "stdout",
     "output_type": "stream",
     "text": [
      "Epoch 36/36\n",
      "118/118 [==============================] - 4s 34ms/step - loss: 27.7506 - reconstruction_loss: 20.7207 - kl_loss: 6.9113\n"
     ]
    },
    {
     "name": "stderr",
     "output_type": "stream",
     "text": [
      "2021-03-07 10:49:03,792 - __main__ - INFO - round-0_epoch-35: cycle\n",
      "2021-03-07 10:49:10,509 - __main__ - INFO - round-0_epoch-36: fit\n"
     ]
    },
    {
     "name": "stdout",
     "output_type": "stream",
     "text": [
      "Epoch 37/37\n",
      "118/118 [==============================] - 4s 34ms/step - loss: 27.6578 - reconstruction_loss: 20.6507 - kl_loss: 6.9107\n"
     ]
    },
    {
     "name": "stderr",
     "output_type": "stream",
     "text": [
      "2021-03-07 10:49:14,800 - __main__ - INFO - round-0_epoch-36: cycle\n",
      "2021-03-07 10:49:21,098 - __main__ - INFO - round-0_epoch-37: fit\n"
     ]
    },
    {
     "name": "stdout",
     "output_type": "stream",
     "text": [
      "Epoch 38/38\n",
      "118/118 [==============================] - 4s 34ms/step - loss: 27.5073 - reconstruction_loss: 20.5166 - kl_loss: 6.9369\n"
     ]
    },
    {
     "name": "stderr",
     "output_type": "stream",
     "text": [
      "2021-03-07 10:49:25,323 - __main__ - INFO - round-0_epoch-37: cycle\n",
      "2021-03-07 10:49:31,557 - __main__ - INFO - round-0_epoch-38: fit\n"
     ]
    },
    {
     "name": "stdout",
     "output_type": "stream",
     "text": [
      "Epoch 39/39\n",
      "118/118 [==============================] - 4s 34ms/step - loss: 27.4712 - reconstruction_loss: 20.5025 - kl_loss: 6.9223\n"
     ]
    },
    {
     "name": "stderr",
     "output_type": "stream",
     "text": [
      "2021-03-07 10:49:35,790 - __main__ - INFO - round-0_epoch-38: cycle\n",
      "2021-03-07 10:49:42,024 - __main__ - INFO - round-0_epoch-39: fit\n"
     ]
    },
    {
     "name": "stdout",
     "output_type": "stream",
     "text": [
      "Epoch 40/40\n",
      "118/118 [==============================] - 4s 34ms/step - loss: 27.3776 - reconstruction_loss: 20.3835 - kl_loss: 6.9452\n"
     ]
    },
    {
     "name": "stderr",
     "output_type": "stream",
     "text": [
      "2021-03-07 10:49:46,261 - __main__ - INFO - round-0_epoch-39: cycle\n",
      "2021-03-07 10:49:52,666 - __main__ - INFO - round-0_epoch-40: fit\n"
     ]
    },
    {
     "name": "stdout",
     "output_type": "stream",
     "text": [
      "Epoch 41/41\n",
      "118/118 [==============================] - 4s 34ms/step - loss: 44.7314 - reconstruction_loss: 38.9034 - kl_loss: 5.1657\n"
     ]
    },
    {
     "name": "stderr",
     "output_type": "stream",
     "text": [
      "2021-03-07 10:49:56,961 - __main__ - INFO - round-0_epoch-40: cycle\n",
      "2021-03-07 10:50:03,379 - __main__ - INFO - round-0_epoch-41: fit\n"
     ]
    },
    {
     "name": "stdout",
     "output_type": "stream",
     "text": [
      "Epoch 42/42\n",
      "118/118 [==============================] - 4s 34ms/step - loss: 30.5539 - reconstruction_loss: 23.3725 - kl_loss: 6.4298\n"
     ]
    },
    {
     "name": "stderr",
     "output_type": "stream",
     "text": [
      "2021-03-07 10:50:07,656 - __main__ - INFO - round-0_epoch-41: cycle\n",
      "2021-03-07 10:50:14,397 - __main__ - INFO - round-0_epoch-42: fit\n"
     ]
    },
    {
     "name": "stdout",
     "output_type": "stream",
     "text": [
      "Epoch 43/43\n",
      "118/118 [==============================] - 4s 35ms/step - loss: 28.7147 - reconstruction_loss: 21.8523 - kl_loss: 6.7037\n"
     ]
    },
    {
     "name": "stderr",
     "output_type": "stream",
     "text": [
      "2021-03-07 10:50:18,789 - __main__ - INFO - round-0_epoch-42: cycle\n",
      "2021-03-07 10:50:25,570 - __main__ - INFO - round-0_epoch-43: fit\n"
     ]
    },
    {
     "name": "stdout",
     "output_type": "stream",
     "text": [
      "Epoch 44/44\n",
      "118/118 [==============================] - 4s 35ms/step - loss: 28.2944 - reconstruction_loss: 21.4587 - kl_loss: 6.7865\n"
     ]
    },
    {
     "name": "stderr",
     "output_type": "stream",
     "text": [
      "2021-03-07 10:50:29,934 - __main__ - INFO - round-0_epoch-43: cycle\n",
      "2021-03-07 10:50:36,678 - __main__ - INFO - round-0_epoch-44: fit\n"
     ]
    },
    {
     "name": "stdout",
     "output_type": "stream",
     "text": [
      "Epoch 45/45\n",
      "118/118 [==============================] - 4s 34ms/step - loss: 27.9346 - reconstruction_loss: 21.1148 - kl_loss: 6.8332\n"
     ]
    },
    {
     "name": "stderr",
     "output_type": "stream",
     "text": [
      "2021-03-07 10:50:40,988 - __main__ - INFO - round-0_epoch-44: cycle\n",
      "2021-03-07 10:50:47,653 - __main__ - INFO - round-0_epoch-45: fit\n"
     ]
    },
    {
     "name": "stdout",
     "output_type": "stream",
     "text": [
      "Epoch 46/46\n",
      "118/118 [==============================] - 4s 35ms/step - loss: 27.8242 - reconstruction_loss: 20.8301 - kl_loss: 6.8713\n"
     ]
    },
    {
     "name": "stderr",
     "output_type": "stream",
     "text": [
      "2021-03-07 10:50:52,036 - __main__ - INFO - round-0_epoch-45: cycle\n",
      "2021-03-07 10:50:59,059 - __main__ - INFO - round-0_epoch-46: fit\n"
     ]
    },
    {
     "name": "stdout",
     "output_type": "stream",
     "text": [
      "Epoch 47/47\n",
      "118/118 [==============================] - 4s 35ms/step - loss: 27.6461 - reconstruction_loss: 20.7022 - kl_loss: 6.8857\n"
     ]
    },
    {
     "name": "stderr",
     "output_type": "stream",
     "text": [
      "2021-03-07 10:51:03,471 - __main__ - INFO - round-0_epoch-46: cycle\n",
      "2021-03-07 10:51:10,406 - __main__ - INFO - round-0_epoch-47: fit\n"
     ]
    },
    {
     "name": "stdout",
     "output_type": "stream",
     "text": [
      "Epoch 48/48\n",
      "118/118 [==============================] - 4s 34ms/step - loss: 27.6691 - reconstruction_loss: 20.6196 - kl_loss: 6.9263\n"
     ]
    },
    {
     "name": "stderr",
     "output_type": "stream",
     "text": [
      "2021-03-07 10:51:14,668 - __main__ - INFO - round-0_epoch-47: cycle\n",
      "2021-03-07 10:51:21,364 - __main__ - INFO - round-0_epoch-48: fit\n"
     ]
    },
    {
     "name": "stdout",
     "output_type": "stream",
     "text": [
      "Epoch 49/49\n",
      "118/118 [==============================] - 4s 35ms/step - loss: 27.4452 - reconstruction_loss: 20.4786 - kl_loss: 6.9408\n"
     ]
    },
    {
     "name": "stderr",
     "output_type": "stream",
     "text": [
      "2021-03-07 10:51:25,667 - __main__ - INFO - round-0_epoch-48: cycle\n",
      "2021-03-07 10:51:32,395 - __main__ - INFO - round-0_epoch-49: fit\n"
     ]
    },
    {
     "name": "stdout",
     "output_type": "stream",
     "text": [
      "Epoch 50/50\n",
      "118/118 [==============================] - 4s 34ms/step - loss: 27.5400 - reconstruction_loss: 20.4604 - kl_loss: 6.9490\n"
     ]
    },
    {
     "name": "stderr",
     "output_type": "stream",
     "text": [
      "2021-03-07 10:51:36,658 - __main__ - INFO - round-0_epoch-49: cycle\n",
      "2021-03-07 10:51:43,338 - __main__ - INFO - round-0_epoch-50: fit\n"
     ]
    },
    {
     "name": "stdout",
     "output_type": "stream",
     "text": [
      "Epoch 51/51\n",
      "118/118 [==============================] - 4s 34ms/step - loss: 27.4092 - reconstruction_loss: 20.4427 - kl_loss: 6.9663\n"
     ]
    },
    {
     "name": "stderr",
     "output_type": "stream",
     "text": [
      "2021-03-07 10:51:47,621 - __main__ - INFO - round-0_epoch-50: cycle\n",
      "2021-03-07 10:51:54,780 - __main__ - INFO - round-0_epoch-51: fit\n"
     ]
    },
    {
     "name": "stdout",
     "output_type": "stream",
     "text": [
      "Epoch 52/52\n",
      "118/118 [==============================] - 4s 34ms/step - loss: 27.1634 - reconstruction_loss: 20.1721 - kl_loss: 6.9867\n"
     ]
    },
    {
     "name": "stderr",
     "output_type": "stream",
     "text": [
      "2021-03-07 10:51:59,033 - __main__ - INFO - round-0_epoch-51: cycle\n",
      "2021-03-07 10:52:05,977 - __main__ - INFO - round-0_epoch-52: fit\n"
     ]
    },
    {
     "name": "stdout",
     "output_type": "stream",
     "text": [
      "Epoch 53/53\n",
      "118/118 [==============================] - 4s 35ms/step - loss: 27.3447 - reconstruction_loss: 20.2555 - kl_loss: 6.9952\n"
     ]
    },
    {
     "name": "stderr",
     "output_type": "stream",
     "text": [
      "2021-03-07 10:52:10,312 - __main__ - INFO - round-0_epoch-52: cycle\n",
      "2021-03-07 10:52:17,282 - __main__ - INFO - round-0_epoch-53: fit\n"
     ]
    },
    {
     "name": "stdout",
     "output_type": "stream",
     "text": [
      "Epoch 54/54\n",
      "118/118 [==============================] - 4s 35ms/step - loss: 27.1522 - reconstruction_loss: 20.1684 - kl_loss: 6.9810\n"
     ]
    },
    {
     "name": "stderr",
     "output_type": "stream",
     "text": [
      "2021-03-07 10:52:21,616 - __main__ - INFO - round-0_epoch-53: cycle\n",
      "2021-03-07 10:52:28,648 - __main__ - INFO - round-0_epoch-54: fit\n"
     ]
    },
    {
     "name": "stdout",
     "output_type": "stream",
     "text": [
      "Epoch 55/55\n",
      "118/118 [==============================] - 4s 34ms/step - loss: 27.0847 - reconstruction_loss: 20.0454 - kl_loss: 7.0235\n"
     ]
    },
    {
     "name": "stderr",
     "output_type": "stream",
     "text": [
      "2021-03-07 10:52:32,917 - __main__ - INFO - round-0_epoch-54: cycle\n",
      "2021-03-07 10:52:39,862 - __main__ - INFO - round-0_epoch-55: fit\n"
     ]
    },
    {
     "name": "stdout",
     "output_type": "stream",
     "text": [
      "Epoch 56/56\n",
      "118/118 [==============================] - 4s 35ms/step - loss: 27.0432 - reconstruction_loss: 20.0273 - kl_loss: 7.0140\n"
     ]
    },
    {
     "name": "stderr",
     "output_type": "stream",
     "text": [
      "2021-03-07 10:52:44,200 - __main__ - INFO - round-0_epoch-55: cycle\n",
      "2021-03-07 10:52:51,393 - __main__ - INFO - round-0_epoch-56: fit\n"
     ]
    },
    {
     "name": "stdout",
     "output_type": "stream",
     "text": [
      "Epoch 57/57\n",
      "118/118 [==============================] - 4s 35ms/step - loss: 27.1200 - reconstruction_loss: 19.9947 - kl_loss: 7.0301\n"
     ]
    },
    {
     "name": "stderr",
     "output_type": "stream",
     "text": [
      "2021-03-07 10:52:55,713 - __main__ - INFO - round-0_epoch-56: cycle\n",
      "2021-03-07 10:53:02,692 - __main__ - INFO - round-0_epoch-57: fit\n"
     ]
    },
    {
     "name": "stdout",
     "output_type": "stream",
     "text": [
      "Epoch 58/58\n",
      "118/118 [==============================] - 4s 34ms/step - loss: 27.0558 - reconstruction_loss: 19.9677 - kl_loss: 7.0431\n"
     ]
    },
    {
     "name": "stderr",
     "output_type": "stream",
     "text": [
      "2021-03-07 10:53:06,997 - __main__ - INFO - round-0_epoch-57: cycle\n",
      "2021-03-07 10:53:13,989 - __main__ - INFO - round-0_epoch-58: fit\n"
     ]
    },
    {
     "name": "stdout",
     "output_type": "stream",
     "text": [
      "Epoch 59/59\n",
      "118/118 [==============================] - 4s 34ms/step - loss: 27.0894 - reconstruction_loss: 19.8932 - kl_loss: 7.0501\n"
     ]
    },
    {
     "name": "stderr",
     "output_type": "stream",
     "text": [
      "2021-03-07 10:53:18,294 - __main__ - INFO - round-0_epoch-58: cycle\n",
      "2021-03-07 10:53:25,358 - __main__ - INFO - round-0_epoch-59: fit\n"
     ]
    },
    {
     "name": "stdout",
     "output_type": "stream",
     "text": [
      "Epoch 60/60\n",
      "118/118 [==============================] - 4s 34ms/step - loss: 26.7927 - reconstruction_loss: 19.7256 - kl_loss: 7.0590\n"
     ]
    },
    {
     "name": "stderr",
     "output_type": "stream",
     "text": [
      "2021-03-07 10:53:29,597 - __main__ - INFO - round-0_epoch-59: cycle\n",
      "2021-03-07 10:53:36,612 - __main__ - INFO - round-0_epoch-60: fit\n"
     ]
    },
    {
     "name": "stdout",
     "output_type": "stream",
     "text": [
      "Epoch 61/61\n",
      "118/118 [==============================] - 4s 34ms/step - loss: 26.7556 - reconstruction_loss: 19.6892 - kl_loss: 7.0497\n"
     ]
    },
    {
     "name": "stderr",
     "output_type": "stream",
     "text": [
      "2021-03-07 10:53:40,911 - __main__ - INFO - round-0_epoch-60: cycle\n",
      "2021-03-07 10:53:48,599 - __main__ - INFO - round-0_epoch-61: fit\n"
     ]
    },
    {
     "name": "stdout",
     "output_type": "stream",
     "text": [
      "Epoch 62/62\n",
      "118/118 [==============================] - 4s 34ms/step - loss: 27.1112 - reconstruction_loss: 19.8238 - kl_loss: 7.0502\n"
     ]
    },
    {
     "name": "stderr",
     "output_type": "stream",
     "text": [
      "2021-03-07 10:53:52,890 - __main__ - INFO - round-0_epoch-61: cycle\n",
      "2021-03-07 10:54:00,307 - __main__ - INFO - round-0_epoch-62: fit\n"
     ]
    },
    {
     "name": "stdout",
     "output_type": "stream",
     "text": [
      "Epoch 63/63\n",
      "118/118 [==============================] - 4s 35ms/step - loss: 26.8582 - reconstruction_loss: 19.7464 - kl_loss: 7.0635: 8s - loss\n"
     ]
    },
    {
     "name": "stderr",
     "output_type": "stream",
     "text": [
      "2021-03-07 10:54:04,670 - __main__ - INFO - round-0_epoch-62: cycle\n",
      "2021-03-07 10:54:12,600 - __main__ - INFO - round-0_epoch-63: fit\n"
     ]
    },
    {
     "name": "stdout",
     "output_type": "stream",
     "text": [
      "Epoch 64/64\n",
      "118/118 [==============================] - 4s 34ms/step - loss: 26.7892 - reconstruction_loss: 19.6453 - kl_loss: 7.0524\n"
     ]
    },
    {
     "name": "stderr",
     "output_type": "stream",
     "text": [
      "2021-03-07 10:54:16,893 - __main__ - INFO - round-0_epoch-63: cycle\n",
      "2021-03-07 10:54:24,269 - __main__ - INFO - round-0_epoch-64: fit\n"
     ]
    },
    {
     "name": "stdout",
     "output_type": "stream",
     "text": [
      "Epoch 65/65\n",
      "118/118 [==============================] - 4s 35ms/step - loss: 26.7996 - reconstruction_loss: 19.7728 - kl_loss: 7.0722\n"
     ]
    },
    {
     "name": "stderr",
     "output_type": "stream",
     "text": [
      "2021-03-07 10:54:28,645 - __main__ - INFO - round-0_epoch-64: cycle\n",
      "2021-03-07 10:54:36,322 - __main__ - INFO - round-0_epoch-65: fit\n"
     ]
    },
    {
     "name": "stdout",
     "output_type": "stream",
     "text": [
      "Epoch 66/66\n",
      "118/118 [==============================] - 4s 36ms/step - loss: 26.7928 - reconstruction_loss: 19.5466 - kl_loss: 7.0863\n"
     ]
    },
    {
     "name": "stderr",
     "output_type": "stream",
     "text": [
      "2021-03-07 10:54:40,804 - __main__ - INFO - round-0_epoch-65: cycle\n",
      "2021-03-07 10:54:48,804 - __main__ - INFO - round-0_epoch-66: fit\n"
     ]
    },
    {
     "name": "stdout",
     "output_type": "stream",
     "text": [
      "Epoch 67/67\n",
      "118/118 [==============================] - 4s 35ms/step - loss: 26.5873 - reconstruction_loss: 19.4845 - kl_loss: 7.1099\n"
     ]
    },
    {
     "name": "stderr",
     "output_type": "stream",
     "text": [
      "2021-03-07 10:54:53,201 - __main__ - INFO - round-0_epoch-66: cycle\n",
      "2021-03-07 10:55:00,988 - __main__ - INFO - round-0_epoch-67: fit\n"
     ]
    },
    {
     "name": "stdout",
     "output_type": "stream",
     "text": [
      "Epoch 68/68\n",
      "118/118 [==============================] - 4s 35ms/step - loss: 26.6333 - reconstruction_loss: 19.4836 - kl_loss: 7.0914\n"
     ]
    },
    {
     "name": "stderr",
     "output_type": "stream",
     "text": [
      "2021-03-07 10:55:05,351 - __main__ - INFO - round-0_epoch-67: cycle\n",
      "2021-03-07 10:55:12,891 - __main__ - INFO - round-0_epoch-68: fit\n"
     ]
    },
    {
     "name": "stdout",
     "output_type": "stream",
     "text": [
      "Epoch 69/69\n",
      "118/118 [==============================] - 4s 35ms/step - loss: 26.7217 - reconstruction_loss: 19.5268 - kl_loss: 7.1008\n"
     ]
    },
    {
     "name": "stderr",
     "output_type": "stream",
     "text": [
      "2021-03-07 10:55:17,251 - __main__ - INFO - round-0_epoch-68: cycle\n",
      "2021-03-07 10:55:24,915 - __main__ - INFO - round-0_epoch-69: fit\n"
     ]
    },
    {
     "name": "stdout",
     "output_type": "stream",
     "text": [
      "Epoch 70/70\n",
      "118/118 [==============================] - 4s 35ms/step - loss: 26.6252 - reconstruction_loss: 19.4559 - kl_loss: 7.1016\n"
     ]
    },
    {
     "name": "stderr",
     "output_type": "stream",
     "text": [
      "2021-03-07 10:55:29,283 - __main__ - INFO - round-0_epoch-69: cycle\n",
      "2021-03-07 10:55:36,893 - __main__ - INFO - round-0_epoch-70: fit\n"
     ]
    },
    {
     "name": "stdout",
     "output_type": "stream",
     "text": [
      "Epoch 71/71\n",
      "118/118 [==============================] - 4s 35ms/step - loss: 26.5214 - reconstruction_loss: 19.3596 - kl_loss: 7.1169\n"
     ]
    },
    {
     "name": "stderr",
     "output_type": "stream",
     "text": [
      "2021-03-07 10:55:41,281 - __main__ - INFO - round-0_epoch-70: cycle\n",
      "2021-03-07 10:55:48,972 - __main__ - INFO - round-0_epoch-71: fit\n"
     ]
    },
    {
     "name": "stdout",
     "output_type": "stream",
     "text": [
      "Epoch 72/72\n",
      "118/118 [==============================] - 4s 35ms/step - loss: 26.5836 - reconstruction_loss: 19.3341 - kl_loss: 7.1343\n"
     ]
    },
    {
     "name": "stderr",
     "output_type": "stream",
     "text": [
      "2021-03-07 10:55:53,379 - __main__ - INFO - round-0_epoch-71: cycle\n",
      "2021-03-07 10:56:02,007 - __main__ - INFO - round-0_epoch-72: fit\n"
     ]
    },
    {
     "name": "stdout",
     "output_type": "stream",
     "text": [
      "Epoch 73/73\n",
      "118/118 [==============================] - 4s 36ms/step - loss: 26.5247 - reconstruction_loss: 19.3210 - kl_loss: 7.1411\n"
     ]
    },
    {
     "name": "stderr",
     "output_type": "stream",
     "text": [
      "2021-03-07 10:56:06,486 - __main__ - INFO - round-0_epoch-72: cycle\n",
      "2021-03-07 10:56:15,319 - __main__ - INFO - round-0_epoch-73: fit\n"
     ]
    },
    {
     "name": "stdout",
     "output_type": "stream",
     "text": [
      "Epoch 74/74\n",
      "118/118 [==============================] - 4s 35ms/step - loss: 26.5517 - reconstruction_loss: 19.3436 - kl_loss: 7.1087\n"
     ]
    },
    {
     "name": "stderr",
     "output_type": "stream",
     "text": [
      "2021-03-07 10:56:19,647 - __main__ - INFO - round-0_epoch-73: cycle\n",
      "2021-03-07 10:56:27,795 - __main__ - INFO - round-0_epoch-74: fit\n"
     ]
    },
    {
     "name": "stdout",
     "output_type": "stream",
     "text": [
      "Epoch 75/75\n",
      "118/118 [==============================] - 4s 35ms/step - loss: 26.4715 - reconstruction_loss: 19.2561 - kl_loss: 7.1191\n"
     ]
    },
    {
     "name": "stderr",
     "output_type": "stream",
     "text": [
      "2021-03-07 10:56:32,204 - __main__ - INFO - round-0_epoch-74: cycle\n",
      "2021-03-07 10:56:40,528 - __main__ - INFO - round-0_epoch-75: fit\n"
     ]
    },
    {
     "name": "stdout",
     "output_type": "stream",
     "text": [
      "Epoch 76/76\n",
      "118/118 [==============================] - 4s 35ms/step - loss: 26.4066 - reconstruction_loss: 19.2660 - kl_loss: 7.1257\n"
     ]
    },
    {
     "name": "stderr",
     "output_type": "stream",
     "text": [
      "2021-03-07 10:56:44,886 - __main__ - INFO - round-0_epoch-75: cycle\n",
      "2021-03-07 10:56:53,166 - __main__ - INFO - round-0_epoch-76: fit\n"
     ]
    },
    {
     "name": "stdout",
     "output_type": "stream",
     "text": [
      "Epoch 77/77\n",
      "118/118 [==============================] - 4s 35ms/step - loss: 26.4734 - reconstruction_loss: 19.2597 - kl_loss: 7.1587\n"
     ]
    },
    {
     "name": "stderr",
     "output_type": "stream",
     "text": [
      "2021-03-07 10:56:57,491 - __main__ - INFO - round-0_epoch-76: cycle\n",
      "2021-03-07 10:57:06,042 - __main__ - INFO - round-0_epoch-77: fit\n"
     ]
    },
    {
     "name": "stdout",
     "output_type": "stream",
     "text": [
      "Epoch 78/78\n",
      "118/118 [==============================] - 4s 36ms/step - loss: 26.3317 - reconstruction_loss: 19.2420 - kl_loss: 7.1293\n"
     ]
    },
    {
     "name": "stderr",
     "output_type": "stream",
     "text": [
      "2021-03-07 10:57:10,549 - __main__ - INFO - round-0_epoch-77: cycle\n",
      "2021-03-07 10:57:18,726 - __main__ - INFO - round-0_epoch-78: fit\n"
     ]
    },
    {
     "name": "stdout",
     "output_type": "stream",
     "text": [
      "Epoch 79/79\n",
      "118/118 [==============================] - 4s 35ms/step - loss: 26.3294 - reconstruction_loss: 19.1564 - kl_loss: 7.1308\n"
     ]
    },
    {
     "name": "stderr",
     "output_type": "stream",
     "text": [
      "2021-03-07 10:57:23,070 - __main__ - INFO - round-0_epoch-78: cycle\n",
      "2021-03-07 10:57:31,525 - __main__ - INFO - round-0_epoch-79: fit\n"
     ]
    },
    {
     "name": "stdout",
     "output_type": "stream",
     "text": [
      "Epoch 80/80\n",
      "118/118 [==============================] - 4s 35ms/step - loss: 26.2767 - reconstruction_loss: 19.2094 - kl_loss: 7.1424\n"
     ]
    },
    {
     "name": "stderr",
     "output_type": "stream",
     "text": [
      "2021-03-07 10:57:35,934 - __main__ - INFO - round-0_epoch-79: cycle\n",
      "2021-03-07 10:57:44,180 - __main__ - INFO - round-0_epoch-80: fit\n"
     ]
    },
    {
     "name": "stdout",
     "output_type": "stream",
     "text": [
      "Epoch 81/81\n",
      "118/118 [==============================] - 4s 36ms/step - loss: 26.2648 - reconstruction_loss: 19.0772 - kl_loss: 7.1494\n"
     ]
    },
    {
     "name": "stderr",
     "output_type": "stream",
     "text": [
      "2021-03-07 10:57:48,650 - __main__ - INFO - round-0_epoch-80: cycle\n",
      "2021-03-07 10:57:57,817 - __main__ - INFO - round-0_epoch-81: fit\n"
     ]
    },
    {
     "name": "stdout",
     "output_type": "stream",
     "text": [
      "Epoch 82/82\n",
      "118/118 [==============================] - 4s 35ms/step - loss: 26.3171 - reconstruction_loss: 19.1265 - kl_loss: 7.1625\n"
     ]
    },
    {
     "name": "stderr",
     "output_type": "stream",
     "text": [
      "2021-03-07 10:58:02,166 - __main__ - INFO - round-0_epoch-81: cycle\n",
      "2021-03-07 10:58:10,699 - __main__ - INFO - round-0_epoch-82: fit\n"
     ]
    },
    {
     "name": "stdout",
     "output_type": "stream",
     "text": [
      "Epoch 83/83\n",
      "118/118 [==============================] - 4s 35ms/step - loss: 26.3393 - reconstruction_loss: 19.1183 - kl_loss: 7.1527\n"
     ]
    },
    {
     "name": "stderr",
     "output_type": "stream",
     "text": [
      "2021-03-07 10:58:15,098 - __main__ - INFO - round-0_epoch-82: cycle\n",
      "2021-03-07 10:58:23,470 - __main__ - INFO - round-0_epoch-83: fit\n"
     ]
    },
    {
     "name": "stdout",
     "output_type": "stream",
     "text": [
      "Epoch 84/84\n",
      "118/118 [==============================] - 4s 36ms/step - loss: 26.4496 - reconstruction_loss: 19.1837 - kl_loss: 7.1746\n"
     ]
    },
    {
     "name": "stderr",
     "output_type": "stream",
     "text": [
      "2021-03-07 10:58:27,913 - __main__ - INFO - round-0_epoch-83: cycle\n",
      "2021-03-07 10:58:37,005 - __main__ - INFO - round-0_epoch-84: fit\n"
     ]
    },
    {
     "name": "stdout",
     "output_type": "stream",
     "text": [
      "Epoch 85/85\n",
      "118/118 [==============================] - 4s 37ms/step - loss: 26.3771 - reconstruction_loss: 19.0889 - kl_loss: 7.1407: 1s - loss: 26.4533 - reconstruction_loss: 19\n"
     ]
    },
    {
     "name": "stderr",
     "output_type": "stream",
     "text": [
      "2021-03-07 10:58:41,674 - __main__ - INFO - round-0_epoch-84: cycle\n",
      "2021-03-07 10:58:50,943 - __main__ - INFO - round-0_epoch-85: fit\n"
     ]
    },
    {
     "name": "stdout",
     "output_type": "stream",
     "text": [
      "Epoch 86/86\n",
      "118/118 [==============================] - 4s 36ms/step - loss: 26.2934 - reconstruction_loss: 19.0453 - kl_loss: 7.1866\n"
     ]
    },
    {
     "name": "stderr",
     "output_type": "stream",
     "text": [
      "2021-03-07 10:58:55,445 - __main__ - INFO - round-0_epoch-85: cycle\n"
     ]
    }
   ],
   "source": [
    "keras.backend.clear_session()\n",
    "for round in range(10):\n",
    "    run_round(datasets, ae_builder, {'epochs': 100}, round)"
   ]
  },
  {
   "cell_type": "markdown",
   "metadata": {},
   "source": [
    "### tensorboard"
   ]
  },
  {
   "cell_type": "code",
   "execution_count": null,
   "metadata": {},
   "outputs": [],
   "source": [
    "%tensorboard --logdir ..\\data\\output\\twoballs"
   ]
  },
  {
   "cell_type": "code",
   "execution_count": null,
   "metadata": {},
   "outputs": [],
   "source": []
  }
 ],
 "metadata": {
  "accelerator": "GPU",
  "colab": {
   "include_colab_link": true,
   "name": "robot-arm-vae2.ipynb",
   "provenance": []
  },
  "kernelspec": {
   "display_name": "Python 3",
   "language": "python",
   "name": "python3"
  },
  "language_info": {
   "codemirror_mode": {
    "name": "ipython",
    "version": 3
   },
   "file_extension": ".py",
   "mimetype": "text/x-python",
   "name": "python",
   "nbconvert_exporter": "python",
   "pygments_lexer": "ipython3",
   "version": "3.6.12"
  },
  "toc-autonumbering": true,
  "toc-showmarkdowntxt": false,
  "toc-showtags": true
 },
 "nbformat": 4,
 "nbformat_minor": 4
}
