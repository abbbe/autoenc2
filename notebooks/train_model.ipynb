{
 "cells": [
  {
   "cell_type": "markdown",
   "metadata": {},
   "source": [
    "This notebook implements autoencoder trial run cycles.\n",
    "\n",
    "* Define\n",
    "    * trial name\n",
    "    * environment to work with (MyBallsEnv, MyArmEnv, GymArmEnv)\n",
    "    * dataset to use (set of 3 npz files for train, test and grid visualization, each file contains many angle/image pairs)\n",
    "    * model builder\n",
    "    * list of parameters to try\n",
    "    * number of epochs to run \n",
    "    * output directory\n",
    "* Run\n",
    "    * fails if output directory exists, otherwise creates it\n",
    "    * chooses a set of model parameters\n",
    "Thursday 4/03/2021\n",
    "\n",
    "* Visualize YYs (third output sheet or animated GIF) to assess decoder performance\n",
    "* Rerun with [2, 10, 50] epochs\n",
    "* Implement beta-VAE (see beta-vae notebook)\n",
    "\n",
    "Next:\n",
    "\n",
    "* Explore impact of changing filters chain down to 2x (2,2)\n",
    "* Scatterplot 3D\n",
    "* How does it fluctuate depending on network architecture, nlats, training protocol, etc\n",
    "* Explore fold area in L0/L1 space. For each frame show:\n",
    " * image of gym robot,\n",
    " * colored L0/L1 scatterplot, with a red cross showing current latent state,\n",
    " * image reconstructed by the autoencoder"
   ]
  },
  {
   "cell_type": "markdown",
   "metadata": {},
   "source": [
    "### imports"
   ]
  },
  {
   "cell_type": "code",
   "execution_count": 1,
   "metadata": {
    "colab": {
     "base_uri": "https://localhost:8080/"
    },
    "id": "OoMQk_5c4UYm",
    "outputId": "02cc896f-38e0-4a92-81ce-c20a7322369d"
   },
   "outputs": [],
   "source": [
    "%load_ext autoreload\n",
    "%autoreload 2\n",
    "\n",
    "%matplotlib inline\n",
    "import matplotlib.pyplot as plt\n",
    "\n",
    "%load_ext tensorboard\n",
    "\n",
    "import numpy as np\n",
    "import os, datetime\n",
    "\n",
    "import tensorflow as tf\n",
    "from tensorflow import keras\n",
    "from tensorflow.keras import layers\n",
    "\n",
    "from src.config import output_data_dir\n",
    "\n",
    "import logging\n",
    "logger = logging.getLogger(__name__)\n"
   ]
  },
  {
   "cell_type": "markdown",
   "metadata": {},
   "source": [
    "### helpers"
   ]
  },
  {
   "cell_type": "code",
   "execution_count": 2,
   "metadata": {},
   "outputs": [],
   "source": [
    "def cycle_autoencoder(ae, dataset, prefix=\"\", N=10, vae=False, display=False):\n",
    "    Y = dataset['images']\n",
    "    \n",
    "    if display:\n",
    "        print(\"Y.shape=\" + str(Y.shape))\n",
    "    L = ae['enc'].predict(Y)\n",
    "    L = np.array(L)\n",
    "    if display:\n",
    "        print(\"L.shape=\" + str(L.shape))\n",
    "\n",
    "    if vae:\n",
    "        L = np.array(L)[2] # [z_mean, z_log_var, z] - take Z\n",
    "\n",
    "    YY = ae['dec'].predict(L)\n",
    "    YY = np.array(YY)\n",
    "    if display:\n",
    "        print(\"YY.shape=\" + str(YY.shape))\n",
    "    \n",
    "    out_data = dict()\n",
    "    out_data['latvars'] = L\n",
    "    out_data['rec_images'] = YY\n",
    "\n",
    "    # - Y\n",
    "    if display:\n",
    "        plot_Ys(Y[0:N,...], title=\"First %d elements of %sY\" % (N, prefix))\n",
    "\n",
    "        # - L\n",
    "        fig, axs = plt.subplots(1, L.shape[1])\n",
    "        fig.suptitle(\"Latent variables %s\" % (str(L.shape)))\n",
    "        for i in range(L.shape[1]):\n",
    "            axs[i].hist(L[:,i])    \n",
    "\n",
    "        # - YY\n",
    "        plot_Ys(YY[0:N,...], title=\"First %d elements of %sYY\" % (N, prefix))\n",
    "\n",
    "        display_xvars(data)\n",
    "    \n",
    "    return out_data    "
   ]
  },
  {
   "cell_type": "markdown",
   "metadata": {},
   "source": [
    "### environment"
   ]
  },
  {
   "cell_type": "code",
   "execution_count": 3,
   "metadata": {},
   "outputs": [],
   "source": [
    "import src.models.vae\n",
    "\n",
    "# define ae builder method and environment name\n",
    "ae_builder = src.models.vae.build_autoencoder\n",
    "ENV_NAME = \"twoballs\""
   ]
  },
  {
   "cell_type": "markdown",
   "metadata": {},
   "source": [
    "### subdirectories"
   ]
  },
  {
   "cell_type": "code",
   "execution_count": 4,
   "metadata": {},
   "outputs": [],
   "source": [
    "TRIAL_DIR = os.path.join(output_data_dir, ENV_NAME) # FUXNE\n",
    "\n",
    "# fail if TRIAL_DIR exists\n",
    "assert(not os.path.exists(TRIAL_DIR))\n",
    "    \n",
    "# create trial subdirs\n",
    "TENSORBOARD_LOGS_DIR =  \"%s/tensorboard-logs\" % TRIAL_DIR\n",
    "TRAINED_MODELS_DIR = \"%s/trained-models\" % TRIAL_DIR\n",
    "#DATA_DIR = \"%s/data\" % TRIAL_DIR\n",
    "IMGS_DIR = \"%s/imgs\" % TRIAL_DIR\n",
    "\n",
    "#for dir in [TENSORBOARD_LOGS_DIR, TRAINED_MODELS_DIR, DATA_DIR, IMGS_DIR]:\n",
    "for dir in [TENSORBOARD_LOGS_DIR, TRAINED_MODELS_DIR, IMGS_DIR]:\n",
    "    os.makedirs(dir, exist_ok=True)"
   ]
  },
  {
   "cell_type": "markdown",
   "metadata": {},
   "source": [
    "### load datasets"
   ]
  },
  {
   "cell_type": "code",
   "execution_count": 5,
   "metadata": {
    "scrolled": true
   },
   "outputs": [
    {
     "name": "stderr",
     "output_type": "stream",
     "text": [
      "2021-03-07 09:04:37,232 - src.data.dataset - INFO - Loading from C:\\Users\\alexa\\Documents\\dvp\\autoenc2\\data\\processed\\twoballs_rand_15000.npz ...\n",
      "2021-03-07 09:04:37,741 - src.data.dataset - INFO - Loaded 15000 datapoints from C:\\Users\\alexa\\Documents\\dvp\\autoenc2\\data\\processed\\twoballs_rand_15000.npz\n",
      "2021-03-07 09:04:37,742 - src.data.dataset - INFO - Loading from C:\\Users\\alexa\\Documents\\dvp\\autoenc2\\data\\processed\\twoballs_rand_1000.npz ...\n",
      "2021-03-07 09:04:37,778 - src.data.dataset - INFO - Loaded 1000 datapoints from C:\\Users\\alexa\\Documents\\dvp\\autoenc2\\data\\processed\\twoballs_rand_1000.npz\n",
      "2021-03-07 09:04:37,779 - src.data.dataset - INFO - Loading from C:\\Users\\alexa\\Documents\\dvp\\autoenc2\\data\\processed\\twoballs_grid_20_500.npz ...\n",
      "2021-03-07 09:04:38,452 - src.data.dataset - INFO - Loaded 20000 datapoints from C:\\Users\\alexa\\Documents\\dvp\\autoenc2\\data\\processed\\twoballs_grid_20_500.npz\n"
     ]
    }
   ],
   "source": [
    "from src.data.dataset import load_datasets\n",
    "\n",
    "datasets = load_datasets(ENV_NAME)"
   ]
  },
  {
   "cell_type": "markdown",
   "metadata": {},
   "source": [
    "### train"
   ]
  },
  {
   "cell_type": "code",
   "execution_count": 6,
   "metadata": {
    "scrolled": true
   },
   "outputs": [],
   "source": [
    "from src.models import save_models, save_models_weights\n",
    "from src.visualization.lat import visualize_lat_space, animate_Y_YYs\n",
    "\n",
    "def save_visualization(dataset, dataset_grid_out, round, epoch):\n",
    "    vis_fname = \"%s/round-%d_epoch-%d.png\" % (IMGS_DIR, round, epoch)\n",
    "    ani_fname = \"%s/round-%d_epoch-%d.mp4\" % (IMGS_DIR, round, epoch)\n",
    "\n",
    "    # save 4x4 visualization of pairwise plots of latvars vs angles\n",
    "    fig, axs = visualize_lat_space(dataset['grid'], dataset_grid_out, sheet=1)\n",
    "    fig.savefig(vis_fname)\n",
    "    fig.clf() # FIXME - not helping, figures still exist and slow things down\n",
    "    \n",
    "    #vis_fname2 = \"%s/%sb.png\" % (IMGS_DIR, suffix)\n",
    "    #fig, axs = visualize_lat_space(dataset['grid'], dataset_grid_out, sheet=2)\n",
    "    #fig.savefig(vis_fname2)\n",
    "    #fig.clf() # FIXME - not helping, figures still exist and slow things down\n",
    "\n",
    "    # save MP4\n",
    "    NANIFRAMES = 20\n",
    "    logger.debug(\"saving ani visualization (for %d datapoints from grid dataset) into %s\" % (NANIFRAMES, ani_fname))\n",
    "    rng = np.random.default_rng()\n",
    "    ani_is = rng.choice(range(dataset['grid']['images'].shape[0]), size=NANIFRAMES) # choose 20 random items from the dataset_grid\n",
    "    animate_Y_YYs(dataset['grid']['images'][ani_is], dataset_grid_out['rec_images'][ani_is], outfile=ani_fname)\n",
    "\n",
    "def run_round(datasets, ae_builder, params, round):\n",
    "    #if os.path.isfile(latvars_fname):\n",
    "    #    logger.error(\"%s exists, skipping ...\" % latvars_fname)\n",
    "    #    return\n",
    "    \n",
    "    print(\"*** run_round(%d, %s)\" % (round, str(params)))\n",
    "    \n",
    "    keras.backend.clear_session()\n",
    "    models = ae_builder((64, 64, 1), 2, params)\n",
    "\n",
    "    tensorboard_logdir = os.path.join((\"%s/round-%d\" % (TENSORBOARD_LOGS_DIR, round)),\n",
    "                                      datetime.datetime.now().strftime(\"%Y%m%d-%H%M%S\"))\n",
    "    tensorboard_callback = keras.callbacks.TensorBoard(tensorboard_logdir) #, histogram_freq=1)\n",
    "\n",
    "    for epoch in range(params['epochs']):\n",
    "        logger.info(\"round-%d_epoch-%d: fit\" % (round, epoch))\n",
    "        models['ae'].fit(datasets['train']['images'], callbacks=[tensorboard_callback],\n",
    "               initial_epoch=epoch, epochs=epoch+1, batch_size=128)\n",
    "        save_models_weights(models, \"%s/round-%d_epoch-%d\" % (TRAINED_MODELS_DIR, round, epoch))\n",
    "\n",
    "        logger.info(\"round-%d_epoch-%d: cycle\" % (round, epoch))\n",
    "        dataset_grid_out = cycle_autoencoder(models, datasets['grid'], vae=True, display=False)\n",
    "        save_visualization(datasets, dataset_grid_out, round, epoch)\n",
    "    \n",
    "        # save angles & latvars for grid dataset\n",
    "        dataset_test_out = cycle_autoencoder(models, datasets['test'], vae=True, display=False)\n",
    "        latvars_fname = \"%s/round-%d_epoch-%d.csv\" % (IMGS_DIR, round, epoch)\n",
    "        angles_latvars = np.hstack((datasets['test']['angles'], dataset_test_out['latvars']))\n",
    "        np.savetxt(latvars_fname, angles_latvars, delimiter=',')"
   ]
  },
  {
   "cell_type": "code",
   "execution_count": 7,
   "metadata": {
    "tags": []
   },
   "outputs": [
    {
     "name": "stdout",
     "output_type": "stream",
     "text": [
      "*** run_round(0, {'epochs': 250})\n"
     ]
    },
    {
     "name": "stderr",
     "output_type": "stream",
     "text": [
      "2021-03-07 09:04:39,517 - __main__ - INFO - round-0_epoch-0: fit\n"
     ]
    },
    {
     "name": "stdout",
     "output_type": "stream",
     "text": [
      "118/118 [==============================] - 6s 35ms/step - loss: 818.9921 - reconstruction_loss: 239.4057 - kl_loss: 56.3137\n"
     ]
    },
    {
     "name": "stderr",
     "output_type": "stream",
     "text": [
      "2021-03-07 09:04:45,323 - __main__ - INFO - round-0_epoch-0: cycle\n",
      "2021-03-07 09:04:51,069 - __main__ - INFO - round-0_epoch-1: fit\n"
     ]
    },
    {
     "name": "stdout",
     "output_type": "stream",
     "text": [
      "Epoch 2/2\n",
      "118/118 [==============================] - 4s 34ms/step - loss: 66.5446 - reconstruction_loss: 59.8145 - kl_loss: 2.3266\n"
     ]
    },
    {
     "name": "stderr",
     "output_type": "stream",
     "text": [
      "2021-03-07 09:04:55,370 - __main__ - INFO - round-0_epoch-1: cycle\n",
      "2021-03-07 09:05:00,729 - __main__ - INFO - round-0_epoch-2: fit\n"
     ]
    },
    {
     "name": "stdout",
     "output_type": "stream",
     "text": [
      "Epoch 3/3\n",
      "118/118 [==============================] - 4s 34ms/step - loss: 46.6171 - reconstruction_loss: 40.4225 - kl_loss: 4.1977\n"
     ]
    },
    {
     "name": "stderr",
     "output_type": "stream",
     "text": [
      "2021-03-07 09:05:04,973 - __main__ - INFO - round-0_epoch-2: cycle\n",
      "2021-03-07 09:05:10,359 - __main__ - INFO - round-0_epoch-3: fit\n"
     ]
    },
    {
     "name": "stdout",
     "output_type": "stream",
     "text": [
      "Epoch 4/4\n",
      "118/118 [==============================] - 4s 34ms/step - loss: 40.3764 - reconstruction_loss: 34.5607 - kl_loss: 4.9093\n"
     ]
    },
    {
     "name": "stderr",
     "output_type": "stream",
     "text": [
      "2021-03-07 09:05:14,595 - __main__ - INFO - round-0_epoch-3: cycle\n",
      "2021-03-07 09:05:20,069 - __main__ - INFO - round-0_epoch-4: fit\n"
     ]
    },
    {
     "name": "stdout",
     "output_type": "stream",
     "text": [
      "Epoch 5/5\n",
      "118/118 [==============================] - 4s 34ms/step - loss: 36.3283 - reconstruction_loss: 30.1141 - kl_loss: 5.4759\n"
     ]
    },
    {
     "name": "stderr",
     "output_type": "stream",
     "text": [
      "2021-03-07 09:05:24,322 - __main__ - INFO - round-0_epoch-4: cycle\n",
      "2021-03-07 09:05:29,813 - __main__ - INFO - round-0_epoch-5: fit\n"
     ]
    },
    {
     "name": "stdout",
     "output_type": "stream",
     "text": [
      "Epoch 6/6\n",
      "118/118 [==============================] - 4s 34ms/step - loss: 34.3839 - reconstruction_loss: 28.3557 - kl_loss: 5.7411\n"
     ]
    },
    {
     "name": "stderr",
     "output_type": "stream",
     "text": [
      "2021-03-07 09:05:34,079 - __main__ - INFO - round-0_epoch-5: cycle\n",
      "2021-03-07 09:05:39,589 - __main__ - INFO - round-0_epoch-6: fit\n"
     ]
    },
    {
     "name": "stdout",
     "output_type": "stream",
     "text": [
      "Epoch 7/7\n",
      "118/118 [==============================] - 4s 35ms/step - loss: 33.4507 - reconstruction_loss: 27.3907 - kl_loss: 5.8769\n"
     ]
    },
    {
     "name": "stderr",
     "output_type": "stream",
     "text": [
      "2021-03-07 09:05:43,924 - __main__ - INFO - round-0_epoch-6: cycle\n",
      "2021-03-07 09:05:49,705 - __main__ - INFO - round-0_epoch-7: fit\n"
     ]
    },
    {
     "name": "stdout",
     "output_type": "stream",
     "text": [
      "Epoch 8/8\n",
      "118/118 [==============================] - 4s 34ms/step - loss: 32.8322 - reconstruction_loss: 26.7682 - kl_loss: 5.9912\n"
     ]
    },
    {
     "name": "stderr",
     "output_type": "stream",
     "text": [
      "2021-03-07 09:05:54,031 - __main__ - INFO - round-0_epoch-7: cycle\n",
      "2021-03-07 09:05:59,663 - __main__ - INFO - round-0_epoch-8: fit\n"
     ]
    },
    {
     "name": "stdout",
     "output_type": "stream",
     "text": [
      "Epoch 9/9\n",
      "118/118 [==============================] - 4s 34ms/step - loss: 32.3688 - reconstruction_loss: 26.2935 - kl_loss: 6.0595\n"
     ]
    },
    {
     "name": "stderr",
     "output_type": "stream",
     "text": [
      "2021-03-07 09:06:03,933 - __main__ - INFO - round-0_epoch-8: cycle\n",
      "2021-03-07 09:06:09,787 - __main__ - INFO - round-0_epoch-9: fit\n"
     ]
    },
    {
     "name": "stdout",
     "output_type": "stream",
     "text": [
      "Epoch 10/10\n",
      "118/118 [==============================] - 4s 34ms/step - loss: 32.0571 - reconstruction_loss: 25.7990 - kl_loss: 6.1718\n"
     ]
    },
    {
     "name": "stderr",
     "output_type": "stream",
     "text": [
      "2021-03-07 09:06:14,013 - __main__ - INFO - round-0_epoch-9: cycle\n",
      "2021-03-07 09:06:19,792 - __main__ - INFO - round-0_epoch-10: fit\n"
     ]
    },
    {
     "name": "stdout",
     "output_type": "stream",
     "text": [
      "Epoch 11/11\n",
      "118/118 [==============================] - 4s 34ms/step - loss: 31.8383 - reconstruction_loss: 25.4867 - kl_loss: 6.2058\n"
     ]
    },
    {
     "name": "stderr",
     "output_type": "stream",
     "text": [
      "2021-03-07 09:06:24,057 - __main__ - INFO - round-0_epoch-10: cycle\n",
      "c:\\users\\alexa\\documents\\dvp\\autoenc2\\src\\visualization\\lat.py:87: RuntimeWarning: More than 20 figures have been opened. Figures created through the pyplot interface (`matplotlib.pyplot.figure`) are retained until explicitly closed and may consume too much memory. (To control this warning, see the rcParam `figure.max_open_warning`).\n",
      "  fig, axs = plt.subplots(2, 2, figsize=(15,12))\n",
      "2021-03-07 09:06:29,892 - __main__ - INFO - round-0_epoch-11: fit\n"
     ]
    },
    {
     "name": "stdout",
     "output_type": "stream",
     "text": [
      "Epoch 12/12\n",
      "118/118 [==============================] - 4s 35ms/step - loss: 31.6584 - reconstruction_loss: 25.2170 - kl_loss: 6.2534\n"
     ]
    },
    {
     "name": "stderr",
     "output_type": "stream",
     "text": [
      "2021-03-07 09:06:34,279 - __main__ - INFO - round-0_epoch-11: cycle\n",
      "2021-03-07 09:06:40,075 - __main__ - INFO - round-0_epoch-12: fit\n"
     ]
    },
    {
     "name": "stdout",
     "output_type": "stream",
     "text": [
      "Epoch 13/13\n",
      "118/118 [==============================] - 4s 35ms/step - loss: 31.3074 - reconstruction_loss: 24.9972 - kl_loss: 6.2916\n"
     ]
    },
    {
     "name": "stderr",
     "output_type": "stream",
     "text": [
      "2021-03-07 09:06:44,410 - __main__ - INFO - round-0_epoch-12: cycle\n",
      "2021-03-07 09:06:50,473 - __main__ - INFO - round-0_epoch-13: fit\n"
     ]
    },
    {
     "name": "stdout",
     "output_type": "stream",
     "text": [
      "Epoch 14/14\n",
      "118/118 [==============================] - 4s 36ms/step - loss: 31.1660 - reconstruction_loss: 24.7693 - kl_loss: 6.3484\n"
     ]
    },
    {
     "name": "stderr",
     "output_type": "stream",
     "text": [
      "2021-03-07 09:06:54,909 - __main__ - INFO - round-0_epoch-13: cycle\n",
      "2021-03-07 09:07:00,604 - __main__ - INFO - round-0_epoch-14: fit\n"
     ]
    },
    {
     "name": "stdout",
     "output_type": "stream",
     "text": [
      "Epoch 15/15\n",
      "118/118 [==============================] - 4s 36ms/step - loss: 31.1143 - reconstruction_loss: 24.6472 - kl_loss: 6.3795\n"
     ]
    },
    {
     "name": "stderr",
     "output_type": "stream",
     "text": [
      "2021-03-07 09:07:05,036 - __main__ - INFO - round-0_epoch-14: cycle\n",
      "2021-03-07 09:07:10,567 - __main__ - INFO - round-0_epoch-15: fit\n"
     ]
    },
    {
     "name": "stdout",
     "output_type": "stream",
     "text": [
      "Epoch 16/16\n",
      "118/118 [==============================] - 4s 33ms/step - loss: 31.0509 - reconstruction_loss: 24.5399 - kl_loss: 6.3900\n"
     ]
    },
    {
     "name": "stderr",
     "output_type": "stream",
     "text": [
      "2021-03-07 09:07:14,739 - __main__ - INFO - round-0_epoch-15: cycle\n",
      "2021-03-07 09:07:20,411 - __main__ - INFO - round-0_epoch-16: fit\n"
     ]
    },
    {
     "name": "stdout",
     "output_type": "stream",
     "text": [
      "Epoch 17/17\n",
      "118/118 [==============================] - 4s 34ms/step - loss: 30.8733 - reconstruction_loss: 24.3206 - kl_loss: 6.4162\n"
     ]
    },
    {
     "name": "stderr",
     "output_type": "stream",
     "text": [
      "2021-03-07 09:07:24,595 - __main__ - INFO - round-0_epoch-16: cycle\n",
      "2021-03-07 09:07:30,179 - __main__ - INFO - round-0_epoch-17: fit\n"
     ]
    },
    {
     "name": "stdout",
     "output_type": "stream",
     "text": [
      "Epoch 18/18\n",
      "118/118 [==============================] - 4s 34ms/step - loss: 30.5597 - reconstruction_loss: 24.1367 - kl_loss: 6.4309\n"
     ]
    },
    {
     "name": "stderr",
     "output_type": "stream",
     "text": [
      "2021-03-07 09:07:34,367 - __main__ - INFO - round-0_epoch-17: cycle\n",
      "2021-03-07 09:07:40,070 - __main__ - INFO - round-0_epoch-18: fit\n"
     ]
    },
    {
     "name": "stdout",
     "output_type": "stream",
     "text": [
      "Epoch 19/19\n",
      "118/118 [==============================] - 4s 33ms/step - loss: 30.4811 - reconstruction_loss: 23.9942 - kl_loss: 6.4781\n"
     ]
    },
    {
     "name": "stderr",
     "output_type": "stream",
     "text": [
      "2021-03-07 09:07:44,273 - __main__ - INFO - round-0_epoch-18: cycle\n",
      "2021-03-07 09:07:49,969 - __main__ - INFO - round-0_epoch-19: fit\n"
     ]
    },
    {
     "name": "stdout",
     "output_type": "stream",
     "text": [
      "Epoch 20/20\n",
      "118/118 [==============================] - 4s 34ms/step - loss: 30.4922 - reconstruction_loss: 23.8824 - kl_loss: 6.4968\n"
     ]
    },
    {
     "name": "stderr",
     "output_type": "stream",
     "text": [
      "2021-03-07 09:07:54,143 - __main__ - INFO - round-0_epoch-19: cycle\n",
      "2021-03-07 09:07:59,812 - __main__ - INFO - round-0_epoch-20: fit\n"
     ]
    },
    {
     "name": "stdout",
     "output_type": "stream",
     "text": [
      "Epoch 21/21\n",
      "118/118 [==============================] - 4s 33ms/step - loss: 30.3004 - reconstruction_loss: 23.7913 - kl_loss: 6.5201\n"
     ]
    },
    {
     "name": "stderr",
     "output_type": "stream",
     "text": [
      "2021-03-07 09:08:03,988 - __main__ - INFO - round-0_epoch-20: cycle\n",
      "2021-03-07 09:08:09,738 - __main__ - INFO - round-0_epoch-21: fit\n"
     ]
    },
    {
     "name": "stdout",
     "output_type": "stream",
     "text": [
      "Epoch 22/22\n",
      "118/118 [==============================] - 4s 34ms/step - loss: 30.3912 - reconstruction_loss: 23.7526 - kl_loss: 6.5440\n"
     ]
    },
    {
     "name": "stderr",
     "output_type": "stream",
     "text": [
      "2021-03-07 09:08:14,014 - __main__ - INFO - round-0_epoch-21: cycle\n",
      "2021-03-07 09:08:19,798 - __main__ - INFO - round-0_epoch-22: fit\n"
     ]
    },
    {
     "name": "stdout",
     "output_type": "stream",
     "text": [
      "Epoch 23/23\n",
      "118/118 [==============================] - 4s 33ms/step - loss: 30.1831 - reconstruction_loss: 23.5542 - kl_loss: 6.5772\n"
     ]
    },
    {
     "name": "stderr",
     "output_type": "stream",
     "text": [
      "2021-03-07 09:08:23,995 - __main__ - INFO - round-0_epoch-22: cycle\n",
      "2021-03-07 09:08:29,775 - __main__ - INFO - round-0_epoch-23: fit\n"
     ]
    },
    {
     "name": "stdout",
     "output_type": "stream",
     "text": [
      "Epoch 24/24\n",
      "118/118 [==============================] - 4s 33ms/step - loss: 30.1644 - reconstruction_loss: 23.5016 - kl_loss: 6.5664\n"
     ]
    },
    {
     "name": "stderr",
     "output_type": "stream",
     "text": [
      "2021-03-07 09:08:33,946 - __main__ - INFO - round-0_epoch-23: cycle\n",
      "2021-03-07 09:08:39,842 - __main__ - INFO - round-0_epoch-24: fit\n"
     ]
    },
    {
     "name": "stdout",
     "output_type": "stream",
     "text": [
      "Epoch 25/25\n",
      "118/118 [==============================] - 4s 33ms/step - loss: 30.0531 - reconstruction_loss: 23.4620 - kl_loss: 6.5987\n"
     ]
    },
    {
     "name": "stderr",
     "output_type": "stream",
     "text": [
      "2021-03-07 09:08:44,040 - __main__ - INFO - round-0_epoch-24: cycle\n",
      "2021-03-07 09:08:49,916 - __main__ - INFO - round-0_epoch-25: fit\n"
     ]
    },
    {
     "name": "stdout",
     "output_type": "stream",
     "text": [
      "Epoch 26/26\n",
      "118/118 [==============================] - 4s 33ms/step - loss: 29.8845 - reconstruction_loss: 23.1973 - kl_loss: 6.6519\n"
     ]
    },
    {
     "name": "stderr",
     "output_type": "stream",
     "text": [
      "2021-03-07 09:08:54,116 - __main__ - INFO - round-0_epoch-25: cycle\n",
      "2021-03-07 09:09:00,060 - __main__ - INFO - round-0_epoch-26: fit\n"
     ]
    },
    {
     "name": "stdout",
     "output_type": "stream",
     "text": [
      "Epoch 27/27\n",
      "118/118 [==============================] - 4s 33ms/step - loss: 30.0319 - reconstruction_loss: 23.2207 - kl_loss: 6.6348\n"
     ]
    },
    {
     "name": "stderr",
     "output_type": "stream",
     "text": [
      "2021-03-07 09:09:04,236 - __main__ - INFO - round-0_epoch-26: cycle\n",
      "2021-03-07 09:09:10,354 - __main__ - INFO - round-0_epoch-27: fit\n"
     ]
    },
    {
     "name": "stdout",
     "output_type": "stream",
     "text": [
      "Epoch 28/28\n",
      "118/118 [==============================] - 4s 33ms/step - loss: 29.8379 - reconstruction_loss: 23.1204 - kl_loss: 6.6604\n"
     ]
    },
    {
     "name": "stderr",
     "output_type": "stream",
     "text": [
      "2021-03-07 09:09:14,536 - __main__ - INFO - round-0_epoch-27: cycle\n",
      "2021-03-07 09:09:20,502 - __main__ - INFO - round-0_epoch-28: fit\n"
     ]
    },
    {
     "name": "stdout",
     "output_type": "stream",
     "text": [
      "Epoch 29/29\n",
      "118/118 [==============================] - 4s 33ms/step - loss: 29.7908 - reconstruction_loss: 23.0540 - kl_loss: 6.6671\n"
     ]
    },
    {
     "name": "stderr",
     "output_type": "stream",
     "text": [
      "2021-03-07 09:09:24,677 - __main__ - INFO - round-0_epoch-28: cycle\n",
      "2021-03-07 09:09:30,688 - __main__ - INFO - round-0_epoch-29: fit\n"
     ]
    },
    {
     "name": "stdout",
     "output_type": "stream",
     "text": [
      "Epoch 30/30\n",
      "118/118 [==============================] - 4s 33ms/step - loss: 29.6280 - reconstruction_loss: 22.8185 - kl_loss: 6.6900\n"
     ]
    },
    {
     "name": "stderr",
     "output_type": "stream",
     "text": [
      "2021-03-07 09:09:34,873 - __main__ - INFO - round-0_epoch-29: cycle\n",
      "2021-03-07 09:09:40,988 - __main__ - INFO - round-0_epoch-30: fit\n"
     ]
    },
    {
     "name": "stdout",
     "output_type": "stream",
     "text": [
      "Epoch 31/31\n",
      "118/118 [==============================] - 4s 34ms/step - loss: 29.6198 - reconstruction_loss: 22.7783 - kl_loss: 6.7131\n"
     ]
    },
    {
     "name": "stderr",
     "output_type": "stream",
     "text": [
      "2021-03-07 09:09:45,197 - __main__ - INFO - round-0_epoch-30: cycle\n",
      "2021-03-07 09:09:51,294 - __main__ - INFO - round-0_epoch-31: fit\n"
     ]
    },
    {
     "name": "stdout",
     "output_type": "stream",
     "text": [
      "Epoch 32/32\n",
      "118/118 [==============================] - 4s 34ms/step - loss: 29.4451 - reconstruction_loss: 22.6475 - kl_loss: 6.7402\n"
     ]
    },
    {
     "name": "stderr",
     "output_type": "stream",
     "text": [
      "2021-03-07 09:09:55,528 - __main__ - INFO - round-0_epoch-31: cycle\n",
      "2021-03-07 09:10:01,575 - __main__ - INFO - round-0_epoch-32: fit\n"
     ]
    },
    {
     "name": "stdout",
     "output_type": "stream",
     "text": [
      "Epoch 33/33\n",
      "118/118 [==============================] - 4s 34ms/step - loss: 29.3379 - reconstruction_loss: 22.5482 - kl_loss: 6.7212\n"
     ]
    },
    {
     "name": "stderr",
     "output_type": "stream",
     "text": [
      "2021-03-07 09:10:05,753 - __main__ - INFO - round-0_epoch-32: cycle\n",
      "2021-03-07 09:10:11,958 - __main__ - INFO - round-0_epoch-33: fit\n"
     ]
    },
    {
     "name": "stdout",
     "output_type": "stream",
     "text": [
      "Epoch 34/34\n",
      "118/118 [==============================] - 4s 35ms/step - loss: 29.2691 - reconstruction_loss: 22.2886 - kl_loss: 6.7962\n"
     ]
    },
    {
     "name": "stderr",
     "output_type": "stream",
     "text": [
      "2021-03-07 09:10:16,273 - __main__ - INFO - round-0_epoch-33: cycle\n",
      "2021-03-07 09:10:22,540 - __main__ - INFO - round-0_epoch-34: fit\n"
     ]
    },
    {
     "name": "stdout",
     "output_type": "stream",
     "text": [
      "Epoch 35/35\n",
      "118/118 [==============================] - 4s 34ms/step - loss: 29.1118 - reconstruction_loss: 22.3273 - kl_loss: 6.8065\n"
     ]
    },
    {
     "name": "stderr",
     "output_type": "stream",
     "text": [
      "2021-03-07 09:10:26,732 - __main__ - INFO - round-0_epoch-34: cycle\n",
      "2021-03-07 09:10:33,055 - __main__ - INFO - round-0_epoch-35: fit\n"
     ]
    },
    {
     "name": "stdout",
     "output_type": "stream",
     "text": [
      "Epoch 36/36\n",
      "118/118 [==============================] - 4s 34ms/step - loss: 29.1394 - reconstruction_loss: 22.2330 - kl_loss: 6.8091\n"
     ]
    },
    {
     "name": "stderr",
     "output_type": "stream",
     "text": [
      "2021-03-07 09:10:37,239 - __main__ - INFO - round-0_epoch-35: cycle\n",
      "2021-03-07 09:10:43,725 - __main__ - INFO - round-0_epoch-36: fit\n"
     ]
    },
    {
     "name": "stdout",
     "output_type": "stream",
     "text": [
      "Epoch 37/37\n",
      "118/118 [==============================] - 4s 34ms/step - loss: 29.0623 - reconstruction_loss: 22.0520 - kl_loss: 6.7949\n"
     ]
    },
    {
     "name": "stderr",
     "output_type": "stream",
     "text": [
      "2021-03-07 09:10:48,013 - __main__ - INFO - round-0_epoch-36: cycle\n",
      "2021-03-07 09:10:54,236 - __main__ - INFO - round-0_epoch-37: fit\n"
     ]
    },
    {
     "name": "stdout",
     "output_type": "stream",
     "text": [
      "Epoch 38/38\n",
      "118/118 [==============================] - 4s 34ms/step - loss: 29.0962 - reconstruction_loss: 22.0688 - kl_loss: 6.8044\n"
     ]
    },
    {
     "name": "stderr",
     "output_type": "stream",
     "text": [
      "2021-03-07 09:10:58,444 - __main__ - INFO - round-0_epoch-37: cycle\n",
      "2021-03-07 09:11:04,821 - __main__ - INFO - round-0_epoch-38: fit\n"
     ]
    },
    {
     "name": "stdout",
     "output_type": "stream",
     "text": [
      "Epoch 39/39\n",
      "118/118 [==============================] - 4s 34ms/step - loss: 28.7151 - reconstruction_loss: 21.7895 - kl_loss: 6.8298\n"
     ]
    },
    {
     "name": "stderr",
     "output_type": "stream",
     "text": [
      "2021-03-07 09:11:09,014 - __main__ - INFO - round-0_epoch-38: cycle\n",
      "2021-03-07 09:11:15,415 - __main__ - INFO - round-0_epoch-39: fit\n"
     ]
    },
    {
     "name": "stdout",
     "output_type": "stream",
     "text": [
      "Epoch 40/40\n",
      "118/118 [==============================] - 4s 34ms/step - loss: 28.5673 - reconstruction_loss: 21.6434 - kl_loss: 6.8758\n"
     ]
    },
    {
     "name": "stderr",
     "output_type": "stream",
     "text": [
      "2021-03-07 09:11:19,633 - __main__ - INFO - round-0_epoch-39: cycle\n",
      "2021-03-07 09:11:25,952 - __main__ - INFO - round-0_epoch-40: fit\n"
     ]
    },
    {
     "name": "stdout",
     "output_type": "stream",
     "text": [
      "Epoch 41/41\n",
      "118/118 [==============================] - 4s 34ms/step - loss: 28.5049 - reconstruction_loss: 21.5095 - kl_loss: 6.8829\n"
     ]
    },
    {
     "name": "stderr",
     "output_type": "stream",
     "text": [
      "2021-03-07 09:11:30,169 - __main__ - INFO - round-0_epoch-40: cycle\n",
      "2021-03-07 09:11:36,623 - __main__ - INFO - round-0_epoch-41: fit\n"
     ]
    },
    {
     "name": "stdout",
     "output_type": "stream",
     "text": [
      "Epoch 42/42\n",
      "118/118 [==============================] - 4s 34ms/step - loss: 28.4651 - reconstruction_loss: 21.5073 - kl_loss: 6.9004\n"
     ]
    },
    {
     "name": "stderr",
     "output_type": "stream",
     "text": [
      "2021-03-07 09:11:40,831 - __main__ - INFO - round-0_epoch-41: cycle\n",
      "2021-03-07 09:11:47,517 - __main__ - INFO - round-0_epoch-42: fit\n"
     ]
    },
    {
     "name": "stdout",
     "output_type": "stream",
     "text": [
      "Epoch 43/43\n",
      "118/118 [==============================] - 4s 34ms/step - loss: 28.2497 - reconstruction_loss: 21.3514 - kl_loss: 6.9488\n"
     ]
    },
    {
     "name": "stderr",
     "output_type": "stream",
     "text": [
      "2021-03-07 09:11:51,722 - __main__ - INFO - round-0_epoch-42: cycle\n",
      "2021-03-07 09:11:58,120 - __main__ - INFO - round-0_epoch-43: fit\n"
     ]
    },
    {
     "name": "stdout",
     "output_type": "stream",
     "text": [
      "Epoch 44/44\n",
      "118/118 [==============================] - 4s 34ms/step - loss: 28.3223 - reconstruction_loss: 21.2819 - kl_loss: 6.9349\n"
     ]
    },
    {
     "name": "stderr",
     "output_type": "stream",
     "text": [
      "2021-03-07 09:12:02,345 - __main__ - INFO - round-0_epoch-43: cycle\n",
      "2021-03-07 09:12:08,825 - __main__ - INFO - round-0_epoch-44: fit\n"
     ]
    },
    {
     "name": "stdout",
     "output_type": "stream",
     "text": [
      "Epoch 45/45\n",
      "118/118 [==============================] - 4s 34ms/step - loss: 28.1643 - reconstruction_loss: 21.2192 - kl_loss: 6.9655\n"
     ]
    },
    {
     "name": "stderr",
     "output_type": "stream",
     "text": [
      "2021-03-07 09:12:13,058 - __main__ - INFO - round-0_epoch-44: cycle\n",
      "2021-03-07 09:12:20,504 - __main__ - INFO - round-0_epoch-45: fit\n"
     ]
    },
    {
     "name": "stdout",
     "output_type": "stream",
     "text": [
      "Epoch 46/46\n",
      "118/118 [==============================] - 4s 34ms/step - loss: 28.3094 - reconstruction_loss: 21.2465 - kl_loss: 6.9499\n"
     ]
    },
    {
     "name": "stderr",
     "output_type": "stream",
     "text": [
      "2021-03-07 09:12:24,743 - __main__ - INFO - round-0_epoch-45: cycle\n",
      "2021-03-07 09:12:32,127 - __main__ - INFO - round-0_epoch-46: fit\n"
     ]
    },
    {
     "name": "stdout",
     "output_type": "stream",
     "text": [
      "Epoch 47/47\n",
      "118/118 [==============================] - 4s 34ms/step - loss: 28.3045 - reconstruction_loss: 21.1517 - kl_loss: 6.9667\n"
     ]
    },
    {
     "name": "stderr",
     "output_type": "stream",
     "text": [
      "2021-03-07 09:12:36,320 - __main__ - INFO - round-0_epoch-46: cycle\n",
      "2021-03-07 09:12:42,833 - __main__ - INFO - round-0_epoch-47: fit\n"
     ]
    },
    {
     "name": "stdout",
     "output_type": "stream",
     "text": [
      "Epoch 48/48\n",
      "118/118 [==============================] - 4s 34ms/step - loss: 28.0385 - reconstruction_loss: 21.0042 - kl_loss: 6.9650\n"
     ]
    },
    {
     "name": "stderr",
     "output_type": "stream",
     "text": [
      "2021-03-07 09:12:47,060 - __main__ - INFO - round-0_epoch-47: cycle\n",
      "2021-03-07 09:12:53,719 - __main__ - INFO - round-0_epoch-48: fit\n"
     ]
    },
    {
     "name": "stdout",
     "output_type": "stream",
     "text": [
      "Epoch 49/49\n",
      "118/118 [==============================] - 4s 34ms/step - loss: 27.9900 - reconstruction_loss: 20.9315 - kl_loss: 7.0259\n"
     ]
    },
    {
     "name": "stderr",
     "output_type": "stream",
     "text": [
      "2021-03-07 09:12:57,940 - __main__ - INFO - round-0_epoch-48: cycle\n",
      "2021-03-07 09:13:04,573 - __main__ - INFO - round-0_epoch-49: fit\n"
     ]
    },
    {
     "name": "stdout",
     "output_type": "stream",
     "text": [
      "Epoch 50/50\n",
      "118/118 [==============================] - 4s 34ms/step - loss: 27.9053 - reconstruction_loss: 20.9009 - kl_loss: 6.9992\n"
     ]
    },
    {
     "name": "stderr",
     "output_type": "stream",
     "text": [
      "2021-03-07 09:13:08,777 - __main__ - INFO - round-0_epoch-49: cycle\n",
      "2021-03-07 09:13:15,400 - __main__ - INFO - round-0_epoch-50: fit\n"
     ]
    },
    {
     "name": "stdout",
     "output_type": "stream",
     "text": [
      "Epoch 51/51\n",
      "118/118 [==============================] - 4s 34ms/step - loss: 27.8177 - reconstruction_loss: 20.7406 - kl_loss: 7.0263\n"
     ]
    },
    {
     "name": "stderr",
     "output_type": "stream",
     "text": [
      "2021-03-07 09:13:19,618 - __main__ - INFO - round-0_epoch-50: cycle\n",
      "2021-03-07 09:13:26,481 - __main__ - INFO - round-0_epoch-51: fit\n"
     ]
    },
    {
     "name": "stdout",
     "output_type": "stream",
     "text": [
      "Epoch 52/52\n",
      "118/118 [==============================] - 4s 34ms/step - loss: 27.8699 - reconstruction_loss: 20.6243 - kl_loss: 7.0283\n"
     ]
    },
    {
     "name": "stderr",
     "output_type": "stream",
     "text": [
      "2021-03-07 09:13:30,704 - __main__ - INFO - round-0_epoch-51: cycle\n",
      "2021-03-07 09:13:37,612 - __main__ - INFO - round-0_epoch-52: fit\n"
     ]
    },
    {
     "name": "stdout",
     "output_type": "stream",
     "text": [
      "Epoch 53/53\n",
      "118/118 [==============================] - 4s 34ms/step - loss: 27.6092 - reconstruction_loss: 20.5083 - kl_loss: 7.0527\n"
     ]
    },
    {
     "name": "stderr",
     "output_type": "stream",
     "text": [
      "2021-03-07 09:13:41,823 - __main__ - INFO - round-0_epoch-52: cycle\n",
      "2021-03-07 09:13:48,640 - __main__ - INFO - round-0_epoch-53: fit\n"
     ]
    },
    {
     "name": "stdout",
     "output_type": "stream",
     "text": [
      "Epoch 54/54\n",
      "118/118 [==============================] - 4s 34ms/step - loss: 27.5042 - reconstruction_loss: 20.4986 - kl_loss: 7.0697\n"
     ]
    },
    {
     "name": "stderr",
     "output_type": "stream",
     "text": [
      "2021-03-07 09:13:52,848 - __main__ - INFO - round-0_epoch-53: cycle\n",
      "2021-03-07 09:13:59,826 - __main__ - INFO - round-0_epoch-54: fit\n"
     ]
    },
    {
     "name": "stdout",
     "output_type": "stream",
     "text": [
      "Epoch 55/55\n",
      "118/118 [==============================] - 4s 34ms/step - loss: 27.6007 - reconstruction_loss: 20.4824 - kl_loss: 7.0703\n"
     ]
    },
    {
     "name": "stderr",
     "output_type": "stream",
     "text": [
      "2021-03-07 09:14:04,083 - __main__ - INFO - round-0_epoch-54: cycle\n",
      "2021-03-07 09:14:10,989 - __main__ - INFO - round-0_epoch-55: fit\n"
     ]
    },
    {
     "name": "stdout",
     "output_type": "stream",
     "text": [
      "Epoch 56/56\n",
      "118/118 [==============================] - 4s 34ms/step - loss: 27.4983 - reconstruction_loss: 20.3740 - kl_loss: 7.0711\n"
     ]
    },
    {
     "name": "stderr",
     "output_type": "stream",
     "text": [
      "2021-03-07 09:14:15,207 - __main__ - INFO - round-0_epoch-55: cycle\n",
      "2021-03-07 09:14:22,178 - __main__ - INFO - round-0_epoch-56: fit\n"
     ]
    },
    {
     "name": "stdout",
     "output_type": "stream",
     "text": [
      "Epoch 57/57\n",
      "118/118 [==============================] - 4s 37ms/step - loss: 27.4731 - reconstruction_loss: 20.3377 - kl_loss: 7.0818: 1s - loss: 27.5004 - reconstruction_loss: 20.3263 -\n"
     ]
    },
    {
     "name": "stderr",
     "output_type": "stream",
     "text": [
      "2021-03-07 09:14:26,804 - __main__ - INFO - round-0_epoch-56: cycle\n",
      "2021-03-07 09:14:37,819 - __main__ - INFO - round-0_epoch-57: fit\n"
     ]
    },
    {
     "name": "stdout",
     "output_type": "stream",
     "text": [
      "Epoch 58/58\n",
      "118/118 [==============================] - 4s 36ms/step - loss: 27.3829 - reconstruction_loss: 20.2862 - kl_loss: 7.0777\n"
     ]
    },
    {
     "name": "stderr",
     "output_type": "stream",
     "text": [
      "2021-03-07 09:14:42,356 - __main__ - INFO - round-0_epoch-57: cycle\n",
      "2021-03-07 09:14:50,144 - __main__ - INFO - round-0_epoch-58: fit\n"
     ]
    },
    {
     "name": "stdout",
     "output_type": "stream",
     "text": [
      "Epoch 59/59\n",
      "118/118 [==============================] - 4s 35ms/step - loss: 27.2721 - reconstruction_loss: 20.1619 - kl_loss: 7.0868\n"
     ]
    },
    {
     "name": "stderr",
     "output_type": "stream",
     "text": [
      "2021-03-07 09:14:54,445 - __main__ - INFO - round-0_epoch-58: cycle\n",
      "2021-03-07 09:15:02,088 - __main__ - INFO - round-0_epoch-59: fit\n"
     ]
    },
    {
     "name": "stdout",
     "output_type": "stream",
     "text": [
      "Epoch 60/60\n",
      "118/118 [==============================] - 4s 35ms/step - loss: 27.3747 - reconstruction_loss: 20.2030 - kl_loss: 7.1058\n"
     ]
    },
    {
     "name": "stderr",
     "output_type": "stream",
     "text": [
      "2021-03-07 09:15:06,433 - __main__ - INFO - round-0_epoch-59: cycle\n",
      "2021-03-07 09:15:14,394 - __main__ - INFO - round-0_epoch-60: fit\n"
     ]
    },
    {
     "name": "stdout",
     "output_type": "stream",
     "text": [
      "Epoch 61/61\n",
      "118/118 [==============================] - 4s 35ms/step - loss: 27.2481 - reconstruction_loss: 20.0543 - kl_loss: 7.0909\n"
     ]
    },
    {
     "name": "stderr",
     "output_type": "stream",
     "text": [
      "2021-03-07 09:15:18,764 - __main__ - INFO - round-0_epoch-60: cycle\n",
      "2021-03-07 09:15:26,329 - __main__ - INFO - round-0_epoch-61: fit\n"
     ]
    },
    {
     "name": "stdout",
     "output_type": "stream",
     "text": [
      "Epoch 62/62\n",
      "118/118 [==============================] - 4s 35ms/step - loss: 27.1415 - reconstruction_loss: 19.9875 - kl_loss: 7.1287\n"
     ]
    },
    {
     "name": "stderr",
     "output_type": "stream",
     "text": [
      "2021-03-07 09:15:30,675 - __main__ - INFO - round-0_epoch-61: cycle\n",
      "2021-03-07 09:15:38,163 - __main__ - INFO - round-0_epoch-62: fit\n"
     ]
    },
    {
     "name": "stdout",
     "output_type": "stream",
     "text": [
      "Epoch 63/63\n",
      "118/118 [==============================] - 4s 34ms/step - loss: 27.2112 - reconstruction_loss: 19.9407 - kl_loss: 7.1240\n"
     ]
    },
    {
     "name": "stderr",
     "output_type": "stream",
     "text": [
      "2021-03-07 09:15:42,434 - __main__ - INFO - round-0_epoch-62: cycle\n",
      "2021-03-07 09:15:49,974 - __main__ - INFO - round-0_epoch-63: fit\n"
     ]
    },
    {
     "name": "stdout",
     "output_type": "stream",
     "text": [
      "Epoch 64/64\n",
      "118/118 [==============================] - 4s 34ms/step - loss: 58.6598 - reconstruction_loss: 47.6915 - kl_loss: 5.4860\n"
     ]
    },
    {
     "name": "stderr",
     "output_type": "stream",
     "text": [
      "2021-03-07 09:15:54,318 - __main__ - INFO - round-0_epoch-63: cycle\n",
      "2021-03-07 09:16:01,853 - __main__ - INFO - round-0_epoch-64: fit\n"
     ]
    },
    {
     "name": "stdout",
     "output_type": "stream",
     "text": [
      "Epoch 65/65\n",
      "118/118 [==============================] - 4s 34ms/step - loss: 33.2992 - reconstruction_loss: 26.2952 - kl_loss: 6.0795\n"
     ]
    },
    {
     "name": "stderr",
     "output_type": "stream",
     "text": [
      "2021-03-07 09:16:06,147 - __main__ - INFO - round-0_epoch-64: cycle\n",
      "2021-03-07 09:16:13,712 - __main__ - INFO - round-0_epoch-65: fit\n"
     ]
    },
    {
     "name": "stdout",
     "output_type": "stream",
     "text": [
      "Epoch 66/66\n",
      "118/118 [==============================] - 4s 35ms/step - loss: 30.7240 - reconstruction_loss: 23.9723 - kl_loss: 6.4949\n"
     ]
    },
    {
     "name": "stderr",
     "output_type": "stream",
     "text": [
      "2021-03-07 09:16:18,058 - __main__ - INFO - round-0_epoch-65: cycle\n",
      "2021-03-07 09:16:25,681 - __main__ - INFO - round-0_epoch-66: fit\n"
     ]
    },
    {
     "name": "stdout",
     "output_type": "stream",
     "text": [
      "Epoch 67/67\n",
      "118/118 [==============================] - 4s 34ms/step - loss: 29.8824 - reconstruction_loss: 23.1177 - kl_loss: 6.6532\n"
     ]
    },
    {
     "name": "stderr",
     "output_type": "stream",
     "text": [
      "2021-03-07 09:16:30,007 - __main__ - INFO - round-0_epoch-66: cycle\n",
      "2021-03-07 09:16:37,726 - __main__ - INFO - round-0_epoch-67: fit\n"
     ]
    },
    {
     "name": "stdout",
     "output_type": "stream",
     "text": [
      "Epoch 68/68\n",
      "118/118 [==============================] - 4s 34ms/step - loss: 29.2393 - reconstruction_loss: 22.3820 - kl_loss: 6.7554\n"
     ]
    },
    {
     "name": "stderr",
     "output_type": "stream",
     "text": [
      "2021-03-07 09:16:42,000 - __main__ - INFO - round-0_epoch-67: cycle\n",
      "2021-03-07 09:16:49,687 - __main__ - INFO - round-0_epoch-68: fit\n"
     ]
    },
    {
     "name": "stdout",
     "output_type": "stream",
     "text": [
      "Epoch 69/69\n",
      "118/118 [==============================] - 4s 35ms/step - loss: 28.8820 - reconstruction_loss: 21.8799 - kl_loss: 6.8501\n"
     ]
    },
    {
     "name": "stderr",
     "output_type": "stream",
     "text": [
      "2021-03-07 09:16:54,023 - __main__ - INFO - round-0_epoch-68: cycle\n",
      "2021-03-07 09:17:01,902 - __main__ - INFO - round-0_epoch-69: fit\n"
     ]
    },
    {
     "name": "stdout",
     "output_type": "stream",
     "text": [
      "Epoch 70/70\n",
      "118/118 [==============================] - 4s 35ms/step - loss: 28.5415 - reconstruction_loss: 21.5336 - kl_loss: 6.8790\n"
     ]
    },
    {
     "name": "stderr",
     "output_type": "stream",
     "text": [
      "2021-03-07 09:17:06,233 - __main__ - INFO - round-0_epoch-69: cycle\n",
      "2021-03-07 09:17:14,012 - __main__ - INFO - round-0_epoch-70: fit\n"
     ]
    },
    {
     "name": "stdout",
     "output_type": "stream",
     "text": [
      "Epoch 71/71\n",
      "118/118 [==============================] - 4s 35ms/step - loss: 28.3206 - reconstruction_loss: 21.2840 - kl_loss: 6.9176\n"
     ]
    },
    {
     "name": "stderr",
     "output_type": "stream",
     "text": [
      "2021-03-07 09:17:18,314 - __main__ - INFO - round-0_epoch-70: cycle\n",
      "2021-03-07 09:17:26,057 - __main__ - INFO - round-0_epoch-71: fit\n"
     ]
    },
    {
     "name": "stdout",
     "output_type": "stream",
     "text": [
      "Epoch 72/72\n",
      "118/118 [==============================] - 4s 34ms/step - loss: 28.1002 - reconstruction_loss: 21.1309 - kl_loss: 6.9606\n"
     ]
    },
    {
     "name": "stderr",
     "output_type": "stream",
     "text": [
      "2021-03-07 09:17:30,363 - __main__ - INFO - round-0_epoch-71: cycle\n",
      "2021-03-07 09:17:38,555 - __main__ - INFO - round-0_epoch-72: fit\n"
     ]
    },
    {
     "name": "stdout",
     "output_type": "stream",
     "text": [
      "Epoch 73/73\n",
      "118/118 [==============================] - 4s 35ms/step - loss: 28.0385 - reconstruction_loss: 21.0010 - kl_loss: 6.9849\n"
     ]
    },
    {
     "name": "stderr",
     "output_type": "stream",
     "text": [
      "2021-03-07 09:17:42,906 - __main__ - INFO - round-0_epoch-72: cycle\n",
      "2021-03-07 09:17:50,883 - __main__ - INFO - round-0_epoch-73: fit\n"
     ]
    },
    {
     "name": "stdout",
     "output_type": "stream",
     "text": [
      "Epoch 74/74\n",
      "118/118 [==============================] - 4s 35ms/step - loss: 27.8111 - reconstruction_loss: 20.8474 - kl_loss: 7.0083\n"
     ]
    },
    {
     "name": "stderr",
     "output_type": "stream",
     "text": [
      "2021-03-07 09:17:55,233 - __main__ - INFO - round-0_epoch-73: cycle\n",
      "2021-03-07 09:18:03,400 - __main__ - INFO - round-0_epoch-74: fit\n"
     ]
    },
    {
     "name": "stdout",
     "output_type": "stream",
     "text": [
      "Epoch 75/75\n",
      "118/118 [==============================] - 4s 35ms/step - loss: 27.6862 - reconstruction_loss: 20.6176 - kl_loss: 7.0136\n"
     ]
    },
    {
     "name": "stderr",
     "output_type": "stream",
     "text": [
      "2021-03-07 09:18:07,737 - __main__ - INFO - round-0_epoch-74: cycle\n",
      "2021-03-07 09:18:15,969 - __main__ - INFO - round-0_epoch-75: fit\n"
     ]
    },
    {
     "name": "stdout",
     "output_type": "stream",
     "text": [
      "Epoch 76/76\n",
      "118/118 [==============================] - 4s 35ms/step - loss: 27.6255 - reconstruction_loss: 20.6275 - kl_loss: 7.0436\n"
     ]
    },
    {
     "name": "stderr",
     "output_type": "stream",
     "text": [
      "2021-03-07 09:18:20,327 - __main__ - INFO - round-0_epoch-75: cycle\n",
      "2021-03-07 09:18:28,466 - __main__ - INFO - round-0_epoch-76: fit\n"
     ]
    },
    {
     "name": "stdout",
     "output_type": "stream",
     "text": [
      "Epoch 77/77\n",
      "118/118 [==============================] - 4s 35ms/step - loss: 27.4018 - reconstruction_loss: 20.3349 - kl_loss: 7.0494\n"
     ]
    },
    {
     "name": "stderr",
     "output_type": "stream",
     "text": [
      "2021-03-07 09:18:32,863 - __main__ - INFO - round-0_epoch-76: cycle\n",
      "2021-03-07 09:18:41,020 - __main__ - INFO - round-0_epoch-77: fit\n"
     ]
    },
    {
     "name": "stdout",
     "output_type": "stream",
     "text": [
      "Epoch 78/78\n",
      "118/118 [==============================] - 4s 35ms/step - loss: 27.3892 - reconstruction_loss: 20.2686 - kl_loss: 7.0832\n"
     ]
    },
    {
     "name": "stderr",
     "output_type": "stream",
     "text": [
      "2021-03-07 09:18:45,350 - __main__ - INFO - round-0_epoch-77: cycle\n",
      "2021-03-07 09:18:53,747 - __main__ - INFO - round-0_epoch-78: fit\n"
     ]
    },
    {
     "name": "stdout",
     "output_type": "stream",
     "text": [
      "Epoch 79/79\n",
      "118/118 [==============================] - 4s 35ms/step - loss: 27.3441 - reconstruction_loss: 20.2104 - kl_loss: 7.0956\n"
     ]
    },
    {
     "name": "stderr",
     "output_type": "stream",
     "text": [
      "2021-03-07 09:18:58,108 - __main__ - INFO - round-0_epoch-78: cycle\n",
      "2021-03-07 09:19:06,466 - __main__ - INFO - round-0_epoch-79: fit\n"
     ]
    },
    {
     "name": "stdout",
     "output_type": "stream",
     "text": [
      "Epoch 80/80\n",
      "118/118 [==============================] - 4s 35ms/step - loss: 27.2212 - reconstruction_loss: 20.0327 - kl_loss: 7.1126\n"
     ]
    },
    {
     "name": "stderr",
     "output_type": "stream",
     "text": [
      "2021-03-07 09:19:10,823 - __main__ - INFO - round-0_epoch-79: cycle\n",
      "2021-03-07 09:19:19,298 - __main__ - INFO - round-0_epoch-80: fit\n"
     ]
    },
    {
     "name": "stdout",
     "output_type": "stream",
     "text": [
      "Epoch 81/81\n",
      "118/118 [==============================] - 4s 35ms/step - loss: 27.2357 - reconstruction_loss: 20.0360 - kl_loss: 7.1027\n"
     ]
    },
    {
     "name": "stderr",
     "output_type": "stream",
     "text": [
      "2021-03-07 09:19:23,732 - __main__ - INFO - round-0_epoch-80: cycle\n",
      "2021-03-07 09:19:32,201 - __main__ - INFO - round-0_epoch-81: fit\n"
     ]
    },
    {
     "name": "stdout",
     "output_type": "stream",
     "text": [
      "Epoch 82/82\n",
      "118/118 [==============================] - 4s 35ms/step - loss: 27.1350 - reconstruction_loss: 19.9550 - kl_loss: 7.1367\n"
     ]
    },
    {
     "name": "stderr",
     "output_type": "stream",
     "text": [
      "2021-03-07 09:19:36,591 - __main__ - INFO - round-0_epoch-81: cycle\n",
      "2021-03-07 09:19:45,135 - __main__ - INFO - round-0_epoch-82: fit\n"
     ]
    },
    {
     "name": "stdout",
     "output_type": "stream",
     "text": [
      "Epoch 83/83\n",
      "118/118 [==============================] - 4s 36ms/step - loss: 27.1488 - reconstruction_loss: 19.9379 - kl_loss: 7.1264\n"
     ]
    },
    {
     "name": "stderr",
     "output_type": "stream",
     "text": [
      "2021-03-07 09:19:49,578 - __main__ - INFO - round-0_epoch-82: cycle\n",
      "2021-03-07 09:19:58,092 - __main__ - INFO - round-0_epoch-83: fit\n"
     ]
    },
    {
     "name": "stdout",
     "output_type": "stream",
     "text": [
      "Epoch 84/84\n",
      "118/118 [==============================] - 4s 35ms/step - loss: 27.1044 - reconstruction_loss: 19.8802 - kl_loss: 7.1315\n"
     ]
    },
    {
     "name": "stderr",
     "output_type": "stream",
     "text": [
      "2021-03-07 09:20:02,503 - __main__ - INFO - round-0_epoch-83: cycle\n",
      "2021-03-07 09:20:11,300 - __main__ - INFO - round-0_epoch-84: fit\n"
     ]
    },
    {
     "name": "stdout",
     "output_type": "stream",
     "text": [
      "Epoch 85/85\n",
      "118/118 [==============================] - 4s 36ms/step - loss: 27.0558 - reconstruction_loss: 19.8598 - kl_loss: 7.1499\n"
     ]
    },
    {
     "name": "stderr",
     "output_type": "stream",
     "text": [
      "2021-03-07 09:20:15,765 - __main__ - INFO - round-0_epoch-84: cycle\n",
      "2021-03-07 09:20:24,524 - __main__ - INFO - round-0_epoch-85: fit\n"
     ]
    },
    {
     "name": "stdout",
     "output_type": "stream",
     "text": [
      "Epoch 86/86\n",
      "118/118 [==============================] - 4s 36ms/step - loss: 27.0045 - reconstruction_loss: 19.8827 - kl_loss: 7.1275\n"
     ]
    },
    {
     "name": "stderr",
     "output_type": "stream",
     "text": [
      "2021-03-07 09:20:28,951 - __main__ - INFO - round-0_epoch-85: cycle\n",
      "2021-03-07 09:20:39,576 - __main__ - INFO - round-0_epoch-86: fit\n"
     ]
    },
    {
     "name": "stdout",
     "output_type": "stream",
     "text": [
      "Epoch 87/87\n",
      "118/118 [==============================] - 4s 36ms/step - loss: 27.2057 - reconstruction_loss: 19.9149 - kl_loss: 7.1485\n"
     ]
    },
    {
     "name": "stderr",
     "output_type": "stream",
     "text": [
      "2021-03-07 09:20:44,034 - __main__ - INFO - round-0_epoch-86: cycle\n",
      "2021-03-07 09:20:52,813 - __main__ - INFO - round-0_epoch-87: fit\n"
     ]
    },
    {
     "name": "stdout",
     "output_type": "stream",
     "text": [
      "Epoch 88/88\n",
      "118/118 [==============================] - 4s 35ms/step - loss: 26.9497 - reconstruction_loss: 19.7160 - kl_loss: 7.1741\n"
     ]
    },
    {
     "name": "stderr",
     "output_type": "stream",
     "text": [
      "2021-03-07 09:20:57,209 - __main__ - INFO - round-0_epoch-87: cycle\n",
      "2021-03-07 09:21:06,343 - __main__ - INFO - round-0_epoch-88: fit\n"
     ]
    },
    {
     "name": "stdout",
     "output_type": "stream",
     "text": [
      "Epoch 89/89\n",
      "118/118 [==============================] - 4s 36ms/step - loss: 26.9330 - reconstruction_loss: 19.7278 - kl_loss: 7.1765\n"
     ]
    },
    {
     "name": "stderr",
     "output_type": "stream",
     "text": [
      "2021-03-07 09:21:10,790 - __main__ - INFO - round-0_epoch-88: cycle\n",
      "2021-03-07 09:21:19,686 - __main__ - INFO - round-0_epoch-89: fit\n"
     ]
    },
    {
     "name": "stdout",
     "output_type": "stream",
     "text": [
      "Epoch 90/90\n",
      "118/118 [==============================] - 4s 35ms/step - loss: 26.7672 - reconstruction_loss: 19.6257 - kl_loss: 7.1736\n"
     ]
    },
    {
     "name": "stderr",
     "output_type": "stream",
     "text": [
      "2021-03-07 09:21:24,106 - __main__ - INFO - round-0_epoch-89: cycle\n",
      "2021-03-07 09:21:33,089 - __main__ - INFO - round-0_epoch-90: fit\n"
     ]
    },
    {
     "name": "stdout",
     "output_type": "stream",
     "text": [
      "Epoch 91/91\n",
      "118/118 [==============================] - 4s 36ms/step - loss: 26.8415 - reconstruction_loss: 19.5924 - kl_loss: 7.1878\n"
     ]
    },
    {
     "name": "stderr",
     "output_type": "stream",
     "text": [
      "2021-03-07 09:21:37,531 - __main__ - INFO - round-0_epoch-90: cycle\n",
      "2021-03-07 09:21:46,392 - __main__ - INFO - round-0_epoch-91: fit\n"
     ]
    },
    {
     "name": "stdout",
     "output_type": "stream",
     "text": [
      "Epoch 92/92\n",
      "118/118 [==============================] - 4s 36ms/step - loss: 26.9040 - reconstruction_loss: 19.6250 - kl_loss: 7.1915\n"
     ]
    },
    {
     "name": "stderr",
     "output_type": "stream",
     "text": [
      "2021-03-07 09:21:50,845 - __main__ - INFO - round-0_epoch-91: cycle\n",
      "2021-03-07 09:21:59,731 - __main__ - INFO - round-0_epoch-92: fit\n"
     ]
    },
    {
     "name": "stdout",
     "output_type": "stream",
     "text": [
      "Epoch 93/93\n",
      "118/118 [==============================] - 4s 36ms/step - loss: 26.6784 - reconstruction_loss: 19.5635 - kl_loss: 7.1777\n"
     ]
    },
    {
     "name": "stderr",
     "output_type": "stream",
     "text": [
      "2021-03-07 09:22:04,240 - __main__ - INFO - round-0_epoch-92: cycle\n",
      "2021-03-07 09:22:13,411 - __main__ - INFO - round-0_epoch-93: fit\n"
     ]
    },
    {
     "name": "stdout",
     "output_type": "stream",
     "text": [
      "Epoch 94/94\n",
      "118/118 [==============================] - 4s 36ms/step - loss: 26.6917 - reconstruction_loss: 19.4465 - kl_loss: 7.1717\n"
     ]
    },
    {
     "name": "stderr",
     "output_type": "stream",
     "text": [
      "2021-03-07 09:22:17,890 - __main__ - INFO - round-0_epoch-93: cycle\n",
      "2021-03-07 09:22:26,933 - __main__ - INFO - round-0_epoch-94: fit\n"
     ]
    },
    {
     "name": "stdout",
     "output_type": "stream",
     "text": [
      "Epoch 95/95\n",
      "118/118 [==============================] - 4s 36ms/step - loss: 26.9847 - reconstruction_loss: 19.5975 - kl_loss: 7.1754\n"
     ]
    },
    {
     "name": "stderr",
     "output_type": "stream",
     "text": [
      "2021-03-07 09:22:31,378 - __main__ - INFO - round-0_epoch-94: cycle\n",
      "2021-03-07 09:22:40,623 - __main__ - INFO - round-0_epoch-95: fit\n"
     ]
    },
    {
     "name": "stdout",
     "output_type": "stream",
     "text": [
      "Epoch 96/96\n",
      "118/118 [==============================] - 4s 36ms/step - loss: 26.6911 - reconstruction_loss: 19.5330 - kl_loss: 7.1861\n"
     ]
    },
    {
     "name": "stderr",
     "output_type": "stream",
     "text": [
      "2021-03-07 09:22:45,104 - __main__ - INFO - round-0_epoch-95: cycle\n",
      "2021-03-07 09:22:54,756 - __main__ - INFO - round-0_epoch-96: fit\n"
     ]
    },
    {
     "name": "stdout",
     "output_type": "stream",
     "text": [
      "Epoch 97/97\n",
      "118/118 [==============================] - 4s 36ms/step - loss: 26.7429 - reconstruction_loss: 19.4862 - kl_loss: 7.1980\n"
     ]
    },
    {
     "name": "stderr",
     "output_type": "stream",
     "text": [
      "2021-03-07 09:22:59,249 - __main__ - INFO - round-0_epoch-96: cycle\n"
     ]
    },
    {
     "ename": "MemoryError",
     "evalue": "Unable to allocate 312. MiB for an array with shape (20000, 64, 64, 1) and data type float32",
     "output_type": "error",
     "traceback": [
      "\u001b[1;31m---------------------------------------------------------------------------\u001b[0m",
      "\u001b[1;31mMemoryError\u001b[0m                               Traceback (most recent call last)",
      "\u001b[1;32m<ipython-input-7-58b673c49a18>\u001b[0m in \u001b[0;36m<module>\u001b[1;34m\u001b[0m\n\u001b[0;32m      1\u001b[0m \u001b[1;32mfor\u001b[0m \u001b[0mround\u001b[0m \u001b[1;32min\u001b[0m \u001b[0mrange\u001b[0m\u001b[1;33m(\u001b[0m\u001b[1;36m10\u001b[0m\u001b[1;33m)\u001b[0m\u001b[1;33m:\u001b[0m\u001b[1;33m\u001b[0m\u001b[1;33m\u001b[0m\u001b[0m\n\u001b[1;32m----> 2\u001b[1;33m     \u001b[0mrun_round\u001b[0m\u001b[1;33m(\u001b[0m\u001b[0mdatasets\u001b[0m\u001b[1;33m,\u001b[0m \u001b[0mae_builder\u001b[0m\u001b[1;33m,\u001b[0m \u001b[1;33m{\u001b[0m\u001b[1;34m'epochs'\u001b[0m\u001b[1;33m:\u001b[0m \u001b[1;36m250\u001b[0m\u001b[1;33m}\u001b[0m\u001b[1;33m,\u001b[0m \u001b[0mround\u001b[0m\u001b[1;33m)\u001b[0m\u001b[1;33m\u001b[0m\u001b[1;33m\u001b[0m\u001b[0m\n\u001b[0m",
      "\u001b[1;32m<ipython-input-6-b5c7980f3610>\u001b[0m in \u001b[0;36mrun_round\u001b[1;34m(datasets, ae_builder, params, round)\u001b[0m\n\u001b[0;32m     44\u001b[0m \u001b[1;33m\u001b[0m\u001b[0m\n\u001b[0;32m     45\u001b[0m         \u001b[0mlogger\u001b[0m\u001b[1;33m.\u001b[0m\u001b[0minfo\u001b[0m\u001b[1;33m(\u001b[0m\u001b[1;34m\"round-%d_epoch-%d: cycle\"\u001b[0m \u001b[1;33m%\u001b[0m \u001b[1;33m(\u001b[0m\u001b[0mround\u001b[0m\u001b[1;33m,\u001b[0m \u001b[0mepoch\u001b[0m\u001b[1;33m)\u001b[0m\u001b[1;33m)\u001b[0m\u001b[1;33m\u001b[0m\u001b[1;33m\u001b[0m\u001b[0m\n\u001b[1;32m---> 46\u001b[1;33m         \u001b[0mdataset_grid_out\u001b[0m \u001b[1;33m=\u001b[0m \u001b[0mcycle_autoencoder\u001b[0m\u001b[1;33m(\u001b[0m\u001b[0mmodels\u001b[0m\u001b[1;33m,\u001b[0m \u001b[0mdatasets\u001b[0m\u001b[1;33m[\u001b[0m\u001b[1;34m'grid'\u001b[0m\u001b[1;33m]\u001b[0m\u001b[1;33m,\u001b[0m \u001b[0mvae\u001b[0m\u001b[1;33m=\u001b[0m\u001b[1;32mTrue\u001b[0m\u001b[1;33m,\u001b[0m \u001b[0mdisplay\u001b[0m\u001b[1;33m=\u001b[0m\u001b[1;32mFalse\u001b[0m\u001b[1;33m)\u001b[0m\u001b[1;33m\u001b[0m\u001b[1;33m\u001b[0m\u001b[0m\n\u001b[0m\u001b[0;32m     47\u001b[0m         \u001b[0msave_visualization\u001b[0m\u001b[1;33m(\u001b[0m\u001b[0mdatasets\u001b[0m\u001b[1;33m,\u001b[0m \u001b[0mdataset_grid_out\u001b[0m\u001b[1;33m,\u001b[0m \u001b[0mround\u001b[0m\u001b[1;33m,\u001b[0m \u001b[0mepoch\u001b[0m\u001b[1;33m)\u001b[0m\u001b[1;33m\u001b[0m\u001b[1;33m\u001b[0m\u001b[0m\n\u001b[0;32m     48\u001b[0m \u001b[1;33m\u001b[0m\u001b[0m\n",
      "\u001b[1;32m<ipython-input-2-038b786d298b>\u001b[0m in \u001b[0;36mcycle_autoencoder\u001b[1;34m(ae, dataset, prefix, N, vae, display)\u001b[0m\n\u001b[0;32m     12\u001b[0m         \u001b[0mL\u001b[0m \u001b[1;33m=\u001b[0m \u001b[0mnp\u001b[0m\u001b[1;33m.\u001b[0m\u001b[0marray\u001b[0m\u001b[1;33m(\u001b[0m\u001b[0mL\u001b[0m\u001b[1;33m)\u001b[0m\u001b[1;33m[\u001b[0m\u001b[1;36m2\u001b[0m\u001b[1;33m]\u001b[0m \u001b[1;31m# [z_mean, z_log_var, z] - take Z\u001b[0m\u001b[1;33m\u001b[0m\u001b[1;33m\u001b[0m\u001b[0m\n\u001b[0;32m     13\u001b[0m \u001b[1;33m\u001b[0m\u001b[0m\n\u001b[1;32m---> 14\u001b[1;33m     \u001b[0mYY\u001b[0m \u001b[1;33m=\u001b[0m \u001b[0mae\u001b[0m\u001b[1;33m[\u001b[0m\u001b[1;34m'dec'\u001b[0m\u001b[1;33m]\u001b[0m\u001b[1;33m.\u001b[0m\u001b[0mpredict\u001b[0m\u001b[1;33m(\u001b[0m\u001b[0mL\u001b[0m\u001b[1;33m)\u001b[0m\u001b[1;33m\u001b[0m\u001b[1;33m\u001b[0m\u001b[0m\n\u001b[0m\u001b[0;32m     15\u001b[0m     \u001b[0mYY\u001b[0m \u001b[1;33m=\u001b[0m \u001b[0mnp\u001b[0m\u001b[1;33m.\u001b[0m\u001b[0marray\u001b[0m\u001b[1;33m(\u001b[0m\u001b[0mYY\u001b[0m\u001b[1;33m)\u001b[0m\u001b[1;33m\u001b[0m\u001b[1;33m\u001b[0m\u001b[0m\n\u001b[0;32m     16\u001b[0m     \u001b[1;32mif\u001b[0m \u001b[0mdisplay\u001b[0m\u001b[1;33m:\u001b[0m\u001b[1;33m\u001b[0m\u001b[1;33m\u001b[0m\u001b[0m\n",
      "\u001b[1;32mc:\\users\\alexa\\anaconda3\\envs\\autoenc2\\lib\\site-packages\\tensorflow\\python\\keras\\engine\\training.py\u001b[0m in \u001b[0;36mpredict\u001b[1;34m(self, x, batch_size, verbose, steps, callbacks, max_queue_size, workers, use_multiprocessing)\u001b[0m\n\u001b[0;32m   1645\u001b[0m       \u001b[0mcallbacks\u001b[0m\u001b[1;33m.\u001b[0m\u001b[0mon_predict_end\u001b[0m\u001b[1;33m(\u001b[0m\u001b[1;33m)\u001b[0m\u001b[1;33m\u001b[0m\u001b[1;33m\u001b[0m\u001b[0m\n\u001b[0;32m   1646\u001b[0m     \u001b[0mall_outputs\u001b[0m \u001b[1;33m=\u001b[0m \u001b[0mnest\u001b[0m\u001b[1;33m.\u001b[0m\u001b[0mmap_structure_up_to\u001b[0m\u001b[1;33m(\u001b[0m\u001b[0mbatch_outputs\u001b[0m\u001b[1;33m,\u001b[0m \u001b[0mconcat\u001b[0m\u001b[1;33m,\u001b[0m \u001b[0moutputs\u001b[0m\u001b[1;33m)\u001b[0m\u001b[1;33m\u001b[0m\u001b[1;33m\u001b[0m\u001b[0m\n\u001b[1;32m-> 1647\u001b[1;33m     \u001b[1;32mreturn\u001b[0m \u001b[0mtf_utils\u001b[0m\u001b[1;33m.\u001b[0m\u001b[0mto_numpy_or_python_type\u001b[0m\u001b[1;33m(\u001b[0m\u001b[0mall_outputs\u001b[0m\u001b[1;33m)\u001b[0m\u001b[1;33m\u001b[0m\u001b[1;33m\u001b[0m\u001b[0m\n\u001b[0m\u001b[0;32m   1648\u001b[0m \u001b[1;33m\u001b[0m\u001b[0m\n\u001b[0;32m   1649\u001b[0m   \u001b[1;32mdef\u001b[0m \u001b[0mreset_metrics\u001b[0m\u001b[1;33m(\u001b[0m\u001b[0mself\u001b[0m\u001b[1;33m)\u001b[0m\u001b[1;33m:\u001b[0m\u001b[1;33m\u001b[0m\u001b[1;33m\u001b[0m\u001b[0m\n",
      "\u001b[1;32mc:\\users\\alexa\\anaconda3\\envs\\autoenc2\\lib\\site-packages\\tensorflow\\python\\keras\\utils\\tf_utils.py\u001b[0m in \u001b[0;36mto_numpy_or_python_type\u001b[1;34m(tensors)\u001b[0m\n\u001b[0;32m    512\u001b[0m     \u001b[1;32mreturn\u001b[0m \u001b[0mt\u001b[0m  \u001b[1;31m# Don't turn ragged or sparse tensors to NumPy.\u001b[0m\u001b[1;33m\u001b[0m\u001b[1;33m\u001b[0m\u001b[0m\n\u001b[0;32m    513\u001b[0m \u001b[1;33m\u001b[0m\u001b[0m\n\u001b[1;32m--> 514\u001b[1;33m   \u001b[1;32mreturn\u001b[0m \u001b[0mnest\u001b[0m\u001b[1;33m.\u001b[0m\u001b[0mmap_structure\u001b[0m\u001b[1;33m(\u001b[0m\u001b[0m_to_single_numpy_or_python_type\u001b[0m\u001b[1;33m,\u001b[0m \u001b[0mtensors\u001b[0m\u001b[1;33m)\u001b[0m\u001b[1;33m\u001b[0m\u001b[1;33m\u001b[0m\u001b[0m\n\u001b[0m\u001b[0;32m    515\u001b[0m \u001b[1;33m\u001b[0m\u001b[0m\n\u001b[0;32m    516\u001b[0m \u001b[1;33m\u001b[0m\u001b[0m\n",
      "\u001b[1;32mc:\\users\\alexa\\anaconda3\\envs\\autoenc2\\lib\\site-packages\\tensorflow\\python\\util\\nest.py\u001b[0m in \u001b[0;36mmap_structure\u001b[1;34m(func, *structure, **kwargs)\u001b[0m\n\u001b[0;32m    657\u001b[0m \u001b[1;33m\u001b[0m\u001b[0m\n\u001b[0;32m    658\u001b[0m   return pack_sequence_as(\n\u001b[1;32m--> 659\u001b[1;33m       \u001b[0mstructure\u001b[0m\u001b[1;33m[\u001b[0m\u001b[1;36m0\u001b[0m\u001b[1;33m]\u001b[0m\u001b[1;33m,\u001b[0m \u001b[1;33m[\u001b[0m\u001b[0mfunc\u001b[0m\u001b[1;33m(\u001b[0m\u001b[1;33m*\u001b[0m\u001b[0mx\u001b[0m\u001b[1;33m)\u001b[0m \u001b[1;32mfor\u001b[0m \u001b[0mx\u001b[0m \u001b[1;32min\u001b[0m \u001b[0mentries\u001b[0m\u001b[1;33m]\u001b[0m\u001b[1;33m,\u001b[0m\u001b[1;33m\u001b[0m\u001b[1;33m\u001b[0m\u001b[0m\n\u001b[0m\u001b[0;32m    660\u001b[0m       expand_composites=expand_composites)\n\u001b[0;32m    661\u001b[0m \u001b[1;33m\u001b[0m\u001b[0m\n",
      "\u001b[1;32mc:\\users\\alexa\\anaconda3\\envs\\autoenc2\\lib\\site-packages\\tensorflow\\python\\util\\nest.py\u001b[0m in \u001b[0;36m<listcomp>\u001b[1;34m(.0)\u001b[0m\n\u001b[0;32m    657\u001b[0m \u001b[1;33m\u001b[0m\u001b[0m\n\u001b[0;32m    658\u001b[0m   return pack_sequence_as(\n\u001b[1;32m--> 659\u001b[1;33m       \u001b[0mstructure\u001b[0m\u001b[1;33m[\u001b[0m\u001b[1;36m0\u001b[0m\u001b[1;33m]\u001b[0m\u001b[1;33m,\u001b[0m \u001b[1;33m[\u001b[0m\u001b[0mfunc\u001b[0m\u001b[1;33m(\u001b[0m\u001b[1;33m*\u001b[0m\u001b[0mx\u001b[0m\u001b[1;33m)\u001b[0m \u001b[1;32mfor\u001b[0m \u001b[0mx\u001b[0m \u001b[1;32min\u001b[0m \u001b[0mentries\u001b[0m\u001b[1;33m]\u001b[0m\u001b[1;33m,\u001b[0m\u001b[1;33m\u001b[0m\u001b[1;33m\u001b[0m\u001b[0m\n\u001b[0m\u001b[0;32m    660\u001b[0m       expand_composites=expand_composites)\n\u001b[0;32m    661\u001b[0m \u001b[1;33m\u001b[0m\u001b[0m\n",
      "\u001b[1;32mc:\\users\\alexa\\anaconda3\\envs\\autoenc2\\lib\\site-packages\\tensorflow\\python\\keras\\utils\\tf_utils.py\u001b[0m in \u001b[0;36m_to_single_numpy_or_python_type\u001b[1;34m(t)\u001b[0m\n\u001b[0;32m    508\u001b[0m   \u001b[1;32mdef\u001b[0m \u001b[0m_to_single_numpy_or_python_type\u001b[0m\u001b[1;33m(\u001b[0m\u001b[0mt\u001b[0m\u001b[1;33m)\u001b[0m\u001b[1;33m:\u001b[0m\u001b[1;33m\u001b[0m\u001b[1;33m\u001b[0m\u001b[0m\n\u001b[0;32m    509\u001b[0m     \u001b[1;32mif\u001b[0m \u001b[0misinstance\u001b[0m\u001b[1;33m(\u001b[0m\u001b[0mt\u001b[0m\u001b[1;33m,\u001b[0m \u001b[0mops\u001b[0m\u001b[1;33m.\u001b[0m\u001b[0mTensor\u001b[0m\u001b[1;33m)\u001b[0m\u001b[1;33m:\u001b[0m\u001b[1;33m\u001b[0m\u001b[1;33m\u001b[0m\u001b[0m\n\u001b[1;32m--> 510\u001b[1;33m       \u001b[0mx\u001b[0m \u001b[1;33m=\u001b[0m \u001b[0mt\u001b[0m\u001b[1;33m.\u001b[0m\u001b[0mnumpy\u001b[0m\u001b[1;33m(\u001b[0m\u001b[1;33m)\u001b[0m\u001b[1;33m\u001b[0m\u001b[1;33m\u001b[0m\u001b[0m\n\u001b[0m\u001b[0;32m    511\u001b[0m       \u001b[1;32mreturn\u001b[0m \u001b[0mx\u001b[0m\u001b[1;33m.\u001b[0m\u001b[0mitem\u001b[0m\u001b[1;33m(\u001b[0m\u001b[1;33m)\u001b[0m \u001b[1;32mif\u001b[0m \u001b[0mnp\u001b[0m\u001b[1;33m.\u001b[0m\u001b[0mndim\u001b[0m\u001b[1;33m(\u001b[0m\u001b[0mx\u001b[0m\u001b[1;33m)\u001b[0m \u001b[1;33m==\u001b[0m \u001b[1;36m0\u001b[0m \u001b[1;32melse\u001b[0m \u001b[0mx\u001b[0m\u001b[1;33m\u001b[0m\u001b[1;33m\u001b[0m\u001b[0m\n\u001b[0;32m    512\u001b[0m     \u001b[1;32mreturn\u001b[0m \u001b[0mt\u001b[0m  \u001b[1;31m# Don't turn ragged or sparse tensors to NumPy.\u001b[0m\u001b[1;33m\u001b[0m\u001b[1;33m\u001b[0m\u001b[0m\n",
      "\u001b[1;32mc:\\users\\alexa\\anaconda3\\envs\\autoenc2\\lib\\site-packages\\tensorflow\\python\\framework\\ops.py\u001b[0m in \u001b[0;36mnumpy\u001b[1;34m(self)\u001b[0m\n\u001b[0;32m   1070\u001b[0m     \u001b[1;31m# TODO(slebedev): Consider avoiding a copy for non-CPU or remote tensors.\u001b[0m\u001b[1;33m\u001b[0m\u001b[1;33m\u001b[0m\u001b[1;33m\u001b[0m\u001b[0m\n\u001b[0;32m   1071\u001b[0m     \u001b[0mmaybe_arr\u001b[0m \u001b[1;33m=\u001b[0m \u001b[0mself\u001b[0m\u001b[1;33m.\u001b[0m\u001b[0m_numpy\u001b[0m\u001b[1;33m(\u001b[0m\u001b[1;33m)\u001b[0m  \u001b[1;31m# pylint: disable=protected-access\u001b[0m\u001b[1;33m\u001b[0m\u001b[1;33m\u001b[0m\u001b[0m\n\u001b[1;32m-> 1072\u001b[1;33m     \u001b[1;32mreturn\u001b[0m \u001b[0mmaybe_arr\u001b[0m\u001b[1;33m.\u001b[0m\u001b[0mcopy\u001b[0m\u001b[1;33m(\u001b[0m\u001b[1;33m)\u001b[0m \u001b[1;32mif\u001b[0m \u001b[0misinstance\u001b[0m\u001b[1;33m(\u001b[0m\u001b[0mmaybe_arr\u001b[0m\u001b[1;33m,\u001b[0m \u001b[0mnp\u001b[0m\u001b[1;33m.\u001b[0m\u001b[0mndarray\u001b[0m\u001b[1;33m)\u001b[0m \u001b[1;32melse\u001b[0m \u001b[0mmaybe_arr\u001b[0m\u001b[1;33m\u001b[0m\u001b[1;33m\u001b[0m\u001b[0m\n\u001b[0m\u001b[0;32m   1073\u001b[0m \u001b[1;33m\u001b[0m\u001b[0m\n\u001b[0;32m   1074\u001b[0m   \u001b[1;33m@\u001b[0m\u001b[0mproperty\u001b[0m\u001b[1;33m\u001b[0m\u001b[1;33m\u001b[0m\u001b[0m\n",
      "\u001b[1;31mMemoryError\u001b[0m: Unable to allocate 312. MiB for an array with shape (20000, 64, 64, 1) and data type float32"
     ]
    },
    {
     "data": {
      "text/plain": [
       "<Figure size 1080x864 with 0 Axes>"
      ]
     },
     "metadata": {},
     "output_type": "display_data"
    },
    {
     "data": {
      "text/plain": [
       "<Figure size 288x144 with 0 Axes>"
      ]
     },
     "metadata": {},
     "output_type": "display_data"
    },
    {
     "data": {
      "text/plain": [
       "<Figure size 1080x864 with 0 Axes>"
      ]
     },
     "metadata": {},
     "output_type": "display_data"
    },
    {
     "data": {
      "text/plain": [
       "<Figure size 288x144 with 0 Axes>"
      ]
     },
     "metadata": {},
     "output_type": "display_data"
    },
    {
     "data": {
      "text/plain": [
       "<Figure size 1080x864 with 0 Axes>"
      ]
     },
     "metadata": {},
     "output_type": "display_data"
    },
    {
     "data": {
      "text/plain": [
       "<Figure size 288x144 with 0 Axes>"
      ]
     },
     "metadata": {},
     "output_type": "display_data"
    },
    {
     "data": {
      "text/plain": [
       "<Figure size 1080x864 with 0 Axes>"
      ]
     },
     "metadata": {},
     "output_type": "display_data"
    },
    {
     "data": {
      "text/plain": [
       "<Figure size 288x144 with 0 Axes>"
      ]
     },
     "metadata": {},
     "output_type": "display_data"
    },
    {
     "data": {
      "text/plain": [
       "<Figure size 1080x864 with 0 Axes>"
      ]
     },
     "metadata": {},
     "output_type": "display_data"
    },
    {
     "data": {
      "text/plain": [
       "<Figure size 288x144 with 0 Axes>"
      ]
     },
     "metadata": {},
     "output_type": "display_data"
    },
    {
     "data": {
      "text/plain": [
       "<Figure size 1080x864 with 0 Axes>"
      ]
     },
     "metadata": {},
     "output_type": "display_data"
    },
    {
     "data": {
      "text/plain": [
       "<Figure size 288x144 with 0 Axes>"
      ]
     },
     "metadata": {},
     "output_type": "display_data"
    },
    {
     "data": {
      "text/plain": [
       "<Figure size 1080x864 with 0 Axes>"
      ]
     },
     "metadata": {},
     "output_type": "display_data"
    },
    {
     "data": {
      "text/plain": [
       "<Figure size 288x144 with 0 Axes>"
      ]
     },
     "metadata": {},
     "output_type": "display_data"
    },
    {
     "data": {
      "text/plain": [
       "<Figure size 1080x864 with 0 Axes>"
      ]
     },
     "metadata": {},
     "output_type": "display_data"
    },
    {
     "data": {
      "text/plain": [
       "<Figure size 288x144 with 0 Axes>"
      ]
     },
     "metadata": {},
     "output_type": "display_data"
    },
    {
     "data": {
      "text/plain": [
       "<Figure size 1080x864 with 0 Axes>"
      ]
     },
     "metadata": {},
     "output_type": "display_data"
    },
    {
     "data": {
      "text/plain": [
       "<Figure size 288x144 with 0 Axes>"
      ]
     },
     "metadata": {},
     "output_type": "display_data"
    },
    {
     "data": {
      "text/plain": [
       "<Figure size 1080x864 with 0 Axes>"
      ]
     },
     "metadata": {},
     "output_type": "display_data"
    },
    {
     "data": {
      "text/plain": [
       "<Figure size 288x144 with 0 Axes>"
      ]
     },
     "metadata": {},
     "output_type": "display_data"
    },
    {
     "data": {
      "text/plain": [
       "<Figure size 1080x864 with 0 Axes>"
      ]
     },
     "metadata": {},
     "output_type": "display_data"
    },
    {
     "data": {
      "text/plain": [
       "<Figure size 288x144 with 0 Axes>"
      ]
     },
     "metadata": {},
     "output_type": "display_data"
    },
    {
     "data": {
      "text/plain": [
       "<Figure size 1080x864 with 0 Axes>"
      ]
     },
     "metadata": {},
     "output_type": "display_data"
    },
    {
     "data": {
      "text/plain": [
       "<Figure size 288x144 with 0 Axes>"
      ]
     },
     "metadata": {},
     "output_type": "display_data"
    },
    {
     "data": {
      "text/plain": [
       "<Figure size 1080x864 with 0 Axes>"
      ]
     },
     "metadata": {},
     "output_type": "display_data"
    },
    {
     "data": {
      "text/plain": [
       "<Figure size 288x144 with 0 Axes>"
      ]
     },
     "metadata": {},
     "output_type": "display_data"
    },
    {
     "data": {
      "text/plain": [
       "<Figure size 1080x864 with 0 Axes>"
      ]
     },
     "metadata": {},
     "output_type": "display_data"
    },
    {
     "data": {
      "text/plain": [
       "<Figure size 288x144 with 0 Axes>"
      ]
     },
     "metadata": {},
     "output_type": "display_data"
    },
    {
     "data": {
      "text/plain": [
       "<Figure size 1080x864 with 0 Axes>"
      ]
     },
     "metadata": {},
     "output_type": "display_data"
    },
    {
     "data": {
      "text/plain": [
       "<Figure size 288x144 with 0 Axes>"
      ]
     },
     "metadata": {},
     "output_type": "display_data"
    },
    {
     "data": {
      "text/plain": [
       "<Figure size 1080x864 with 0 Axes>"
      ]
     },
     "metadata": {},
     "output_type": "display_data"
    },
    {
     "data": {
      "text/plain": [
       "<Figure size 288x144 with 0 Axes>"
      ]
     },
     "metadata": {},
     "output_type": "display_data"
    },
    {
     "data": {
      "text/plain": [
       "<Figure size 1080x864 with 0 Axes>"
      ]
     },
     "metadata": {},
     "output_type": "display_data"
    },
    {
     "data": {
      "text/plain": [
       "<Figure size 288x144 with 0 Axes>"
      ]
     },
     "metadata": {},
     "output_type": "display_data"
    },
    {
     "data": {
      "text/plain": [
       "<Figure size 1080x864 with 0 Axes>"
      ]
     },
     "metadata": {},
     "output_type": "display_data"
    },
    {
     "data": {
      "text/plain": [
       "<Figure size 288x144 with 0 Axes>"
      ]
     },
     "metadata": {},
     "output_type": "display_data"
    },
    {
     "data": {
      "text/plain": [
       "<Figure size 1080x864 with 0 Axes>"
      ]
     },
     "metadata": {},
     "output_type": "display_data"
    },
    {
     "data": {
      "text/plain": [
       "<Figure size 288x144 with 0 Axes>"
      ]
     },
     "metadata": {},
     "output_type": "display_data"
    },
    {
     "data": {
      "text/plain": [
       "<Figure size 1080x864 with 0 Axes>"
      ]
     },
     "metadata": {},
     "output_type": "display_data"
    },
    {
     "data": {
      "text/plain": [
       "<Figure size 288x144 with 0 Axes>"
      ]
     },
     "metadata": {},
     "output_type": "display_data"
    },
    {
     "data": {
      "text/plain": [
       "<Figure size 1080x864 with 0 Axes>"
      ]
     },
     "metadata": {},
     "output_type": "display_data"
    },
    {
     "data": {
      "text/plain": [
       "<Figure size 288x144 with 0 Axes>"
      ]
     },
     "metadata": {},
     "output_type": "display_data"
    },
    {
     "data": {
      "text/plain": [
       "<Figure size 1080x864 with 0 Axes>"
      ]
     },
     "metadata": {},
     "output_type": "display_data"
    },
    {
     "data": {
      "text/plain": [
       "<Figure size 288x144 with 0 Axes>"
      ]
     },
     "metadata": {},
     "output_type": "display_data"
    },
    {
     "data": {
      "text/plain": [
       "<Figure size 1080x864 with 0 Axes>"
      ]
     },
     "metadata": {},
     "output_type": "display_data"
    },
    {
     "data": {
      "text/plain": [
       "<Figure size 288x144 with 0 Axes>"
      ]
     },
     "metadata": {},
     "output_type": "display_data"
    },
    {
     "data": {
      "text/plain": [
       "<Figure size 1080x864 with 0 Axes>"
      ]
     },
     "metadata": {},
     "output_type": "display_data"
    },
    {
     "data": {
      "text/plain": [
       "<Figure size 288x144 with 0 Axes>"
      ]
     },
     "metadata": {},
     "output_type": "display_data"
    },
    {
     "data": {
      "text/plain": [
       "<Figure size 1080x864 with 0 Axes>"
      ]
     },
     "metadata": {},
     "output_type": "display_data"
    },
    {
     "data": {
      "text/plain": [
       "<Figure size 288x144 with 0 Axes>"
      ]
     },
     "metadata": {},
     "output_type": "display_data"
    },
    {
     "data": {
      "text/plain": [
       "<Figure size 1080x864 with 0 Axes>"
      ]
     },
     "metadata": {},
     "output_type": "display_data"
    },
    {
     "data": {
      "text/plain": [
       "<Figure size 288x144 with 0 Axes>"
      ]
     },
     "metadata": {},
     "output_type": "display_data"
    },
    {
     "data": {
      "text/plain": [
       "<Figure size 1080x864 with 0 Axes>"
      ]
     },
     "metadata": {},
     "output_type": "display_data"
    },
    {
     "data": {
      "text/plain": [
       "<Figure size 288x144 with 0 Axes>"
      ]
     },
     "metadata": {},
     "output_type": "display_data"
    },
    {
     "data": {
      "text/plain": [
       "<Figure size 1080x864 with 0 Axes>"
      ]
     },
     "metadata": {},
     "output_type": "display_data"
    },
    {
     "data": {
      "text/plain": [
       "<Figure size 288x144 with 0 Axes>"
      ]
     },
     "metadata": {},
     "output_type": "display_data"
    },
    {
     "data": {
      "text/plain": [
       "<Figure size 1080x864 with 0 Axes>"
      ]
     },
     "metadata": {},
     "output_type": "display_data"
    },
    {
     "data": {
      "text/plain": [
       "<Figure size 288x144 with 0 Axes>"
      ]
     },
     "metadata": {},
     "output_type": "display_data"
    },
    {
     "data": {
      "text/plain": [
       "<Figure size 1080x864 with 0 Axes>"
      ]
     },
     "metadata": {},
     "output_type": "display_data"
    },
    {
     "data": {
      "text/plain": [
       "<Figure size 288x144 with 0 Axes>"
      ]
     },
     "metadata": {},
     "output_type": "display_data"
    },
    {
     "data": {
      "text/plain": [
       "<Figure size 1080x864 with 0 Axes>"
      ]
     },
     "metadata": {},
     "output_type": "display_data"
    },
    {
     "data": {
      "text/plain": [
       "<Figure size 288x144 with 0 Axes>"
      ]
     },
     "metadata": {},
     "output_type": "display_data"
    },
    {
     "data": {
      "text/plain": [
       "<Figure size 1080x864 with 0 Axes>"
      ]
     },
     "metadata": {},
     "output_type": "display_data"
    },
    {
     "data": {
      "text/plain": [
       "<Figure size 288x144 with 0 Axes>"
      ]
     },
     "metadata": {},
     "output_type": "display_data"
    },
    {
     "data": {
      "text/plain": [
       "<Figure size 1080x864 with 0 Axes>"
      ]
     },
     "metadata": {},
     "output_type": "display_data"
    },
    {
     "data": {
      "text/plain": [
       "<Figure size 288x144 with 0 Axes>"
      ]
     },
     "metadata": {},
     "output_type": "display_data"
    },
    {
     "data": {
      "text/plain": [
       "<Figure size 1080x864 with 0 Axes>"
      ]
     },
     "metadata": {},
     "output_type": "display_data"
    },
    {
     "data": {
      "text/plain": [
       "<Figure size 288x144 with 0 Axes>"
      ]
     },
     "metadata": {},
     "output_type": "display_data"
    },
    {
     "data": {
      "text/plain": [
       "<Figure size 1080x864 with 0 Axes>"
      ]
     },
     "metadata": {},
     "output_type": "display_data"
    },
    {
     "data": {
      "text/plain": [
       "<Figure size 288x144 with 0 Axes>"
      ]
     },
     "metadata": {},
     "output_type": "display_data"
    },
    {
     "data": {
      "text/plain": [
       "<Figure size 1080x864 with 0 Axes>"
      ]
     },
     "metadata": {},
     "output_type": "display_data"
    },
    {
     "data": {
      "text/plain": [
       "<Figure size 288x144 with 0 Axes>"
      ]
     },
     "metadata": {},
     "output_type": "display_data"
    },
    {
     "data": {
      "text/plain": [
       "<Figure size 1080x864 with 0 Axes>"
      ]
     },
     "metadata": {},
     "output_type": "display_data"
    },
    {
     "data": {
      "text/plain": [
       "<Figure size 288x144 with 0 Axes>"
      ]
     },
     "metadata": {},
     "output_type": "display_data"
    },
    {
     "data": {
      "text/plain": [
       "<Figure size 1080x864 with 0 Axes>"
      ]
     },
     "metadata": {},
     "output_type": "display_data"
    },
    {
     "data": {
      "text/plain": [
       "<Figure size 288x144 with 0 Axes>"
      ]
     },
     "metadata": {},
     "output_type": "display_data"
    },
    {
     "data": {
      "text/plain": [
       "<Figure size 1080x864 with 0 Axes>"
      ]
     },
     "metadata": {},
     "output_type": "display_data"
    },
    {
     "data": {
      "text/plain": [
       "<Figure size 288x144 with 0 Axes>"
      ]
     },
     "metadata": {},
     "output_type": "display_data"
    },
    {
     "data": {
      "text/plain": [
       "<Figure size 1080x864 with 0 Axes>"
      ]
     },
     "metadata": {},
     "output_type": "display_data"
    },
    {
     "data": {
      "text/plain": [
       "<Figure size 288x144 with 0 Axes>"
      ]
     },
     "metadata": {},
     "output_type": "display_data"
    },
    {
     "data": {
      "text/plain": [
       "<Figure size 1080x864 with 0 Axes>"
      ]
     },
     "metadata": {},
     "output_type": "display_data"
    },
    {
     "data": {
      "text/plain": [
       "<Figure size 288x144 with 0 Axes>"
      ]
     },
     "metadata": {},
     "output_type": "display_data"
    },
    {
     "data": {
      "text/plain": [
       "<Figure size 1080x864 with 0 Axes>"
      ]
     },
     "metadata": {},
     "output_type": "display_data"
    },
    {
     "data": {
      "text/plain": [
       "<Figure size 288x144 with 0 Axes>"
      ]
     },
     "metadata": {},
     "output_type": "display_data"
    },
    {
     "data": {
      "text/plain": [
       "<Figure size 1080x864 with 0 Axes>"
      ]
     },
     "metadata": {},
     "output_type": "display_data"
    },
    {
     "data": {
      "text/plain": [
       "<Figure size 288x144 with 0 Axes>"
      ]
     },
     "metadata": {},
     "output_type": "display_data"
    },
    {
     "data": {
      "text/plain": [
       "<Figure size 1080x864 with 0 Axes>"
      ]
     },
     "metadata": {},
     "output_type": "display_data"
    },
    {
     "data": {
      "text/plain": [
       "<Figure size 288x144 with 0 Axes>"
      ]
     },
     "metadata": {},
     "output_type": "display_data"
    },
    {
     "data": {
      "text/plain": [
       "<Figure size 1080x864 with 0 Axes>"
      ]
     },
     "metadata": {},
     "output_type": "display_data"
    },
    {
     "data": {
      "text/plain": [
       "<Figure size 288x144 with 0 Axes>"
      ]
     },
     "metadata": {},
     "output_type": "display_data"
    },
    {
     "data": {
      "text/plain": [
       "<Figure size 1080x864 with 0 Axes>"
      ]
     },
     "metadata": {},
     "output_type": "display_data"
    },
    {
     "data": {
      "text/plain": [
       "<Figure size 288x144 with 0 Axes>"
      ]
     },
     "metadata": {},
     "output_type": "display_data"
    },
    {
     "data": {
      "text/plain": [
       "<Figure size 1080x864 with 0 Axes>"
      ]
     },
     "metadata": {},
     "output_type": "display_data"
    },
    {
     "data": {
      "text/plain": [
       "<Figure size 288x144 with 0 Axes>"
      ]
     },
     "metadata": {},
     "output_type": "display_data"
    },
    {
     "data": {
      "text/plain": [
       "<Figure size 1080x864 with 0 Axes>"
      ]
     },
     "metadata": {},
     "output_type": "display_data"
    },
    {
     "data": {
      "text/plain": [
       "<Figure size 288x144 with 0 Axes>"
      ]
     },
     "metadata": {},
     "output_type": "display_data"
    },
    {
     "data": {
      "text/plain": [
       "<Figure size 1080x864 with 0 Axes>"
      ]
     },
     "metadata": {},
     "output_type": "display_data"
    },
    {
     "data": {
      "text/plain": [
       "<Figure size 288x144 with 0 Axes>"
      ]
     },
     "metadata": {},
     "output_type": "display_data"
    },
    {
     "data": {
      "text/plain": [
       "<Figure size 1080x864 with 0 Axes>"
      ]
     },
     "metadata": {},
     "output_type": "display_data"
    },
    {
     "data": {
      "text/plain": [
       "<Figure size 288x144 with 0 Axes>"
      ]
     },
     "metadata": {},
     "output_type": "display_data"
    },
    {
     "data": {
      "text/plain": [
       "<Figure size 1080x864 with 0 Axes>"
      ]
     },
     "metadata": {},
     "output_type": "display_data"
    },
    {
     "data": {
      "text/plain": [
       "<Figure size 288x144 with 0 Axes>"
      ]
     },
     "metadata": {},
     "output_type": "display_data"
    },
    {
     "data": {
      "text/plain": [
       "<Figure size 1080x864 with 0 Axes>"
      ]
     },
     "metadata": {},
     "output_type": "display_data"
    },
    {
     "data": {
      "text/plain": [
       "<Figure size 288x144 with 0 Axes>"
      ]
     },
     "metadata": {},
     "output_type": "display_data"
    },
    {
     "data": {
      "text/plain": [
       "<Figure size 1080x864 with 0 Axes>"
      ]
     },
     "metadata": {},
     "output_type": "display_data"
    },
    {
     "data": {
      "text/plain": [
       "<Figure size 288x144 with 0 Axes>"
      ]
     },
     "metadata": {},
     "output_type": "display_data"
    },
    {
     "data": {
      "text/plain": [
       "<Figure size 1080x864 with 0 Axes>"
      ]
     },
     "metadata": {},
     "output_type": "display_data"
    },
    {
     "data": {
      "text/plain": [
       "<Figure size 288x144 with 0 Axes>"
      ]
     },
     "metadata": {},
     "output_type": "display_data"
    },
    {
     "data": {
      "text/plain": [
       "<Figure size 1080x864 with 0 Axes>"
      ]
     },
     "metadata": {},
     "output_type": "display_data"
    },
    {
     "data": {
      "text/plain": [
       "<Figure size 288x144 with 0 Axes>"
      ]
     },
     "metadata": {},
     "output_type": "display_data"
    },
    {
     "data": {
      "text/plain": [
       "<Figure size 1080x864 with 0 Axes>"
      ]
     },
     "metadata": {},
     "output_type": "display_data"
    },
    {
     "data": {
      "text/plain": [
       "<Figure size 288x144 with 0 Axes>"
      ]
     },
     "metadata": {},
     "output_type": "display_data"
    },
    {
     "data": {
      "text/plain": [
       "<Figure size 1080x864 with 0 Axes>"
      ]
     },
     "metadata": {},
     "output_type": "display_data"
    },
    {
     "data": {
      "text/plain": [
       "<Figure size 288x144 with 0 Axes>"
      ]
     },
     "metadata": {},
     "output_type": "display_data"
    },
    {
     "data": {
      "text/plain": [
       "<Figure size 1080x864 with 0 Axes>"
      ]
     },
     "metadata": {},
     "output_type": "display_data"
    },
    {
     "data": {
      "text/plain": [
       "<Figure size 288x144 with 0 Axes>"
      ]
     },
     "metadata": {},
     "output_type": "display_data"
    },
    {
     "data": {
      "text/plain": [
       "<Figure size 1080x864 with 0 Axes>"
      ]
     },
     "metadata": {},
     "output_type": "display_data"
    },
    {
     "data": {
      "text/plain": [
       "<Figure size 288x144 with 0 Axes>"
      ]
     },
     "metadata": {},
     "output_type": "display_data"
    },
    {
     "data": {
      "text/plain": [
       "<Figure size 1080x864 with 0 Axes>"
      ]
     },
     "metadata": {},
     "output_type": "display_data"
    },
    {
     "data": {
      "text/plain": [
       "<Figure size 288x144 with 0 Axes>"
      ]
     },
     "metadata": {},
     "output_type": "display_data"
    },
    {
     "data": {
      "text/plain": [
       "<Figure size 1080x864 with 0 Axes>"
      ]
     },
     "metadata": {},
     "output_type": "display_data"
    },
    {
     "data": {
      "text/plain": [
       "<Figure size 288x144 with 0 Axes>"
      ]
     },
     "metadata": {},
     "output_type": "display_data"
    },
    {
     "data": {
      "text/plain": [
       "<Figure size 1080x864 with 0 Axes>"
      ]
     },
     "metadata": {},
     "output_type": "display_data"
    },
    {
     "data": {
      "text/plain": [
       "<Figure size 288x144 with 0 Axes>"
      ]
     },
     "metadata": {},
     "output_type": "display_data"
    },
    {
     "data": {
      "text/plain": [
       "<Figure size 1080x864 with 0 Axes>"
      ]
     },
     "metadata": {},
     "output_type": "display_data"
    },
    {
     "data": {
      "text/plain": [
       "<Figure size 288x144 with 0 Axes>"
      ]
     },
     "metadata": {},
     "output_type": "display_data"
    },
    {
     "data": {
      "text/plain": [
       "<Figure size 1080x864 with 0 Axes>"
      ]
     },
     "metadata": {},
     "output_type": "display_data"
    },
    {
     "data": {
      "text/plain": [
       "<Figure size 288x144 with 0 Axes>"
      ]
     },
     "metadata": {},
     "output_type": "display_data"
    },
    {
     "data": {
      "text/plain": [
       "<Figure size 1080x864 with 0 Axes>"
      ]
     },
     "metadata": {},
     "output_type": "display_data"
    },
    {
     "data": {
      "text/plain": [
       "<Figure size 288x144 with 0 Axes>"
      ]
     },
     "metadata": {},
     "output_type": "display_data"
    },
    {
     "data": {
      "text/plain": [
       "<Figure size 1080x864 with 0 Axes>"
      ]
     },
     "metadata": {},
     "output_type": "display_data"
    },
    {
     "data": {
      "text/plain": [
       "<Figure size 288x144 with 0 Axes>"
      ]
     },
     "metadata": {},
     "output_type": "display_data"
    },
    {
     "data": {
      "text/plain": [
       "<Figure size 1080x864 with 0 Axes>"
      ]
     },
     "metadata": {},
     "output_type": "display_data"
    },
    {
     "data": {
      "text/plain": [
       "<Figure size 288x144 with 0 Axes>"
      ]
     },
     "metadata": {},
     "output_type": "display_data"
    },
    {
     "data": {
      "text/plain": [
       "<Figure size 1080x864 with 0 Axes>"
      ]
     },
     "metadata": {},
     "output_type": "display_data"
    },
    {
     "data": {
      "text/plain": [
       "<Figure size 288x144 with 0 Axes>"
      ]
     },
     "metadata": {},
     "output_type": "display_data"
    },
    {
     "data": {
      "text/plain": [
       "<Figure size 1080x864 with 0 Axes>"
      ]
     },
     "metadata": {},
     "output_type": "display_data"
    },
    {
     "data": {
      "text/plain": [
       "<Figure size 288x144 with 0 Axes>"
      ]
     },
     "metadata": {},
     "output_type": "display_data"
    },
    {
     "data": {
      "text/plain": [
       "<Figure size 1080x864 with 0 Axes>"
      ]
     },
     "metadata": {},
     "output_type": "display_data"
    },
    {
     "data": {
      "text/plain": [
       "<Figure size 288x144 with 0 Axes>"
      ]
     },
     "metadata": {},
     "output_type": "display_data"
    },
    {
     "data": {
      "text/plain": [
       "<Figure size 1080x864 with 0 Axes>"
      ]
     },
     "metadata": {},
     "output_type": "display_data"
    },
    {
     "data": {
      "text/plain": [
       "<Figure size 288x144 with 0 Axes>"
      ]
     },
     "metadata": {},
     "output_type": "display_data"
    },
    {
     "data": {
      "text/plain": [
       "<Figure size 1080x864 with 0 Axes>"
      ]
     },
     "metadata": {},
     "output_type": "display_data"
    },
    {
     "data": {
      "text/plain": [
       "<Figure size 288x144 with 0 Axes>"
      ]
     },
     "metadata": {},
     "output_type": "display_data"
    },
    {
     "data": {
      "text/plain": [
       "<Figure size 1080x864 with 0 Axes>"
      ]
     },
     "metadata": {},
     "output_type": "display_data"
    },
    {
     "data": {
      "text/plain": [
       "<Figure size 288x144 with 0 Axes>"
      ]
     },
     "metadata": {},
     "output_type": "display_data"
    },
    {
     "data": {
      "text/plain": [
       "<Figure size 1080x864 with 0 Axes>"
      ]
     },
     "metadata": {},
     "output_type": "display_data"
    },
    {
     "data": {
      "text/plain": [
       "<Figure size 288x144 with 0 Axes>"
      ]
     },
     "metadata": {},
     "output_type": "display_data"
    },
    {
     "data": {
      "text/plain": [
       "<Figure size 1080x864 with 0 Axes>"
      ]
     },
     "metadata": {},
     "output_type": "display_data"
    },
    {
     "data": {
      "text/plain": [
       "<Figure size 288x144 with 0 Axes>"
      ]
     },
     "metadata": {},
     "output_type": "display_data"
    },
    {
     "data": {
      "text/plain": [
       "<Figure size 1080x864 with 0 Axes>"
      ]
     },
     "metadata": {},
     "output_type": "display_data"
    },
    {
     "data": {
      "text/plain": [
       "<Figure size 288x144 with 0 Axes>"
      ]
     },
     "metadata": {},
     "output_type": "display_data"
    },
    {
     "data": {
      "text/plain": [
       "<Figure size 1080x864 with 0 Axes>"
      ]
     },
     "metadata": {},
     "output_type": "display_data"
    },
    {
     "data": {
      "text/plain": [
       "<Figure size 288x144 with 0 Axes>"
      ]
     },
     "metadata": {},
     "output_type": "display_data"
    },
    {
     "data": {
      "text/plain": [
       "<Figure size 1080x864 with 0 Axes>"
      ]
     },
     "metadata": {},
     "output_type": "display_data"
    },
    {
     "data": {
      "text/plain": [
       "<Figure size 288x144 with 0 Axes>"
      ]
     },
     "metadata": {},
     "output_type": "display_data"
    },
    {
     "data": {
      "text/plain": [
       "<Figure size 1080x864 with 0 Axes>"
      ]
     },
     "metadata": {},
     "output_type": "display_data"
    },
    {
     "data": {
      "text/plain": [
       "<Figure size 288x144 with 0 Axes>"
      ]
     },
     "metadata": {},
     "output_type": "display_data"
    },
    {
     "data": {
      "text/plain": [
       "<Figure size 1080x864 with 0 Axes>"
      ]
     },
     "metadata": {},
     "output_type": "display_data"
    },
    {
     "data": {
      "text/plain": [
       "<Figure size 288x144 with 0 Axes>"
      ]
     },
     "metadata": {},
     "output_type": "display_data"
    },
    {
     "data": {
      "text/plain": [
       "<Figure size 1080x864 with 0 Axes>"
      ]
     },
     "metadata": {},
     "output_type": "display_data"
    },
    {
     "data": {
      "text/plain": [
       "<Figure size 288x144 with 0 Axes>"
      ]
     },
     "metadata": {},
     "output_type": "display_data"
    },
    {
     "data": {
      "text/plain": [
       "<Figure size 1080x864 with 0 Axes>"
      ]
     },
     "metadata": {},
     "output_type": "display_data"
    },
    {
     "data": {
      "text/plain": [
       "<Figure size 288x144 with 0 Axes>"
      ]
     },
     "metadata": {},
     "output_type": "display_data"
    },
    {
     "data": {
      "text/plain": [
       "<Figure size 1080x864 with 0 Axes>"
      ]
     },
     "metadata": {},
     "output_type": "display_data"
    },
    {
     "data": {
      "text/plain": [
       "<Figure size 288x144 with 0 Axes>"
      ]
     },
     "metadata": {},
     "output_type": "display_data"
    },
    {
     "data": {
      "text/plain": [
       "<Figure size 1080x864 with 0 Axes>"
      ]
     },
     "metadata": {},
     "output_type": "display_data"
    },
    {
     "data": {
      "text/plain": [
       "<Figure size 288x144 with 0 Axes>"
      ]
     },
     "metadata": {},
     "output_type": "display_data"
    },
    {
     "data": {
      "text/plain": [
       "<Figure size 1080x864 with 0 Axes>"
      ]
     },
     "metadata": {},
     "output_type": "display_data"
    },
    {
     "data": {
      "text/plain": [
       "<Figure size 288x144 with 0 Axes>"
      ]
     },
     "metadata": {},
     "output_type": "display_data"
    },
    {
     "data": {
      "text/plain": [
       "<Figure size 1080x864 with 0 Axes>"
      ]
     },
     "metadata": {},
     "output_type": "display_data"
    },
    {
     "data": {
      "text/plain": [
       "<Figure size 288x144 with 0 Axes>"
      ]
     },
     "metadata": {},
     "output_type": "display_data"
    },
    {
     "data": {
      "text/plain": [
       "<Figure size 1080x864 with 0 Axes>"
      ]
     },
     "metadata": {},
     "output_type": "display_data"
    },
    {
     "data": {
      "text/plain": [
       "<Figure size 288x144 with 0 Axes>"
      ]
     },
     "metadata": {},
     "output_type": "display_data"
    },
    {
     "data": {
      "text/plain": [
       "<Figure size 1080x864 with 0 Axes>"
      ]
     },
     "metadata": {},
     "output_type": "display_data"
    },
    {
     "data": {
      "text/plain": [
       "<Figure size 288x144 with 0 Axes>"
      ]
     },
     "metadata": {},
     "output_type": "display_data"
    },
    {
     "data": {
      "text/plain": [
       "<Figure size 1080x864 with 0 Axes>"
      ]
     },
     "metadata": {},
     "output_type": "display_data"
    },
    {
     "data": {
      "text/plain": [
       "<Figure size 288x144 with 0 Axes>"
      ]
     },
     "metadata": {},
     "output_type": "display_data"
    },
    {
     "data": {
      "text/plain": [
       "<Figure size 1080x864 with 0 Axes>"
      ]
     },
     "metadata": {},
     "output_type": "display_data"
    },
    {
     "data": {
      "text/plain": [
       "<Figure size 288x144 with 0 Axes>"
      ]
     },
     "metadata": {},
     "output_type": "display_data"
    },
    {
     "data": {
      "text/plain": [
       "<Figure size 1080x864 with 0 Axes>"
      ]
     },
     "metadata": {},
     "output_type": "display_data"
    },
    {
     "data": {
      "text/plain": [
       "<Figure size 288x144 with 0 Axes>"
      ]
     },
     "metadata": {},
     "output_type": "display_data"
    },
    {
     "data": {
      "text/plain": [
       "<Figure size 1080x864 with 0 Axes>"
      ]
     },
     "metadata": {},
     "output_type": "display_data"
    },
    {
     "data": {
      "text/plain": [
       "<Figure size 288x144 with 0 Axes>"
      ]
     },
     "metadata": {},
     "output_type": "display_data"
    },
    {
     "data": {
      "text/plain": [
       "<Figure size 1080x864 with 0 Axes>"
      ]
     },
     "metadata": {},
     "output_type": "display_data"
    },
    {
     "data": {
      "text/plain": [
       "<Figure size 288x144 with 0 Axes>"
      ]
     },
     "metadata": {},
     "output_type": "display_data"
    },
    {
     "data": {
      "text/plain": [
       "<Figure size 1080x864 with 0 Axes>"
      ]
     },
     "metadata": {},
     "output_type": "display_data"
    },
    {
     "data": {
      "text/plain": [
       "<Figure size 288x144 with 0 Axes>"
      ]
     },
     "metadata": {},
     "output_type": "display_data"
    },
    {
     "data": {
      "text/plain": [
       "<Figure size 1080x864 with 0 Axes>"
      ]
     },
     "metadata": {},
     "output_type": "display_data"
    },
    {
     "data": {
      "text/plain": [
       "<Figure size 288x144 with 0 Axes>"
      ]
     },
     "metadata": {},
     "output_type": "display_data"
    },
    {
     "data": {
      "text/plain": [
       "<Figure size 1080x864 with 0 Axes>"
      ]
     },
     "metadata": {},
     "output_type": "display_data"
    },
    {
     "data": {
      "text/plain": [
       "<Figure size 288x144 with 0 Axes>"
      ]
     },
     "metadata": {},
     "output_type": "display_data"
    }
   ],
   "source": [
    "for round in range(10):\n",
    "    run_round(datasets, ae_builder, {'epochs': 250}, round)"
   ]
  },
  {
   "cell_type": "markdown",
   "metadata": {},
   "source": [
    "### tensorboard"
   ]
  },
  {
   "cell_type": "code",
   "execution_count": null,
   "metadata": {},
   "outputs": [],
   "source": [
    "%tensorboard --logdir ..\\data\\output\\twoballs"
   ]
  },
  {
   "cell_type": "code",
   "execution_count": null,
   "metadata": {},
   "outputs": [],
   "source": []
  }
 ],
 "metadata": {
  "accelerator": "GPU",
  "colab": {
   "include_colab_link": true,
   "name": "robot-arm-vae2.ipynb",
   "provenance": []
  },
  "kernelspec": {
   "display_name": "Python 3",
   "language": "python",
   "name": "python3"
  },
  "language_info": {
   "codemirror_mode": {
    "name": "ipython",
    "version": 3
   },
   "file_extension": ".py",
   "mimetype": "text/x-python",
   "name": "python",
   "nbconvert_exporter": "python",
   "pygments_lexer": "ipython3",
   "version": "3.6.12"
  },
  "toc-autonumbering": true,
  "toc-showmarkdowntxt": false,
  "toc-showtags": true
 },
 "nbformat": 4,
 "nbformat_minor": 4
}
